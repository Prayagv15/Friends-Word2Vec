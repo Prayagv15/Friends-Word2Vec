{
 "cells": [
  {
   "cell_type": "code",
   "execution_count": 1,
   "id": "3d24ec48",
   "metadata": {},
   "outputs": [],
   "source": [
    "import os"
   ]
  },
  {
   "cell_type": "code",
   "execution_count": 2,
   "id": "5b786374",
   "metadata": {},
   "outputs": [
    {
     "data": {
      "text/plain": [
       "['.ipynb_checkpoints', 'Untitled.ipynb']"
      ]
     },
     "execution_count": 2,
     "metadata": {},
     "output_type": "execute_result"
    }
   ],
   "source": [
    "os.listdir()"
   ]
  },
  {
   "cell_type": "code",
   "execution_count": 6,
   "id": "4203f007",
   "metadata": {},
   "outputs": [],
   "source": [
    "path=\"C:\\\\Users\\\\Prayag V K\\\\Downloads\\\\Friends\""
   ]
  },
  {
   "cell_type": "code",
   "execution_count": 9,
   "id": "7c1cad75",
   "metadata": {},
   "outputs": [
    {
     "data": {
      "text/plain": [
       "'C:\\\\Users\\\\Prayag V K\\\\Friends'"
      ]
     },
     "execution_count": 9,
     "metadata": {},
     "output_type": "execute_result"
    }
   ],
   "source": [
    "os.getcwd()"
   ]
  },
  {
   "cell_type": "code",
   "execution_count": 10,
   "id": "a3a50794",
   "metadata": {},
   "outputs": [],
   "source": [
    "os.chdir(path)"
   ]
  },
  {
   "cell_type": "code",
   "execution_count": 11,
   "id": "9ba4fbcf",
   "metadata": {},
   "outputs": [
    {
     "data": {
      "text/plain": [
       "'C:\\\\Users\\\\Prayag V K\\\\Downloads\\\\Friends'"
      ]
     },
     "execution_count": 11,
     "metadata": {},
     "output_type": "execute_result"
    }
   ],
   "source": [
    "os.getcwd()"
   ]
  },
  {
   "cell_type": "code",
   "execution_count": 12,
   "id": "61bb6d06",
   "metadata": {},
   "outputs": [
    {
     "data": {
      "text/plain": [
       "['S01E01 Monica Gets A Roommate.txt',\n",
       " 'S01E02 The Sonogram At The End.txt',\n",
       " 'S01E03 The Thumb.txt',\n",
       " 'S01E04 George Stephanopoulos.txt',\n",
       " 'S01E05 The East German Laundry Detergent.txt',\n",
       " 'S01E06 The Butt.txt',\n",
       " 'S01E07 The Blackout.txt',\n",
       " 'S01E08 Nana Dies Twice.txt',\n",
       " 'S01E09 Underdog Gets Away.txt',\n",
       " 'S01E10 The Monkey.txt',\n",
       " 'S01E11 Mrs. Bing.txt',\n",
       " 'S01E12 The Dozen Lasagnas.txt',\n",
       " 'S01E13 The Boobies.txt',\n",
       " 'S01E14 The Candy Hearts.txt',\n",
       " 'S01E15 The Stoned Guy.txt',\n",
       " 'S01E16 The Two Parts Part I.txt',\n",
       " 'S01E17 The Two Parts Part II.txt',\n",
       " 'S01E18 All The Poker.txt',\n",
       " 'S01E19 The Monkey Gets Away.txt',\n",
       " 'S01E20 The Evil Orthodontist.txt',\n",
       " 'S01E21 The Fake Monica.txt',\n",
       " 'S01E22 The Ick Factor.txt',\n",
       " 'S01E23 The Birth.txt',\n",
       " 'S01E24 Rachel Finds Out.txt',\n",
       " 'S02E01 Rosss New Girlfriend.txt',\n",
       " 'S02E02 The Breast Milk.txt',\n",
       " 'S02E03 Heckles Dies.txt',\n",
       " 'S02E04 Phoebes Husband.txt',\n",
       " 'S02E05 Five Steaks And An Eggplant.txt',\n",
       " 'S02E06 The Baby On The Bus.txt',\n",
       " 'S02E07 Ross Finds Out.txt',\n",
       " 'S02E08 The List.txt',\n",
       " 'S02E09 Phoebes Dad.txt',\n",
       " 'S02E10 Russ.txt',\n",
       " 'S02E11 The Lesbian Wedding.txt',\n",
       " 'S02E12-S02E13 The Superbowl.txt',\n",
       " 'S02E14 The Prom Video.txt',\n",
       " 'S02E15 Ross And Rachel... You Know.txt',\n",
       " 'S02E16 Joey Moves Out.txt',\n",
       " 'S02E17 Eddie Moves In.txt',\n",
       " 'S02E18 Dr. Ramoray Dies.txt',\n",
       " 'S02E19 Eddie Wont Go.txt',\n",
       " 'S02E20 Old Yeller Dies.txt',\n",
       " 'S02E21 The Bullies.txt',\n",
       " 'S02E22 The Two Parties.txt',\n",
       " 'S02E23 The Chicken Pox.txt',\n",
       " 'S02E24 Barry And Mindys Wedding.txt',\n",
       " 'S03E01 The Princess Leia Fantasy.txt',\n",
       " 'S03E02 No Ones Ready.txt',\n",
       " 'S03E03 The Jam.txt',\n",
       " 'S03E04 The Metaphorical Tunnel.txt',\n",
       " 'S03E05 Frank Jr..txt',\n",
       " 'S03E06 The Flashback.txt',\n",
       " 'S03E07 The Race Car Bed.txt',\n",
       " 'S03E08 The Giant Poking Device.txt',\n",
       " 'S03E09 The Football.txt',\n",
       " 'S03E10 Rachel Quits.txt',\n",
       " 'S03E11 Chandler Cant Remember Which Sister.txt',\n",
       " 'S03E12 All The Jealousy.txt',\n",
       " 'S03E13 Monica And Richard Are Just Friends.txt',\n",
       " 'S03E14 Phoebes Ex-Partner.txt',\n",
       " 'S03E15 Ross And Rachel Take A Break.txt',\n",
       " 'S03E16 The Morning After.txt',\n",
       " 'S03E17 The Ski Trip.txt',\n",
       " 'S03E18 The Hypnosis Tape.txt',\n",
       " 'S03E19 The Tiny T-Shirt.txt',\n",
       " 'S03E20 The Dollhouse.txt',\n",
       " 'S03E21 The Chick And The Duck.txt',\n",
       " 'S03E22 The Screamer.txt',\n",
       " 'S03E23 Rosss Thing.txt',\n",
       " 'S03E24 The Ultimate Fighting Champion.txt',\n",
       " 's03E25 At The Beach.txt',\n",
       " 'S04E01 The Jellyfish.txt',\n",
       " 'S04E02 The Cat.txt',\n",
       " 'S04E03 The Cuffs.txt',\n",
       " 'S04E04 The Ballroom Dancing.txt',\n",
       " 'S04E05 Joeys New Girlfriend.txt',\n",
       " 'S04E06 The Dirty Girl.txt',\n",
       " 'S04E07 Chandler Crosses The Line.txt',\n",
       " 'S04E08 Chandler In A Box.txt',\n",
       " 'S04E09 Theyre Going To Party.txt',\n",
       " 'S04E10 The Girl From Poughkeepsie.txt',\n",
       " 'S04E11 Phoebes Uterus.txt',\n",
       " 'S04E12 The Embryos.txt',\n",
       " 'S04E13 Rachels Crush.txt',\n",
       " 'S04E14 Joeys Dirty Day.txt',\n",
       " 'S04E15 All The Rugby.txt',\n",
       " 'S04E16 The Fake Party.txt',\n",
       " 'S04E17 The Free Porn.txt',\n",
       " 'S04E18 Rachels New Dress.txt',\n",
       " 'S04E19 All The Haste.txt',\n",
       " 'S04E20 The Wedding Dresses.txt',\n",
       " 'S04E21 The Invitation.txt',\n",
       " 'S04E22 The Worst Best Man Ever.txt',\n",
       " 'S04E23 Rosss Wedding.txt',\n",
       " 'S05E01 Ross Says Rachel.txt',\n",
       " 'S05E02 All The Kissing.txt',\n",
       " 'S05E03 Hundredth.txt',\n",
       " 'S05E04 Phoebe Hates PBS.txt',\n",
       " 'S05E05 The Kips.txt',\n",
       " 'S05E06 The Yeti.txt',\n",
       " 'S05E07 Ross Moves In.txt',\n",
       " 'S05E08 The Thanksgiving Flashbacks.txt',\n",
       " 'S05E09 Rosss Sandwich.txt',\n",
       " 'S05E10 The Inappropriate Sister.txt',\n",
       " 'S05E11 All The Resolutions.txt',\n",
       " 'S05E12 Chandlers Work Laugh.txt',\n",
       " 'S05E13 Joeys Bag.txt',\n",
       " 'S05E14 Everybody Finds Out.txt',\n",
       " 'S05E15 The Girl Who Hits Joey.txt',\n",
       " 'S05E16 The Cop.txt',\n",
       " 'S05E17 Rachels Inadvertant Kiss.txt',\n",
       " 'S05E18 Rachel Smokes.txt',\n",
       " 'S05E19 Ross Cant Flirt.txt',\n",
       " 'S05E20 The Ride Along.txt',\n",
       " 'S05E21 The Ball.txt',\n",
       " 'S05E22 Joeys Big Break.txt',\n",
       " 'S05E23 In Vegas.txt',\n",
       " 'S06E01 Vegas.txt',\n",
       " 'S06E02 Ross Hugs Rachel.txt',\n",
       " 'S06E03 Rosss Denial.txt',\n",
       " 'S06E04 Joey Loses His Insurance.txt',\n",
       " 'S06E05 Joeys Porsche.txt',\n",
       " 'S06E06 On The Last Night.txt',\n",
       " 'S06E07 Phoebe Runs.txt',\n",
       " 'S06E08 Rosss Teeth.txt',\n",
       " 'S06E09 Ross Got High.txt',\n",
       " 'S06E10 The Routine.txt',\n",
       " 'S06E11 The Apothecary Table.txt',\n",
       " 'S06E12 The Joke.txt',\n",
       " 'S06E13 Rachels Sister.txt',\n",
       " 'S06E14 Chandler Cant Cry.txt',\n",
       " 'S06E15-S06E16 That Could Have Been Part I  II.txt',\n",
       " 'S06E17 Unagi.txt',\n",
       " 'S06E18 Ross Dates A Student.txt',\n",
       " 'S06E19 Joeys Fridge.txt',\n",
       " 'S06E20 Mac And C.H.E.E.S.E..txt',\n",
       " 'S06E21 Ross Meets Elizabeths Dad.txt',\n",
       " 'S06E22 Pauls The Man.txt',\n",
       " 'S06E23 The Ring.txt',\n",
       " 'S06E24 The Proposal Part I  II.txt',\n",
       " 'S07E01 Monicas Thunder.txt',\n",
       " 'S07E02 Rachels Book.txt',\n",
       " 'S07E03 Phoebes Cookies.txt',\n",
       " 'S07E04 Rachels Assistant.txt',\n",
       " 'S07E05 The Engagement Picture.txt',\n",
       " 'S07E06 The Nap Partners.txt',\n",
       " 'S07E07 Rosss Library Book.txt',\n",
       " 'S07E08 Chandler Doesnt Like Dogs.txt',\n",
       " 'S07E09 All The Candy.txt',\n",
       " 'S07E10 The Huliday Armadillo.txt',\n",
       " 'S07E11 All The Cheesecakes.txt',\n",
       " 'S07E12 Theyre Up All Night.txt',\n",
       " 'S07E13 Rosita Dies.txt',\n",
       " 'S07E14 They All Turn Thirty.txt',\n",
       " 'S07E15 Joeys New Brain.txt',\n",
       " 'S07E16 The Truth About London.txt',\n",
       " 'S07E17 The Cheap Wedding Dress.txt',\n",
       " 'S07E18 Joeys Award.txt',\n",
       " 'S07E19 Ross And Monicas Cousin.txt',\n",
       " 'S07E20 Rachels Big Kiss.txt',\n",
       " 'S07E21 The Vows.txt',\n",
       " 'S07E22 Chandlers Dad.txt',\n",
       " 'S07E23 Chandler And Monicas Wedding.txt',\n",
       " 'S07E24 Friends Special The Stuff Youve Never Seen.txt',\n",
       " 'S08E01 I Do.txt',\n",
       " 'S08E02 The Red Sweater.txt',\n",
       " 'S08E03 Rachel Tells....txt',\n",
       " 'S08E04 The Videotape.txt',\n",
       " 'S08E05 Rachels Date.txt',\n",
       " 'S08E06 The Halloween Party.txt',\n",
       " 'S08E07 The Stain.txt',\n",
       " 'S08E08 The Stripper.txt',\n",
       " 'S08E09 The Rumor.txt',\n",
       " 'S08E10 Monicas Boots.txt',\n",
       " 'S08E11 Rosss Step Forward.txt',\n",
       " 'S08E12 Joey Dates Rachel.txt',\n",
       " 'S08E13 Chandler Takes A Bath.txt',\n",
       " 'S08E14 The Secret Closet.txt',\n",
       " 'S08E15 The Birthing Video.txt',\n",
       " 'S08E16 Joey Tells Rachel.txt',\n",
       " 'S08E17 The Tea Leaves.txt',\n",
       " 'S08E18 In Massapequa.txt',\n",
       " 'S08E19 Joeys Interview.txt',\n",
       " 'S08E20 The Baby Shower.txt',\n",
       " 'S08E21 The Cooking Class.txt',\n",
       " 'S08E22 Rachel Is Late.txt',\n",
       " 'S08E23 Rachel Has A Baby.txt',\n",
       " 'S09E01 No One Proposes.txt',\n",
       " 'S09E02 Emma Cries.txt',\n",
       " 'S09E03 The Pediatrician.txt',\n",
       " 'S09E04 The Sharks.txt',\n",
       " 'S09E05 Phoebes Birthday Dinner.txt',\n",
       " 'S09E06 The Male Nanny.txt',\n",
       " 'S09E07 Rosss Inappropriate Song.txt',\n",
       " 'S09E08 Rachels Other Sister.txt',\n",
       " 'S09E09 Rachels Phone Number.txt',\n",
       " 'S09E10 Christmas In Tulsa.txt',\n",
       " 'S09E11 Rachel Goes Back To Work.txt',\n",
       " 'S09E12 Phoebes Rats.txt',\n",
       " 'S09E13 Monica Sings.txt',\n",
       " 'S09E14 The Blind Dates.txt',\n",
       " 'S09E15 The Mugging.txt',\n",
       " 'S09E16 The Boob Job.txt',\n",
       " 'S09E17 The Memorial Service.txt',\n",
       " 'S09E18 The Lottery.txt',\n",
       " 'S09E19 Rachels Dream.txt',\n",
       " 'S09E20 The Soap Opera Party.txt',\n",
       " 'S09E21 The Fertility Test.txt',\n",
       " 'S09E22 The Donor.txt',\n",
       " 'S09E23-S09E24 In Barbados.txt',\n",
       " 'S10E01 Joey and Rachel Kiss.txt',\n",
       " 'S10E02 Ross Is Fine.txt',\n",
       " 'S10E03 Rosss Tan.txt',\n",
       " 'S10E04 The Cake.txt',\n",
       " 'S10E05 Rachels Sister Babysits.txt',\n",
       " 'S10E06 Rosss Grant.txt',\n",
       " 'S10E07 The Home Study.txt',\n",
       " 'S10E08 The Late Thanksgiving.txt',\n",
       " 'S10E09 The Birth Mother.txt',\n",
       " 'S10E10 Chandler Gets Caught.txt',\n",
       " 'S10E11 The Stripper Cries.txt',\n",
       " 'S10E12 Phoebes Wedding.txt',\n",
       " 'S10E13 Joey Speaks French.txt',\n",
       " 'S10E14 Princess Consuela.txt',\n",
       " 'S10E15 Estelle Dies.txt',\n",
       " 'S10E16 Rachels Going Away Party.txt',\n",
       " 'S10E17-S10E18 The Last One Part I  II.txt']"
      ]
     },
     "execution_count": 12,
     "metadata": {},
     "output_type": "execute_result"
    }
   ],
   "source": [
    "os.listdir()"
   ]
  },
  {
   "cell_type": "code",
   "execution_count": 13,
   "id": "70f3e69c",
   "metadata": {},
   "outputs": [],
   "source": [
    "import gensim"
   ]
  },
  {
   "cell_type": "code",
   "execution_count": 14,
   "id": "72d09428",
   "metadata": {},
   "outputs": [],
   "source": [
    "import nltk"
   ]
  },
  {
   "cell_type": "code",
   "execution_count": 15,
   "id": "af6186ee",
   "metadata": {},
   "outputs": [],
   "source": [
    "from nltk import sent_tokenize"
   ]
  },
  {
   "cell_type": "code",
   "execution_count": 21,
   "id": "47570d09",
   "metadata": {},
   "outputs": [],
   "source": [
    "from nltk.corpus import stopwords"
   ]
  },
  {
   "cell_type": "code",
   "execution_count": 22,
   "id": "59a30b69",
   "metadata": {},
   "outputs": [],
   "source": [
    "from gensim.utils import simple_preprocess\n",
    "os.path.join(path,filename),encoding='utf-8'"
   ]
  },
  {
   "cell_type": "code",
   "execution_count": 25,
   "id": "722412a9",
   "metadata": {},
   "outputs": [],
   "source": [
    "story=[]\n",
    "\n",
    "for filename in os.listdir():\n",
    "    \n",
    "    f=open(os.path.join(path,filename),encoding='utf-8')\n",
    "    corpus=f.read()\n",
    "    text=' '.join([word for word in corpus.split() if word not in stopwords.words(\"english\")])\n",
    "    raw_sent=sent_tokenize(text)\n",
    "    for sent in raw_sent:\n",
    "        story.append(simple_preprocess(sent))\n",
    "    "
   ]
  },
  {
   "cell_type": "code",
   "execution_count": 27,
   "id": "a6aae8a6",
   "metadata": {},
   "outputs": [
    {
     "data": {
      "text/plain": [
       "[['the',\n",
       "  'one',\n",
       "  'where',\n",
       "  'monica',\n",
       "  'gets',\n",
       "  'new',\n",
       "  'roommate',\n",
       "  'the',\n",
       "  'pilot',\n",
       "  'the',\n",
       "  'uncut',\n",
       "  'version',\n",
       "  'written',\n",
       "  'by',\n",
       "  'marta',\n",
       "  'kauffman',\n",
       "  'david',\n",
       "  'crane',\n",
       "  'scene',\n",
       "  'central',\n",
       "  'perk',\n",
       "  'chandler',\n",
       "  'joey',\n",
       "  'phoebe',\n",
       "  'monica',\n",
       "  'there'],\n",
       " ['monica', 'there', 'nothing', 'tell'],\n",
       " ['he', 'guy', 'work', 'with'],\n",
       " ['joey', 'mon', 'going', 'guy'],\n",
       " ['there', 'gotta', 'something', 'wrong', 'him'],\n",
       " ['chandler', 'all', 'right', 'joey', 'nice'],\n",
       " ['so', 'hump'],\n",
       " ['hump', 'hairpiece'],\n",
       " ['phoebe', 'wait', 'eat', 'chalk'],\n",
       " ['they', 'stare', 'bemused'],\n",
       " ['phoebe', 'just', 'cause', 'want', 'go', 'went', 'carl', 'oh'],\n",
       " ['monica', 'okay', 'everybody', 'relax'],\n",
       " ['this', 'even', 'date'],\n",
       " ['it', 'two', 'people', 'going', 'dinner', 'and', 'sex'],\n",
       " ['chandler', 'sounds', 'like', 'date', 'me'],\n",
       " ['time',\n",
       "  'lapse',\n",
       "  'chandler',\n",
       "  'alright',\n",
       "  'back',\n",
       "  'high',\n",
       "  'school',\n",
       "  'standing',\n",
       "  'middle',\n",
       "  'cafeteria',\n",
       "  'realize',\n",
       "  'totally',\n",
       "  'naked'],\n",
       " ['all', 'oh', 'yeah'],\n",
       " ['had', 'dream'],\n",
       " ['chandler', 'then', 'look', 'down', 'realize', 'there', 'phone', 'there'],\n",
       " ['joey', 'instead', 'of'],\n",
       " ['chandler', 'that', 'right'],\n",
       " ['joey', 'never', 'dream'],\n",
       " ['phoebe', 'no'],\n",
       " ['chandler', 'all', 'sudden', 'phone', 'starts', 'ring'],\n",
       " ['now', 'know', 'do', 'everybody', 'starts', 'looking', 'me'],\n",
       " ['monica', 'and', 'looking', 'before'],\n",
       " ['chandler',\n",
       "  'finally',\n",
       "  'figure',\n",
       "  'better',\n",
       "  'answer',\n",
       "  'it',\n",
       "  'turns',\n",
       "  'mother',\n",
       "  'very',\n",
       "  'very',\n",
       "  'weird',\n",
       "  'because',\n",
       "  'never',\n",
       "  'calls',\n",
       "  'me'],\n",
       " ['time', 'lapse', 'ross', 'entered'],\n",
       " ['ross', 'mortified', 'hi'],\n",
       " ['joey', 'this', 'guy', 'says', 'hello', 'wanna', 'kill', 'myself'],\n",
       " ['monica', 'are', 'okay', 'sweetie'],\n",
       " ['ross',\n",
       "  'feel',\n",
       "  'like',\n",
       "  'someone',\n",
       "  'reached',\n",
       "  'throat',\n",
       "  'grabbed',\n",
       "  'small',\n",
       "  'intestine',\n",
       "  'pulled',\n",
       "  'mouth',\n",
       "  'tied',\n",
       "  'around',\n",
       "  'neck',\n",
       "  'chandler',\n",
       "  'cookie'],\n",
       " ['monica', 'explaining', 'others', 'carol', 'moved', 'stuff', 'today'],\n",
       " ['joey', 'ohh'],\n",
       " ['monica', 'to', 'ross', 'let', 'get', 'coffee'],\n",
       " ['ross', 'thanks'],\n",
       " ['phoebe', 'ooh'],\n",
       " ['oh'],\n",
       " ['she', 'starts', 'pluck', 'air', 'front', 'ross'],\n",
       " ['ross', 'no', 'don'],\n",
       " ['stop', 'cleansing', 'aura'],\n",
       " ['no', 'leave', 'aura', 'alone', 'okay'],\n",
       " ['phoebe', 'fine'],\n",
       " ['be', 'murky'],\n",
       " ['ross', 'll', 'fine', 'alright'],\n",
       " ['really', 'everyone'],\n",
       " ['hope', 'she', 'll', 'happy'],\n",
       " ['monica', 'no', 'don'],\n",
       " ['ross', 'no', 'don', 'hell', 'her', 'left', 'me'],\n",
       " ['joey', 'and', 'never', 'knew', 'lesbian', 'ross', 'no'],\n",
       " ['okay'],\n",
       " ['why', 'everyone', 'keep', 'fixating', 'that'],\n",
       " ['she', 'know', 'know'],\n",
       " ['chandler', 'sometimes', 'wish', 'lesbian', 'they', 'stare', 'him'],\n",
       " ['did', 'say', 'loud'],\n",
       " ['ross',\n",
       "  'told',\n",
       "  'mom',\n",
       "  'dad',\n",
       "  'last',\n",
       "  'night',\n",
       "  'seemed',\n",
       "  'take',\n",
       "  'pretty',\n",
       "  'well'],\n",
       " ['monica',\n",
       "  'oh',\n",
       "  'really',\n",
       "  'hysterical',\n",
       "  'phone',\n",
       "  'call',\n",
       "  'got',\n",
       "  'woman',\n",
       "  'sobbing',\n",
       "  'll',\n",
       "  'never',\n",
       "  'grandchildren',\n",
       "  'll',\n",
       "  'never',\n",
       "  'grandchildren'],\n",
       " ['what'],\n",
       " ['wrong', 'number'],\n",
       " ['ross', 'sorry'],\n",
       " ['joey', 'alright', 'ross', 'look'],\n",
       " ['you', 're', 'feeling', 'lot', 'pain', 'right', 'now'],\n",
       " ['you', 're', 'angry'],\n",
       " ['you', 're', 'hurting'],\n",
       " ['can', 'tell', 'answer', 'is'],\n",
       " ['ross', 'gestures', 'consent'],\n",
       " ['joey', 'strip', 'joint'],\n",
       " ['mon', 'single'],\n",
       " ['have', 'hormones'],\n",
       " ['ross', 'want', 'single', 'okay'],\n",
       " ['just'],\n",
       " ['just', 'wanna', 'married', 'again'],\n",
       " ['rachel', 'enters', 'wet', 'wedding', 'dress', 'starts', 'search', 'room'],\n",
       " ['chandler', 'and', 'want', 'million', 'dollars'],\n",
       " ['he', 'extends', 'hand', 'hopefully'],\n",
       " ['monica', 'rachel'],\n",
       " ['rachel', 'oh', 'god', 'monica', 'hi'],\n",
       " ['thank', 'god'],\n",
       " ['went', 'building', 'guy', 'big', 'hammer', 'said', 'might', 'are', 'are'],\n",
       " ['waitress', 'can', 'get', 'coffee'],\n",
       " ['monica', 'pointing', 'rachel', 'de', 'caff'],\n",
       " ['to',\n",
       "  'all',\n",
       "  'okay',\n",
       "  'everybody',\n",
       "  'rachel',\n",
       "  'another',\n",
       "  'lincoln',\n",
       "  'high',\n",
       "  'survivor'],\n",
       " ['to',\n",
       "  'rachel',\n",
       "  'this',\n",
       "  'everybody',\n",
       "  'chandler',\n",
       "  'phoebe',\n",
       "  'joey',\n",
       "  'and',\n",
       "  'remember',\n",
       "  'brother',\n",
       "  'ross'],\n",
       " ['rachel', 'hi', 'sure'],\n",
       " ['ross', 'hi'],\n",
       " ['they', 'go', 'hug', 'ross', 'umbrella', 'opens'],\n",
       " ['he', 'sits', 'back', 'defeated', 'again'],\n",
       " ['moment',\n",
       "  'silence',\n",
       "  'follows',\n",
       "  'rachel',\n",
       "  'sits',\n",
       "  'others',\n",
       "  'expect',\n",
       "  'explain'],\n",
       " ['monica',\n",
       "  'so',\n",
       "  'wanna',\n",
       "  'tell',\n",
       "  'us',\n",
       "  'now',\n",
       "  'waiting',\n",
       "  'four',\n",
       "  'wet',\n",
       "  'bridesmaids'],\n",
       " ['rachel', 'oh', 'god', 'well', 'started', 'half', 'hour', 'wedding'],\n",
       " ['room', 'keeping', 'presents', 'looking', 'gravy', 'boat'],\n",
       " ['this', 'really', 'gorgeous', 'lamauge', 'gravy', 'boat'],\n",
       " ['when',\n",
       "  'sudden',\n",
       "  'to',\n",
       "  'waitress',\n",
       "  'brought',\n",
       "  'coffee',\n",
       "  'sweet',\n",
       "  'lo',\n",
       "  'realized',\n",
       "  'turned',\n",
       "  'gravy',\n",
       "  'boat',\n",
       "  'barry'],\n",
       " ['and',\n",
       "  'got',\n",
       "  'really',\n",
       "  'freaked',\n",
       "  'out',\n",
       "  'that',\n",
       "  'hit',\n",
       "  'me',\n",
       "  'much',\n",
       "  'barry',\n",
       "  'looks',\n",
       "  'like',\n",
       "  'mr'],\n",
       " ['potato', 'head'],\n",
       " ['know', 'mean', 'always', 'knew', 'looked', 'familiar', 'but'],\n",
       " ['anyway', 'get', 'there', 'started', 'wondering', 'why', 'this', 'for'],\n",
       " ['to',\n",
       "  'monica',\n",
       "  'so',\n",
       "  'anyway',\n",
       "  'know',\n",
       "  'go',\n",
       "  'know',\n",
       "  'kinda',\n",
       "  'drifted',\n",
       "  'apart',\n",
       "  'person',\n",
       "  'knew',\n",
       "  'lived',\n",
       "  'city'],\n",
       " ['monica', 'who', 'invited', 'wedding'],\n",
       " ['rachel',\n",
       "  'ooh',\n",
       "  'kinda',\n",
       "  'hoping',\n",
       "  'issue',\n",
       "  'scene',\n",
       "  'monica',\n",
       "  'apartment',\n",
       "  'everyone',\n",
       "  'watching',\n",
       "  'spanish',\n",
       "  'soap',\n",
       "  'tv',\n",
       "  'trying',\n",
       "  'figure',\n",
       "  'going',\n",
       "  'on'],\n",
       " ['monica',\n",
       "  'now',\n",
       "  'guessing',\n",
       "  'bought',\n",
       "  'big',\n",
       "  'pipe',\n",
       "  'organ',\n",
       "  'really',\n",
       "  'happy',\n",
       "  'it'],\n",
       " ['chandler', 'imitating', 'characters', 'tuna', 'egg', 'salad'],\n",
       " ['decide'],\n",
       " ['ross', 'in', 'deep', 'voice', 'll', 'whatever', 'christine', 'having'],\n",
       " ['rachel', 'on', 'phone', 'daddy', 'just'],\n",
       " ['can', 'marry', 'him'],\n",
       " ['sorry'],\n",
       " ['love', 'him'],\n",
       " ['well', 'matters', 'me'],\n",
       " ['the',\n",
       "  'scene',\n",
       "  'tv',\n",
       "  'changed',\n",
       "  'show',\n",
       "  'two',\n",
       "  'women',\n",
       "  'one',\n",
       "  'holding',\n",
       "  'hair'],\n",
       " ['phoebe', 'if', 'let', 'go', 'hair', 'head', 'fall', 'off'],\n",
       " ['chandler', 're', 'tv', 'ooh', 'wearing', 'pants'],\n",
       " ['joey', 'say', 'push', 'stairs'],\n",
       " ['phoebe', 'ross', 'chandler', 'joey', 'push', 'stairs'],\n",
       " ['push', 'stairs'],\n",
       " ['push', 'stairs'],\n",
       " ['she', 'pushed', 'stairs', 'everyone', 'cheers'],\n",
       " ['rachel', 'mon', 'daddy', 'listen', 'me'],\n",
       " ['it',\n",
       "  'like',\n",
       "  'like',\n",
       "  'life',\n",
       "  'everyone',\n",
       "  'always',\n",
       "  'told',\n",
       "  'me',\n",
       "  'you',\n",
       "  're',\n",
       "  'shoe'],\n",
       " ['you', 're', 'shoe', 'shoe', 'shoe'],\n",
       " ['and', 'today', 'stopped', 'said', 'what', 'wanna', 'shoe'],\n",
       " ['what', 'wanna', 'purse', 'know'],\n",
       " ['or', 'hat'],\n",
       " ['no',\n",
       "  'saying',\n",
       "  'want',\n",
       "  'buy',\n",
       "  'hat',\n",
       "  'saying',\n",
       "  'ha',\n",
       "  'it',\n",
       "  'metaphor',\n",
       "  'daddy'],\n",
       " ['ross', 'you', 'see', 'he', 'trouble'],\n",
       " ['rachel', 'look', 'daddy', 'life'],\n",
       " ['well', 'maybe', 'll', 'stay', 'monica'],\n",
       " ['monica',\n",
       "  'well',\n",
       "  'guess',\n",
       "  'we',\n",
       "  've',\n",
       "  'established',\n",
       "  'who',\n",
       "  'staying',\n",
       "  'monica',\n",
       "  'rachel',\n",
       "  'well',\n",
       "  'maybe',\n",
       "  'that',\n",
       "  'decision'],\n",
       " ['well', 'maybe', 'need', 'money'],\n",
       " ['wait'],\n",
       " ['wait', 'said', 'maybe'],\n",
       " ['time', 'lapse', 'rachel', 'breating', 'paper', 'bag'],\n",
       " ['monica', 'just', 'breathe', 'breathe', 'that', 'it'],\n",
       " ['just',\n",
       "  'try',\n",
       "  'think',\n",
       "  'nice',\n",
       "  'calm',\n",
       "  'things',\n",
       "  'phoebe',\n",
       "  'sings',\n",
       "  'raindrops',\n",
       "  'roses',\n",
       "  'rabbits',\n",
       "  'kittens',\n",
       "  'rachel',\n",
       "  'monica',\n",
       "  'turn',\n",
       "  'look',\n",
       "  'her'],\n",
       " ['bluebells',\n",
       "  'sleighbells',\n",
       "  'and',\n",
       "  'something',\n",
       "  'mittens',\n",
       "  'la',\n",
       "  'la',\n",
       "  'la',\n",
       "  'la',\n",
       "  'something',\n",
       "  'noodles',\n",
       "  'string'],\n",
       " ['these', 'few', 'rachel', 'better', 'now'],\n",
       " ['phoebe', 'grins', 'walks', 'kitchen', 'says', 'chandler', 'joey'],\n",
       " ['helped'],\n",
       " ['monica', 'okay', 'look', 'probably', 'best', 'know'],\n",
       " ['independence'],\n",
       " ['taking', 'control', 'life'],\n",
       " ['the', 'whole', 'hat', 'thing'],\n",
       " ['joey',\n",
       "  'comforting',\n",
       "  'her',\n",
       "  'and',\n",
       "  'hey',\n",
       "  'need',\n",
       "  'anything',\n",
       "  'always',\n",
       "  'come',\n",
       "  'joey'],\n",
       " ['me', 'chandler', 'live', 'across', 'hall'],\n",
       " ['and', 'he', 'away', 'lot'],\n",
       " ['monica', 'joey', 'stop', 'hitting', 'her'],\n",
       " ['it', 'wedding', 'day'],\n",
       " ['joey', 'what', 'like', 'there', 'rule', 'something'],\n",
       " ['the', 'door', 'buzzer', 'sounds', 'chandler', 'gets', 'it'],\n",
       " ['chandler', 'please', 'again', 'horrible', 'sound'],\n",
       " ['paul', 'over', 'intercom', 'it', 'uh', 'paul'],\n",
       " ['monica', 'oh', 'god'],\n",
       " ['buzz', 'in'],\n",
       " ['joey', 'who', 'paul'],\n",
       " ['ross', 'paul', 'wine', 'guy', 'paul'],\n",
       " ['monica', 'maybe'],\n",
       " ['joey', 'wait'],\n",
       " ['your', 'not', 'real', 'date', 'tonight', 'paul', 'wine', 'guy'],\n",
       " ['ross', 'he', 'finally', 'asked', 'out'],\n",
       " ['monica', 'yes'],\n",
       " ['chandler', 'ooh', 'dear', 'diary', 'moment'],\n",
       " ['monica',\n",
       "  'rach',\n",
       "  'wait',\n",
       "  'cancel',\n",
       "  'rachel',\n",
       "  'please',\n",
       "  'no',\n",
       "  'go',\n",
       "  'that',\n",
       "  'fine'],\n",
       " ['monica', 'to', 'ross', 'are', 'okay'],\n",
       " ['mean', 'want', 'stay'],\n",
       " ['ross', 'choked', 'voice', 'that', 'good', 'monica', 'horrified', 'really'],\n",
       " ['ross', 'normal', 'voice', 'no', 'go', 'on'],\n",
       " ['it', 'paul', 'wine', 'guy'],\n",
       " ['phoebe', 'what', 'mean'],\n",
       " ['does', 'sell', 'it', 'drink', 'it', 'complain', 'lot'],\n",
       " ['chandler', 'know'],\n",
       " ['there', 'knock', 'door', 'paul'],\n",
       " ['monica', 'hi', 'come', 'in'],\n",
       " ['paul', 'is', 'they', 'lined', 'next', 'door'],\n",
       " ['everybody', 'everybody', 'paul'],\n",
       " ['all', 'hey'],\n",
       " ['paul'],\n",
       " ['hi'],\n",
       " ['the', 'wine', 'guy'],\n",
       " ['hey'],\n",
       " ['chandler', 'sorry', 'catch', 'name'],\n",
       " ['paul', 'it'],\n",
       " ['monica',\n",
       "  'okay',\n",
       "  'umm',\n",
       "  'umm',\n",
       "  'll',\n",
       "  'just',\n",
       "  'll',\n",
       "  'right',\n",
       "  'back',\n",
       "  'gotta',\n",
       "  'go',\n",
       "  'ah',\n",
       "  'go',\n",
       "  'ah',\n",
       "  'ross',\n",
       "  'wandering'],\n",
       " ['monica', 'change'],\n",
       " ['okay', 'sit', 'down'],\n",
       " ['shows', 'paul', 'in', 'two', 'seconds'],\n",
       " ['phoebe', 'ooh', 'pulled', 'four', 'eyelashes'],\n",
       " ['that', 'can', 'good'],\n",
       " ['monica', 'goes', 'change'],\n",
       " ['joey', 'hey', 'paul'],\n",
       " ['paul', 'yeah'],\n",
       " ['joey',\n",
       "  'here',\n",
       "  'little',\n",
       "  'tip',\n",
       "  'really',\n",
       "  'likes',\n",
       "  'rub',\n",
       "  'neck',\n",
       "  'spot',\n",
       "  'starts',\n",
       "  'get',\n",
       "  'little',\n",
       "  'red'],\n",
       " ['monica', 'yelling', 'bedroom', 'shut', 'up', 'joey'],\n",
       " ['ross', 'so', 'rachel', 'what', 're', 'you', 'uh', 'what', 're', 'tonight'],\n",
       " ['rachel',\n",
       "  'well',\n",
       "  'kinda',\n",
       "  'supposed',\n",
       "  'headed',\n",
       "  'aruba',\n",
       "  'honeymoon',\n",
       "  'nothing'],\n",
       " ['ross',\n",
       "  'right',\n",
       "  'even',\n",
       "  'getting',\n",
       "  'honeymoon',\n",
       "  'god',\n",
       "  'no',\n",
       "  'no',\n",
       "  'although',\n",
       "  'aruba',\n",
       "  'time',\n",
       "  'year',\n",
       "  'talk',\n",
       "  'your',\n",
       "  'thinks',\n",
       "  'big',\n",
       "  'lizards'],\n",
       " ['anyway',\n",
       "  'feel',\n",
       "  'like',\n",
       "  'alone',\n",
       "  'tonight',\n",
       "  'joey',\n",
       "  'chandler',\n",
       "  'coming',\n",
       "  'help',\n",
       "  'put',\n",
       "  'together',\n",
       "  'new',\n",
       "  'furniture'],\n",
       " ['chandler', 'deadpan', 'yes', 'we', 're', 'excited', 'it'],\n",
       " ['rachel', 'well', 'actually', 'thanks', 'think', 'gonna', 'hang', 'tonight'],\n",
       " ['it', 'kinda', 'long', 'day'],\n",
       " ['ross', 'okay', 'sure'],\n",
       " ['joey', 'hey', 'pheebs', 'wanna', 'help'],\n",
       " ['phoebe', 'oh', 'wish', 'could', 'want', 'to'],\n",
       " ['commercial',\n",
       "  'break',\n",
       "  'scene',\n",
       "  'the',\n",
       "  'subway',\n",
       "  'phoebe',\n",
       "  'singing',\n",
       "  'change'],\n",
       " ['phoebe',\n",
       "  'singing',\n",
       "  'love',\n",
       "  'sweet',\n",
       "  'summer',\n",
       "  'showers',\n",
       "  'love',\n",
       "  'wondrous',\n",
       "  'work',\n",
       "  'art',\n",
       "  'love',\n",
       "  'oh',\n",
       "  'love',\n",
       "  'love',\n",
       "  'is',\n",
       "  'like',\n",
       "  'giant',\n",
       "  'pigeon',\n",
       "  'crapping',\n",
       "  'heart'],\n",
       " ['la',\n",
       "  'la',\n",
       "  'la',\n",
       "  'la',\n",
       "  'la',\n",
       "  'some',\n",
       "  'guy',\n",
       "  'gives',\n",
       "  'change',\n",
       "  'guy',\n",
       "  'thank',\n",
       "  'you'],\n",
       " ['sings', 'la', 'la', 'la', 'la', 'ohhh'],\n",
       " ['scene', 'ross', 'apartment', 'guys', 'assembling', 'furniture'],\n",
       " ['ross',\n",
       "  'squatting',\n",
       "  'reading',\n",
       "  'instructions',\n",
       "  'supposed',\n",
       "  'attach',\n",
       "  'brackety',\n",
       "  'thing',\n",
       "  'side',\n",
       "  'things',\n",
       "  'using',\n",
       "  'bunch',\n",
       "  'little',\n",
       "  'worm',\n",
       "  'guys'],\n",
       " ['brackety',\n",
       "  'thing',\n",
       "  'see',\n",
       "  'whim',\n",
       "  'guys',\n",
       "  'whatsoever',\n",
       "  'and',\n",
       "  'cannot',\n",
       "  'feel',\n",
       "  'legs'],\n",
       " ['joey', 'chandler', 'finishing', 'assembling', 'bookcase'],\n",
       " ['joey', 'thinking', 'we', 've', 'got', 'bookcase', 'here'],\n",
       " ['chandler', 'it', 'beautiful', 'thing'],\n",
       " ['joey', 'picking', 'leftover', 'part', 'what', 'this'],\n",
       " ['chandler', 'would', 'say', 'shaped', 'bracket'],\n",
       " ['joey', 'which', 'goes', 'where'],\n",
       " ['chandler', 'idea'],\n",
       " ['joey', 'checks', 'ross', 'looking', 'dumps', 'plant'],\n",
       " ['joey', 'done', 'bookcase'],\n",
       " ['chandler', 'all', 'finished'],\n",
       " ['ross',\n",
       "  'clutching',\n",
       "  'beer',\n",
       "  'sniffing',\n",
       "  'this',\n",
       "  'carol',\n",
       "  'favorite',\n",
       "  'beer'],\n",
       " ['she', 'always', 'drank', 'can', 'known'],\n",
       " ['joey',\n",
       "  'hey',\n",
       "  'hey',\n",
       "  'hey',\n",
       "  'hey',\n",
       "  'gonna',\n",
       "  'start',\n",
       "  'stuff',\n",
       "  'we',\n",
       "  're',\n",
       "  'outta',\n",
       "  'here'],\n",
       " ['chandler', 'yes', 'please', 'spoil', 'fun'],\n",
       " ['joey', 'ross', 'let', 'ask', 'question'],\n",
       " ['she', 'got', 'furniture', 'stereo', 'good', 'tv', 'get'],\n",
       " ['ross', 'you', 'guys'],\n",
       " ['chandler', 'oh', 'god'],\n",
       " ['joey', 'you', 'got', 'screwed'],\n",
       " ['chandler', 'oh', 'god'],\n",
       " ['scene', 'restaurant', 'monica', 'paul', 'eating'],\n",
       " ['monica', 'oh', 'god'],\n",
       " ['paul', 'know', 'know', 'idiot'],\n",
       " ['guess',\n",
       "  'caught',\n",
       "  'started',\n",
       "  'going',\n",
       "  'dentist',\n",
       "  'four',\n",
       "  'five',\n",
       "  'times',\n",
       "  'week'],\n",
       " ['mean', 'clean', 'teeth', 'get'],\n",
       " ['monica', 'my', 'brother', 'going', 'right', 'now', 'he', 'mess'],\n",
       " ['how', 'get', 'it'],\n",
       " ['paul',\n",
       "  'well',\n",
       "  'might',\n",
       "  'try',\n",
       "  'accidentally',\n",
       "  'breaking',\n",
       "  'something',\n",
       "  'valuable',\n",
       "  'hers',\n",
       "  'say',\n",
       "  'her',\n",
       "  'monica',\n",
       "  'leg'],\n",
       " ['paul', 'laughing', 'that', 'one', 'way'],\n",
       " ['me', 'went', 'watch'],\n",
       " ['monica', 'you', 'actually', 'broke', 'watch'],\n",
       " ['wow'],\n",
       " ['the',\n",
       "  'worst',\n",
       "  'thing',\n",
       "  'ever',\n",
       "  'was',\n",
       "  'shredded',\n",
       "  'boyfriend',\n",
       "  'favorite',\n",
       "  'bath',\n",
       "  'towel'],\n",
       " ['paul', 'ooh', 'steer', 'clear', 'you'],\n",
       " ['monica', 'that', 'right'],\n",
       " ['scene', 'monica', 'apartment', 'rachel', 'talking', 'phone', 'pacing'],\n",
       " ['rachel', 'barry', 'sorry'],\n",
       " ['sorry'],\n",
       " ['know',\n",
       "  'probably',\n",
       "  'think',\n",
       "  'said',\n",
       "  'day',\n",
       "  'making',\n",
       "  'love',\n",
       "  'socks',\n",
       "  'on',\n",
       "  'isn',\n",
       "  'isn',\n",
       "  'me',\n",
       "  'ju',\n",
       "  'she',\n",
       "  'stops',\n",
       "  'talking',\n",
       "  'dials',\n",
       "  'phone'],\n",
       " ['hi',\n",
       "  'machine',\n",
       "  'cut',\n",
       "  'again',\n",
       "  'anyway',\n",
       "  'look',\n",
       "  'look',\n",
       "  'know',\n",
       "  'girl',\n",
       "  'going',\n",
       "  'incredibly',\n",
       "  'lucky',\n",
       "  'become',\n",
       "  'mrs',\n",
       "  'barry',\n",
       "  'finkel',\n",
       "  'me',\n",
       "  'me'],\n",
       " ['and',\n",
       "  'idea',\n",
       "  'right',\n",
       "  'now',\n",
       "  'give',\n",
       "  'chance',\n",
       "  'too',\n",
       "  'the',\n",
       "  'maching',\n",
       "  'cuts',\n",
       "  'redials'],\n",
       " ['scene',\n",
       "  'ross',\n",
       "  'apartment',\n",
       "  'ross',\n",
       "  'pacing',\n",
       "  'joey',\n",
       "  'chandler',\n",
       "  'working',\n",
       "  'furniture'],\n",
       " ['ross', 'divorced'],\n",
       " ['divorced'],\n",
       " ['joey', 'shut', 'up'],\n",
       " ['chandler', 'you', 'must', 'stop'],\n",
       " ['chandler', 'hits', 'working', 'hammer', 'collapses'],\n",
       " ['ross', 'that', 'took', 'hour'],\n",
       " ['chandler',\n",
       "  'look',\n",
       "  'ross',\n",
       "  'gotta',\n",
       "  'understand',\n",
       "  'us',\n",
       "  'relationship',\n",
       "  'lasted',\n",
       "  'longer',\n",
       "  'mento'],\n",
       " ['you', 'however', 'love', 'woman', 'four', 'years'],\n",
       " ['four',\n",
       "  'years',\n",
       "  'closeness',\n",
       "  'sharing',\n",
       "  'end',\n",
       "  'ripped',\n",
       "  'heart',\n",
       "  'out',\n",
       "  'it'],\n",
       " ['think', 'point'],\n",
       " ['ross', 'you', 'know', 'scariest', 'part', 'is'],\n",
       " ['what', 'there', 'one', 'woman', 'everybody', 'know'],\n",
       " ['mean', 'get', 'one', 'woman', 'that', 'it'],\n",
       " ['unfortunately',\n",
       "  'case',\n",
       "  'one',\n",
       "  'woman',\n",
       "  'her',\n",
       "  'joey',\n",
       "  'what',\n",
       "  'talking',\n",
       "  'about'],\n",
       " ['one', 'woman'],\n",
       " ['that', 'like', 'saying', 'there', 'one', 'flavor', 'ice', 'cream', 'you'],\n",
       " ['lemme', 'tell', 'something', 'ross'],\n",
       " ['there', 'lots', 'flavors', 'there'],\n",
       " ['there', 'rocky', 'road', 'cookie', 'dough', 'bing'],\n",
       " ['cherry', 'vanilla'],\n",
       " ['you', 'could', 'get', 'em', 'jimmies', 'nuts', 'whipped', 'cream'],\n",
       " ['this', 'best', 'thing', 'ever', 'happened', 'you'],\n",
       " ['you', 'got', 'married', 'were', 'like', 'what', 'eight'],\n",
       " ['welcome', 'back', 'world'],\n",
       " ['grab', 'spoon'],\n",
       " ['ross', 'honestly', 'know', 'hungry', 'horny'],\n",
       " ['chandler', 'stay', 'freezer'],\n",
       " ['scene', 'restaurant', 'monica', 'paul', 'still', 'eating'],\n",
       " ['paul', 'ever', 'since', 'walked', 'me', 'uh', 'monica', 'what'],\n",
       " ['what', 'wanna', 'spell', 'noodles'],\n",
       " ['paul', 'no', 'it', 'fifth', 'date', 'kinda', 'revelation'],\n",
       " ['monica', 'oh', 'gonna', 'fifth', 'date'],\n",
       " ['paul', 'isn', 'there'],\n",
       " ['monica', 'yeah', 'yeah', 'think', 'is'],\n",
       " ['what', 'gonna', 'say'],\n",
       " ['paul',\n",
       "  'well',\n",
       "  'ever',\n",
       "  'ev',\n",
       "  'ever',\n",
       "  'since',\n",
       "  'left',\n",
       "  'me',\n",
       "  'um',\n",
       "  'able',\n",
       "  'to',\n",
       "  'uh',\n",
       "  'perform'],\n",
       " ['monica', 'takes', 'sip', 'drink'],\n",
       " ['sexually'],\n",
       " ['monica', 'spitting', 'drink', 'shock', 'oh', 'god', 'oh', 'god', 'sorry'],\n",
       " ['sorry',\n",
       "  'paul',\n",
       "  'it',\n",
       "  'okay',\n",
       "  'monica',\n",
       "  'know',\n",
       "  'spit',\n",
       "  'probably',\n",
       "  'need',\n",
       "  'right',\n",
       "  'now'],\n",
       " ['um', 'long'],\n",
       " ['paul', 'two', 'years'],\n",
       " ['monica', 'wow'],\n",
       " ['glad', 'smashed', 'watch'],\n",
       " ['paul',\n",
       "  'so',\n",
       "  'still',\n",
       "  'think',\n",
       "  'you',\n",
       "  'um',\n",
       "  'might',\n",
       "  'want',\n",
       "  'fifth',\n",
       "  'date'],\n",
       " ['monica', 'pause', 'yeah'],\n",
       " ['yeah', 'do'],\n",
       " ['scene',\n",
       "  'monica',\n",
       "  'apartment',\n",
       "  'rachel',\n",
       "  'watching',\n",
       "  'joanne',\n",
       "  'loves',\n",
       "  'chaci'],\n",
       " ['priest',\n",
       "  'tv',\n",
       "  'we',\n",
       "  'gathered',\n",
       "  'today',\n",
       "  'join',\n",
       "  'joanne',\n",
       "  'louise',\n",
       "  'cunningham',\n",
       "  'charles',\n",
       "  'chachi',\n",
       "  'chachi',\n",
       "  'chachi',\n",
       "  'arcola',\n",
       "  'bound',\n",
       "  'holy',\n",
       "  'matrimony'],\n",
       " ['rachel', 'oh', 'see', 'joanne', 'loved', 'chachi'],\n",
       " ['that', 'difference'],\n",
       " ['scene', 'ross', 'apartment', 'they', 're', 'sitting', 'around', 'talking'],\n",
       " ['ross', 'scornful', 'grab', 'spoon'],\n",
       " ['do', 'know', 'long', 'since', 've', 'grabbed', 'spoon'],\n",
       " ['do', 'words', 'billy', 'hero', 'mean', 'anything', 'you'],\n",
       " ['joey', 'great', 'story'],\n",
       " ['but',\n",
       "  'uh',\n",
       "  'gotta',\n",
       "  'go',\n",
       "  'got',\n",
       "  'date',\n",
       "  'andrea',\n",
       "  'angela',\n",
       "  'andrea',\n",
       "  'oh',\n",
       "  'man',\n",
       "  'looks',\n",
       "  'chandler',\n",
       "  'chandler',\n",
       "  'angela',\n",
       "  'screamer',\n",
       "  'andrea',\n",
       "  'cats'],\n",
       " ['joey', 'right'],\n",
       " ['thanks'],\n",
       " ['it', 'june'],\n",
       " ['outta', 'here'],\n",
       " ['exits'],\n",
       " ['ross', 'know', 'here', 'thing'],\n",
       " ['even', 'could', 'get', 'together', 'enough', 'to', 'ask', 'woman', 'out'],\n",
       " ['gonna', 'ask'],\n",
       " ['he', 'gazes', 'window'],\n",
       " ['cut', 'rachel', 'staring', 'window'],\n",
       " ['commercial',\n",
       "  'break',\n",
       "  'scene',\n",
       "  'monica',\n",
       "  'apartment',\n",
       "  'rachel',\n",
       "  'making',\n",
       "  'coffee',\n",
       "  'joey',\n",
       "  'chandler'],\n",
       " ['rachel', 'isn', 'amazing'],\n",
       " ['mean', 'never', 'made', 'coffee', 'entire', 'life'],\n",
       " ['chandler', 'that', 'amazing'],\n",
       " ['joey', 'congratulations'],\n",
       " ['rachel', 'know', 'figure', 'make', 'coffee', 'anything', 'can', 'do'],\n",
       " ['chandler', 'if', 'invade', 'poland', 'anything', 'can', 'do'],\n",
       " ['joey',\n",
       "  'listen',\n",
       "  'roll',\n",
       "  'feel',\n",
       "  'like',\n",
       "  'gotta',\n",
       "  'make',\n",
       "  'like',\n",
       "  'western',\n",
       "  'omelet',\n",
       "  'something',\n",
       "  'joey',\n",
       "  'chandler',\n",
       "  'taste',\n",
       "  'coffee',\n",
       "  'grimace',\n",
       "  'pour',\n",
       "  'plant',\n",
       "  'pot'],\n",
       " ['although',\n",
       "  'actually',\n",
       "  'really',\n",
       "  'hungry',\n",
       "  'monica',\n",
       "  'entering',\n",
       "  'herself',\n",
       "  'oh',\n",
       "  'good',\n",
       "  'lenny',\n",
       "  'squigy',\n",
       "  'here'],\n",
       " ['all', 'morning'],\n",
       " ['good', 'morning'],\n",
       " ['paul', 'entering', 'monica', 'room', 'morning'],\n",
       " ['joey', 'morning', 'paul'],\n",
       " ['rachel', 'hello', 'paul'],\n",
       " ['chandler', 'hi', 'paul', 'it'],\n",
       " ['monica',\n",
       "  'paul',\n",
       "  'walk',\n",
       "  'door',\n",
       "  'talk',\n",
       "  'low',\n",
       "  'voice',\n",
       "  'others',\n",
       "  'can',\n",
       "  'hear'],\n",
       " ['the', 'others', 'move', 'monica', 'table', 'closer', 'door', 'can'],\n",
       " ['paul', 'thank', 'you'],\n",
       " ['thank', 'much'],\n",
       " ['monica', 'stop'],\n",
       " ['paul',\n",
       "  'no',\n",
       "  'telling',\n",
       "  'last',\n",
       "  'night',\n",
       "  'like',\n",
       "  'umm',\n",
       "  'birthdays',\n",
       "  'graduations',\n",
       "  'plus',\n",
       "  'barn',\n",
       "  'raising',\n",
       "  'scene',\n",
       "  'witness'],\n",
       " ['monica', 'we', 'll', 'talk', 'later'],\n",
       " ['paul', 'yeah'],\n",
       " ['they', 'kiss', 'thank', 'you'],\n",
       " ['exits', 'joey', 'that', 'real', 'date'],\n",
       " ['what', 'hell', 'real', 'date'],\n",
       " ['monica', 'shut', 'up', 'put', 'table', 'back'],\n",
       " ['all', 'okayyy'],\n",
       " ['they', 'so'],\n",
       " ['chandler', 'all', 'right', 'kids', 'gotta', 'get', 'work'],\n",
       " ['if',\n",
       "  'input',\n",
       "  'numbers',\n",
       "  'make',\n",
       "  'much',\n",
       "  'difference',\n",
       "  'rachel',\n",
       "  'so',\n",
       "  'like',\n",
       "  'guys',\n",
       "  'jobs'],\n",
       " ['monica', 'yeah', 'jobs'],\n",
       " ['see', 'that', 'buy', 'stuff'],\n",
       " ['joey', 'yeah', 'actor'],\n",
       " ['rachel', 'wow'],\n",
       " ['would', 'seen', 'anything'],\n",
       " ['joey', 'doubt', 'it'],\n",
       " ['mostly', 'regional', 'work'],\n",
       " ['monica',\n",
       "  'oh',\n",
       "  'wait',\n",
       "  'wait',\n",
       "  'unless',\n",
       "  'happened',\n",
       "  'catch',\n",
       "  'reruns',\n",
       "  'production',\n",
       "  'pinocchio',\n",
       "  'little',\n",
       "  'theater',\n",
       "  'park'],\n",
       " ['joey', 'look', 'job', 'right'],\n",
       " ['chandler', 'look', 'gippetto', 'real', 'live', 'boy'],\n",
       " ['joey', 'take', 'abuse'],\n",
       " ['walks', 'door', 'opens', 'leave'],\n",
       " ['chandler', 'you', 're', 'right', 'sorry'],\n",
       " ['burst', 'song', 'dances', 'door'],\n",
       " ['once',\n",
       "  'wooden',\n",
       "  'boy',\n",
       "  'little',\n",
       "  'wooden',\n",
       "  'boy',\n",
       "  'joey',\n",
       "  'you',\n",
       "  'know',\n",
       "  'he',\n",
       "  'dead',\n",
       "  'man'],\n",
       " ['oh', 'chandler'],\n",
       " ['starts', 'chandler'],\n",
       " ['monica', 'so', 'today'],\n",
       " ['did', 'sleep', 'okay'],\n",
       " ['talk', 'barry'],\n",
       " ['can', 'stop', 'smiling'],\n",
       " ['rachel', 'see', 'that'],\n",
       " ['you', 'look', 'like', 'slept', 'hanger', 'mouth'],\n",
       " ['monica', 'know', 'he', 'so', 'so', 'do', 'remember', 'tony', 'demarco'],\n",
       " ['rachel', 'oh', 'yeah'],\n",
       " ['monica', 'well', 'like', 'that'],\n",
       " ['with', 'feelings'],\n",
       " ['rachel', 'oh', 'wow'],\n",
       " ['are', 'trouble'],\n",
       " ['monica', 'big', 'time'],\n",
       " ['rachel', 'want', 'wedding', 'dress'],\n",
       " ['hardly', 'used'],\n",
       " ['monica', 'think', 'getting', 'little', 'ahead', 'selves', 'here'],\n",
       " ['okay'],\n",
       " ['okay'],\n",
       " ['going', 'get', 'up', 'go', 'work', 'think', 'day'],\n",
       " ['or', 'else', 'gonna', 'get', 'go', 'work'],\n",
       " ['rachel', 'oh', 'look', 'wish', 'luck'],\n",
       " ['monica', 'what', 'for'],\n",
       " ['rachel', 'gonna', 'go', 'get', 'one', 'thinks', 'job', 'things'],\n",
       " ['monica', 'exits'],\n",
       " ['scene', 'iridium', 'monica', 'working', 'frannie', 'enters'],\n",
       " ['frannie', 'hey', 'monica'],\n",
       " ['monica', 'hey', 'frannie', 'welcome', 'back'],\n",
       " ['how', 'florida'],\n",
       " ['frannie', 'you', 'sex', 'you'],\n",
       " ['monica', 'how', 'that'],\n",
       " ['frannie',\n",
       "  'oh',\n",
       "  'hate',\n",
       "  'you',\n",
       "  'pushing',\n",
       "  'aunt',\n",
       "  'roz',\n",
       "  'parrot',\n",
       "  'jungle',\n",
       "  'sex'],\n",
       " ['so'],\n",
       " ['who'],\n",
       " ['monica', 'you', 'know', 'paul'],\n",
       " ['frannie', 'paul', 'wine', 'guy'],\n",
       " ['oh', 'yeah', 'know', 'paul'],\n",
       " ['monica', 'you', 'mean', 'know', 'paul', 'like', 'know', 'paul'],\n",
       " ['frannie', 'are', 'kidding'],\n",
       " ['take', 'credit', 'paul'],\n",
       " ['know', 'me', 'snap', 'turtle', 'two', 'years'],\n",
       " ['scene', 'central', 'perk', 'everyone', 'rachel', 'there'],\n",
       " ['joey', 'sitting', 'arm', 'couch', 'of', 'course', 'line'],\n",
       " ['monica', 'why'],\n",
       " ['why'],\n",
       " ['why', 'would', 'anybody', 'something', 'like', 'that'],\n",
       " ['ross',\n",
       "  'assume',\n",
       "  'we',\n",
       "  're',\n",
       "  'looking',\n",
       "  'answer',\n",
       "  'sophisticated',\n",
       "  'to',\n",
       "  'get',\n",
       "  'bed'],\n",
       " ['monica', 'hate', 'men'],\n",
       " ['hate', 'men'],\n",
       " ['phoebe', 'oh', 'no', 'hate', 'want', 'put', 'universe'],\n",
       " ['monica', 'is', 'me'],\n",
       " ['is',\n",
       "  'like',\n",
       "  'sort',\n",
       "  'beacon',\n",
       "  'dogs',\n",
       "  'men',\n",
       "  'severe',\n",
       "  'emotional',\n",
       "  'problems',\n",
       "  'hear'],\n",
       " ['phoebe', 'all', 'right', 'mere', 'gimme', 'feet'],\n",
       " ['she', 'starts', 'massaging', 'them'],\n",
       " ['monica', 'thought', 'nice', 'know'],\n",
       " ['joey', 'bursts', 'laughing', 'again', 'can', 'believe', 'know', 'line'],\n",
       " ['monica', 'pushes', 'sofa', 'rachel', 'enters', 'shopping', 'bag'],\n",
       " ['rachel', 'guess', 'what'],\n",
       " ['ross', 'you', 'got', 'job'],\n",
       " ['rachel', 'are', 'kidding'],\n",
       " ['trained', 'nothing'],\n",
       " ['laughed', 'twelve', 'interviews', 'today'],\n",
       " ['chandler', 'and', 'yet', 'surprisingly', 'upbeat'],\n",
       " ['rachel',\n",
       "  'you',\n",
       "  'would',\n",
       "  'found',\n",
       "  'john',\n",
       "  'david',\n",
       "  'boots',\n",
       "  'sale',\n",
       "  'fifty',\n",
       "  'percent',\n",
       "  'off'],\n",
       " ['chandler',\n",
       "  'oh',\n",
       "  'well',\n",
       "  'know',\n",
       "  'me',\n",
       "  'rachel',\n",
       "  'they',\n",
       "  're',\n",
       "  'new',\n",
       "  'need',\n",
       "  'job',\n",
       "  'need',\n",
       "  'parents',\n",
       "  've',\n",
       "  'got',\n",
       "  'great',\n",
       "  'boots',\n",
       "  'boots'],\n",
       " ['monica', 'how', 'pay', 'them'],\n",
       " ['rachel', 'uh', 'credit', 'card'],\n",
       " ['monica', 'and', 'pays', 'that'],\n",
       " ['rachel', 'um', 'my', 'father'],\n",
       " ['scene',\n",
       "  'monica',\n",
       "  'rachel',\n",
       "  'everyone',\n",
       "  'sitting',\n",
       "  'around',\n",
       "  'kitchen',\n",
       "  'table'],\n",
       " ['rachel', 'credit', 'cards', 'spread', 'table', 'along', 'pair', 'scissors'],\n",
       " ['rachel', 'oh', 'god', 'come', 'guys', 'really', 'necessary'],\n",
       " ['mean', 'stop', 'charging', 'anytime', 'want'],\n",
       " ['monica', 'mon', 'can', 'live', 'parents', 'whole', 'life'],\n",
       " ['rachel', 'know', 'that'],\n",
       " ['that', 'getting', 'married'],\n",
       " ['phoebe', 'give', 'break', 'hard', 'first', 'time'],\n",
       " ['rachel', 'thank', 'you'],\n",
       " ['phoebe', 'you', 're', 'welcome'],\n",
       " ['remember', 'first', 'came', 'city'],\n",
       " ['fourteen'],\n",
       " ['my',\n",
       "  'mom',\n",
       "  'killed',\n",
       "  'step',\n",
       "  'dad',\n",
       "  'back',\n",
       "  'prison',\n",
       "  'got',\n",
       "  'here',\n",
       "  'know',\n",
       "  'anybody'],\n",
       " ['and',\n",
       "  'ended',\n",
       "  'living',\n",
       "  'albino',\n",
       "  'guy',\n",
       "  'was',\n",
       "  'like',\n",
       "  'cleaning',\n",
       "  'windshields',\n",
       "  'outside',\n",
       "  'port',\n",
       "  'authority',\n",
       "  'killed',\n",
       "  'himself',\n",
       "  'found',\n",
       "  'aromatherapy'],\n",
       " ['so', 'believe', 'me', 'know', 'exactly', 'feel'],\n",
       " ['pause',\n",
       "  'ross',\n",
       "  'the',\n",
       "  'word',\n",
       "  'looking',\n",
       "  'anyway',\n",
       "  'monica',\n",
       "  'all',\n",
       "  'right',\n",
       "  'ready'],\n",
       " ['rachel', 'no'],\n",
       " ['no', 'no', 'ready'],\n",
       " ['how', 'ready'],\n",
       " ['hey', 'rach'],\n",
       " ['you', 'ready', 'jump', 'airplane', 'without', 'parachute'],\n",
       " ['come', 'on', 'can', 'this'],\n",
       " ['monica', 'you', 'can', 'know', 'can'],\n",
       " ['rachel', 'think', 'so'],\n",
       " ['ross', 'come', 'on', 'made', 'coffee'],\n",
       " ['you', 'anything'],\n",
       " ['chandler',\n",
       "  'slowly',\n",
       "  'tries',\n",
       "  'hide',\n",
       "  'dead',\n",
       "  'plant',\n",
       "  'morning',\n",
       "  'joey',\n",
       "  'poured',\n",
       "  'coffee',\n",
       "  'it'],\n",
       " ['ross', 'mon', 'cut'],\n",
       " ['cut',\n",
       "  'cut',\n",
       "  'cut',\n",
       "  'all',\n",
       "  'cut',\n",
       "  'cut',\n",
       "  'cut',\n",
       "  'cut',\n",
       "  'cut',\n",
       "  'cut',\n",
       "  'cut',\n",
       "  'she',\n",
       "  'cuts',\n",
       "  'one',\n",
       "  'cheer'],\n",
       " ['rachel', 'know', 'what'],\n",
       " ['think', 'leave', 'that'],\n",
       " ['it', 'kinda', 'like', 'symbolic', 'gesture', 'monica', 'rachel'],\n",
       " ['that', 'library', 'card'],\n",
       " ['all',\n",
       "  'cut',\n",
       "  'cut',\n",
       "  'cut',\n",
       "  'cut',\n",
       "  'cut',\n",
       "  'cut',\n",
       "  'cut',\n",
       "  'chandler',\n",
       "  'as',\n",
       "  'rachel',\n",
       "  'cutting',\n",
       "  'cards',\n",
       "  'know',\n",
       "  'listen',\n",
       "  'closely',\n",
       "  'hear',\n",
       "  'thousand',\n",
       "  'retailers',\n",
       "  'scream'],\n",
       " ['she', 'finishes', 'cutting', 'cheer'],\n",
       " ['monica', 'welcome', 'real', 'world'],\n",
       " ['it', 'sucks'],\n",
       " ['you', 're', 'gonna', 'love', 'it'],\n",
       " ['time',\n",
       "  'lapse',\n",
       "  'rachel',\n",
       "  'ross',\n",
       "  'watching',\n",
       "  'tv',\n",
       "  'channel',\n",
       "  'finishes',\n",
       "  'broadcast',\n",
       "  'day',\n",
       "  'playing',\n",
       "  'national',\n",
       "  'anthem'],\n",
       " ['monica', 'well', 'that', 'to', 'ross', 'you', 'gonna', 'crash', 'couch'],\n",
       " ['ross', 'no'],\n",
       " ['no', 'gotta', 'go', 'home', 'sometime'],\n",
       " ['monica', 'you', 'okay'],\n",
       " ['ross', 'yeah'],\n",
       " ['rachel', 'hey', 'mon', 'look', 'found', 'floor'],\n",
       " ['monica', 'smiles'],\n",
       " ['what'],\n",
       " ['monica', 'that', 'paul', 'watch'],\n",
       " ['you', 'put', 'back', 'found', 'it'],\n",
       " ['oh', 'boy'],\n",
       " ['alright'],\n",
       " ['goodnight', 'everybody'],\n",
       " ['ross', 'rachel', 'goodnight'],\n",
       " ['monica', 'stomps', 'paul', 'watch', 'goes', 'room'],\n",
       " ['ross', 'mmm'],\n",
       " ['they',\n",
       "  'reach',\n",
       "  'last',\n",
       "  'cookie',\n",
       "  'oh',\n",
       "  'no',\n",
       "  'rachel',\n",
       "  'sorry',\n",
       "  'ross',\n",
       "  'no',\n",
       "  'no',\n",
       "  'go',\n",
       "  'rachel',\n",
       "  'no',\n",
       "  'it',\n",
       "  'really',\n",
       "  'want',\n",
       "  'it',\n",
       "  'ross',\n",
       "  'split',\n",
       "  'it'],\n",
       " ['rachel', 'okay'],\n",
       " ['ross', 'okay'],\n",
       " ['they', 'split', 'it'],\n",
       " ['you',\n",
       "  'know',\n",
       "  'probably',\n",
       "  'know',\n",
       "  'this',\n",
       "  'back',\n",
       "  'high',\n",
       "  'school',\n",
       "  'um',\n",
       "  'major',\n",
       "  'crush',\n",
       "  'you'],\n",
       " ['rachel', 'knew'],\n",
       " ['ross', 'you', 'did'],\n",
       " ['oh'],\n",
       " ['always', 'figured', 'thought', 'monica', 'geeky', 'older', 'brother'],\n",
       " ['rachel', 'did'],\n",
       " ['ross', 'oh'],\n",
       " ['listen',\n",
       "  'think',\n",
       "  'try',\n",
       "  'let',\n",
       "  'intense',\n",
       "  'vulnerability',\n",
       "  'become',\n",
       "  'kind',\n",
       "  'factor',\n",
       "  'here',\n",
       "  'think',\n",
       "  'would',\n",
       "  'okay',\n",
       "  'asked',\n",
       "  'out'],\n",
       " ['sometime'],\n",
       " ['maybe'],\n",
       " ['rachel',\n",
       "  'yeah',\n",
       "  'maybe',\n",
       "  'ross',\n",
       "  'okay',\n",
       "  'okay',\n",
       "  'maybe',\n",
       "  'will',\n",
       "  'rachel',\n",
       "  'goodnight'],\n",
       " ['ross', 'goodnight'],\n",
       " ['rachel',\n",
       "  'goes',\n",
       "  'room',\n",
       "  'monica',\n",
       "  'enters',\n",
       "  'living',\n",
       "  'room',\n",
       "  'ross',\n",
       "  'leaving'],\n",
       " ['monica', 'see', 'ya', 'waitwait', 'what', 'you'],\n",
       " ['ross', 'grabbed', 'spoon'],\n",
       " ['ross', 'exits', 'monica', 'idea', 'means'],\n",
       " ['closing', 'credits', 'scene', 'central', 'perk', 'everyone', 'there'],\n",
       " ['joey', 'can', 'believe', 'hearing', 'here'],\n",
       " ['phoebe', 'sings', 'can', 'believe', 'hearing', 'here', 'monica', 'what'],\n",
       " ['said',\n",
       "  'phoebe',\n",
       "  'sings',\n",
       "  'what',\n",
       "  'said',\n",
       "  'had',\n",
       "  'monica',\n",
       "  'to',\n",
       "  'phoebe',\n",
       "  'would',\n",
       "  'stop'],\n",
       " ['phoebe', 'oh', 'again'],\n",
       " ['all', 'yes'],\n",
       " ['monica', 'said', 'nice', 'butt', 'great', 'butt'],\n",
       " ['joey', 'oh', 'know', 'great', 'butt', 'came', 'bit', 'ya'],\n",
       " ['ross', 'there', 'image'],\n",
       " ['rachel', 'walks', 'pot', 'coffee', 'would', 'anybody', 'like', 'coffee'],\n",
       " ['chandler', 'did', 'make', 'it', 'serving', 'it'],\n",
       " ['rachel', 'serving', 'it'],\n",
       " ['all', 'yeah'],\n",
       " ['yeah', 'll', 'cup', 'coffee'],\n",
       " ['chandler', 'kids', 'new', 'dream'],\n",
       " ['las', 'vegas'],\n",
       " ['rachel', 'sits', 'hear', 'chandler', 'dream'],\n",
       " ['customer', 'to', 'rachel', 'ahh', 'miss'],\n",
       " ['more', 'coffee'],\n",
       " ['rachel', 'ugh'],\n",
       " ['to', 'another', 'customer', 'that', 'leaving'],\n",
       " ['excuse', 'me', 'could', 'give', 'guy', 'there'],\n",
       " ['hands', 'coffee', 'pot'],\n",
       " ['go', 'ahead'],\n",
       " ['he', 'so'],\n",
       " ['thank', 'you'],\n",
       " ['to', 'gang'],\n",
       " ['sorry'],\n",
       " ['okay', 'las', 'vegas'],\n",
       " ['chandler', 'okay', 'so', 'las', 'vegas'],\n",
       " ['liza', 'minelli', 'end'],\n",
       " ['the',\n",
       "  'one',\n",
       "  'with',\n",
       "  'sonogram',\n",
       "  'end',\n",
       "  'written',\n",
       "  'by',\n",
       "  'marta',\n",
       "  'kauffman',\n",
       "  'david',\n",
       "  'crane',\n",
       "  'scene',\n",
       "  'central',\n",
       "  'perk',\n",
       "  'everyone',\n",
       "  'there'],\n",
       " ['monica',\n",
       "  'what',\n",
       "  'guys',\n",
       "  'understand',\n",
       "  'is',\n",
       "  'us',\n",
       "  'kissing',\n",
       "  'important',\n",
       "  'part',\n",
       "  'it'],\n",
       " ['joey', 'yeah', 'right', 'serious'],\n",
       " ['phoebe', 'oh', 'yeah'],\n",
       " ['rachel', 'everything', 'need', 'know', 'first', 'kiss'],\n",
       " ['monica', 'absolutely'],\n",
       " ['chandler',\n",
       "  'yeah',\n",
       "  'think',\n",
       "  'us',\n",
       "  'kissing',\n",
       "  'pretty',\n",
       "  'much',\n",
       "  'like',\n",
       "  'opening',\n",
       "  'act',\n",
       "  'know'],\n",
       " ['mean',\n",
       "  'like',\n",
       "  'stand',\n",
       "  'up',\n",
       "  'comedian',\n",
       "  'sit',\n",
       "  'pink',\n",
       "  'floyd',\n",
       "  'comes',\n",
       "  'out'],\n",
       " ['ross',\n",
       "  'yeah',\n",
       "  'and',\n",
       "  'and',\n",
       "  'like',\n",
       "  'comedian',\n",
       "  'that',\n",
       "  'that',\n",
       "  'that',\n",
       "  'bought',\n",
       "  'ticket'],\n",
       " ['chandler',\n",
       "  'the',\n",
       "  'problem',\n",
       "  'is',\n",
       "  'though',\n",
       "  'concert',\n",
       "  'over',\n",
       "  'matter',\n",
       "  'great',\n",
       "  'show',\n",
       "  'was',\n",
       "  'girls',\n",
       "  'always',\n",
       "  'looking',\n",
       "  'comedian',\n",
       "  'again',\n",
       "  'know'],\n",
       " ['mean',\n",
       "  'we',\n",
       "  're',\n",
       "  'car',\n",
       "  'we',\n",
       "  're',\n",
       "  'fighting',\n",
       "  'traffic',\n",
       "  'basically',\n",
       "  'trying',\n",
       "  'stay',\n",
       "  'awake'],\n",
       " ['rachel', 'yeah', 'well', 'word', 'advice', 'bring', 'back', 'comedian'],\n",
       " ['otherwise',\n",
       "  'next',\n",
       "  'time',\n",
       "  'gonna',\n",
       "  'find',\n",
       "  'sitting',\n",
       "  'home',\n",
       "  'listening',\n",
       "  'album',\n",
       "  'alone'],\n",
       " ['joey', 'pause', 'are', 'still', 'talking', 'sex'],\n",
       " ['opening',\n",
       "  'credits',\n",
       "  'scene',\n",
       "  'museum',\n",
       "  'prehistoric',\n",
       "  'history',\n",
       "  'ross',\n",
       "  'co',\n",
       "  'worker',\n",
       "  'marsha',\n",
       "  'setting',\n",
       "  'exhibit',\n",
       "  'includes',\n",
       "  'mannequins',\n",
       "  'cave',\n",
       "  'people'],\n",
       " ['ross', 'no', 'good', 'good', 'that', 'mm', 'seem', 'little', 'angry'],\n",
       " ['marsha', 'well', 'issues'],\n",
       " ['ross', 'does', 'she'],\n",
       " ['marsha',\n",
       "  'he',\n",
       "  'banging',\n",
       "  'women',\n",
       "  'head',\n",
       "  'club',\n",
       "  'sits',\n",
       "  'home',\n",
       "  'trying',\n",
       "  'get',\n",
       "  'mastodon',\n",
       "  'smell',\n",
       "  'carpet'],\n",
       " ['ross', 'marsha', 'cave', 'people'],\n",
       " ['okay'],\n",
       " ['they', 'issues', 'like', 'gee', 'glacier', 'getting', 'kinda', 'close'],\n",
       " ['see'],\n",
       " ['marsha', 'speaking', 'issues', 'ex', 'wife'],\n",
       " ['carol',\n",
       "  'ross',\n",
       "  'ex',\n",
       "  'wife',\n",
       "  'entered',\n",
       "  'behind',\n",
       "  'standing',\n",
       "  'outstide',\n",
       "  'exhibit'],\n",
       " ['ross', 'trying', 'ignore', 'her', 'no'],\n",
       " ['no'],\n",
       " ['marsha', 'yes', 'is'],\n",
       " ['carol'],\n",
       " ['hi'],\n",
       " ['ross', 'okay', 'okay', 'yes', 'is'],\n",
       " ['waves', 'how', 'll', 'uh', 'catch', 'ice', 'age'],\n",
       " ['marsha', 'extis', 'ross', 'waves', 'carol', 'exhibit'],\n",
       " ['ross', 'hi'],\n",
       " ['carol', 'so'],\n",
       " ['ross', 'you', 'look', 'great'],\n",
       " ['uh'],\n",
       " ['hate', 'that'],\n",
       " ['carol', 'sorry'],\n",
       " ['you', 'look', 'good', 'too'],\n",
       " ['ross', 'ah', 'well', 'here', 'anyone', 'who', 'stands', 'erect'],\n",
       " ['so', 'what', 'new'],\n",
       " ['still', 'uh', 'carol', 'lesbian'],\n",
       " ['ross', 'well', 'never', 'know'],\n",
       " ['how', 'um', 'how', 'family'],\n",
       " ['carol', 'marty', 'still', 'totally', 'paranoid'],\n",
       " ['oh', 'and', 'uh', 'ross', 'why', 'here', 'carol'],\n",
       " ['carol', 'pregnant'],\n",
       " ['ross', 'pregnant'],\n",
       " ['scene',\n",
       "  'monica',\n",
       "  'rachel',\n",
       "  'chandler',\n",
       "  'joey',\n",
       "  'phoebe',\n",
       "  'monica',\n",
       "  'watching',\n",
       "  'three',\n",
       "  'company'],\n",
       " ['chandler', 'oh', 'think', 'episode', 'three', 'company', 'there', 'kind'],\n",
       " ['phoebe', 'then', 've', 'already', 'seen', 'one'],\n",
       " ['turns', 'tv'],\n",
       " ['monica', 'taking', 'drink', 'joey', 'are', 'that'],\n",
       " ['joey', 'yeah', 'sorry', 'swallowing', 'slowed', 'down'],\n",
       " ['monica', 'whose', 'little', 'ball', 'paper', 'this'],\n",
       " ['chandler', 'oh', 'uh', 'would', 'mine'],\n",
       " ['see',\n",
       "  'wrote',\n",
       "  'note',\n",
       "  'myself',\n",
       "  'realised',\n",
       "  'need',\n",
       "  'it',\n",
       "  'balled',\n",
       "  'and',\n",
       "  'sees',\n",
       "  'monica',\n",
       "  'glaring',\n",
       "  'him',\n",
       "  'now',\n",
       "  'wish',\n",
       "  'dead'],\n",
       " ['monica', 'starts', 'fluff', 'pillow'],\n",
       " ['phoebe',\n",
       "  'she',\n",
       "  'already',\n",
       "  'fluffed',\n",
       "  'pillow',\n",
       "  'monica',\n",
       "  'know',\n",
       "  'already',\n",
       "  'fluffed',\n",
       "  'that',\n",
       "  'monica',\n",
       "  'glares',\n",
       "  'her'],\n",
       " ['but', 'fine'],\n",
       " ['monica',\n",
       "  'look',\n",
       "  'sorry',\n",
       "  'guys',\n",
       "  'wanna',\n",
       "  'give',\n",
       "  'ammunition',\n",
       "  'already',\n",
       "  'have'],\n",
       " ['chandler', 'yes', 'know', 'cruel', 'parent', 'flatness', 'child', 'pillow'],\n",
       " ['phoebe', 'monica', 'hi'],\n",
       " ['um', 'monica', 'scaring', 'me'],\n",
       " ['mean', 'like', 'like', 'chaotic', 'twirly'],\n",
       " ['and', 'not', 'not', 'good', 'way'],\n",
       " ['joey', 'yeah', 'calm', 'down'],\n",
       " ['you',\n",
       "  'see',\n",
       "  'ross',\n",
       "  'getting',\n",
       "  'chaotic',\n",
       "  'twirly',\n",
       "  'every',\n",
       "  'time',\n",
       "  'come'],\n",
       " ['monica', 'that', 'far', 'parents', 'concerned', 'ross', 'wrong'],\n",
       " ['see', 'he', 'prince'],\n",
       " ['apparently', 'big', 'ceremony', 'born'],\n",
       " ['chandler',\n",
       "  'looking',\n",
       "  'window',\n",
       "  'ew',\n",
       "  'ew',\n",
       "  'ew',\n",
       "  'ew',\n",
       "  'ew',\n",
       "  'ew',\n",
       "  'ew',\n",
       "  'ew'],\n",
       " ['monica', 'what'],\n",
       " ['chandler', 'ugly', 'naked', 'guy', 'got', 'thighmaster'],\n",
       " ['all', 'eeaagh'],\n",
       " ['rachel', 'enters', 'room'],\n",
       " ['rachel', 'has', 'anybody', 'seen', 'engagement', 'ring'],\n",
       " ['phoebe', 'yeah', 'beautiful'],\n",
       " ['rachel',\n",
       "  'oh',\n",
       "  'god',\n",
       "  'oh',\n",
       "  'god',\n",
       "  'oh',\n",
       "  'god',\n",
       "  'oh',\n",
       "  'god',\n",
       "  'oh',\n",
       "  'god',\n",
       "  'oh',\n",
       "  'god',\n",
       "  'starts',\n",
       "  'look',\n",
       "  'couch',\n",
       "  'cushions'],\n",
       " ['phoebe', 'no', 'look', 'touch', 'that'],\n",
       " ['rachel',\n",
       "  'oh',\n",
       "  'like',\n",
       "  'dreading',\n",
       "  'tomorrow',\n",
       "  'enough',\n",
       "  'give',\n",
       "  'back',\n",
       "  'him',\n",
       "  'hi',\n",
       "  'barry'],\n",
       " ['remember', 'me'],\n",
       " ['girl', 'veil', 'stomped', 'heart', 'front', 'entire', 'family'],\n",
       " ['oh',\n",
       "  'god',\n",
       "  'gonna',\n",
       "  'return',\n",
       "  'ring',\n",
       "  'without',\n",
       "  'ring',\n",
       "  'makes',\n",
       "  'much',\n",
       "  'harder',\n",
       "  'monica',\n",
       "  'easy',\n",
       "  'rach',\n",
       "  'we',\n",
       "  'll',\n",
       "  'find',\n",
       "  'it'],\n",
       " ['to', 'all', 'won', 'we'],\n",
       " ['chandler', 'joey', 'oh'],\n",
       " ['yeah'],\n",
       " ['joey', 'alright', 'when', 'ya', 'last'],\n",
       " ['phoebe', 'doy'],\n",
       " ['probably', 'right', 'lost', 'it'],\n",
       " ['chandler',\n",
       "  'you',\n",
       "  'get',\n",
       "  'lot',\n",
       "  'doy',\n",
       "  'days',\n",
       "  'rachel',\n",
       "  'know',\n",
       "  'morning',\n",
       "  'know',\n",
       "  'kitchen',\n",
       "  'with',\n",
       "  'chandler',\n",
       "  'dinah'],\n",
       " ['rachel',\n",
       "  'looks',\n",
       "  'lasagne',\n",
       "  'realizes',\n",
       "  'something',\n",
       "  'ohhhhh',\n",
       "  'mad',\n",
       "  'monica',\n",
       "  'you',\n",
       "  'didn'],\n",
       " ['rachel', 'oh', 'sorry', 'monica', 'gave', 'one', 'job'],\n",
       " ['starts', 'examin', 'lasagne', 'bottom', 'glass', 'pan'],\n",
       " ['rachel', 'oh', 'look', 'straight', 'noodles', 'are'],\n",
       " ['chandler',\n",
       "  'now',\n",
       "  'monica',\n",
       "  'know',\n",
       "  'that',\n",
       "  'look',\n",
       "  'engagement',\n",
       "  'ring',\n",
       "  'lasagne',\n",
       "  'monica',\n",
       "  'puts',\n",
       "  'lasagne',\n",
       "  'just',\n",
       "  'can',\n",
       "  'it'],\n",
       " ['chandler', 'boys'],\n",
       " ['we', 're', 'going', 'in'],\n",
       " ['chandler',\n",
       "  'joey',\n",
       "  'phoebe',\n",
       "  'start',\n",
       "  'pick',\n",
       "  'lasagne',\n",
       "  'there',\n",
       "  'knock',\n",
       "  'door',\n",
       "  'monica',\n",
       "  'answers'],\n",
       " ['ross', 'standing', 'outside', 'door', 'hi'],\n",
       " ['monica', 'wow'],\n",
       " ['that', 'happy', 'hi'],\n",
       " ['ross', 'carol', 'pregnant'],\n",
       " ['phoebe', 'while', 'everyone', 'else', 'stunned', 'ooh'],\n",
       " ['found', 'it'],\n",
       " ['monica', 'wh', 'wha', 'ross', 'yeah'],\n",
       " ['do', 'another', 'two', 'hours', 'might', 'right', 'now'],\n",
       " ['he', 'enters'],\n",
       " ['chandler',\n",
       "  'kinda',\n",
       "  'puts',\n",
       "  'whole',\n",
       "  'pillow',\n",
       "  'thing',\n",
       "  'perspective',\n",
       "  'huh',\n",
       "  'mon'],\n",
       " ['rachel', 'well', 'now', 'how', 'how', 'fit', 'whole', 'thing'],\n",
       " ['ross',\n",
       "  'well',\n",
       "  'carol',\n",
       "  'says',\n",
       "  'susan',\n",
       "  'want',\n",
       "  'involved',\n",
       "  'comfortable',\n",
       "  'it',\n",
       "  'involved',\n",
       "  'basically',\n",
       "  'entirely',\n",
       "  'me'],\n",
       " ['phoebe', 'she', 'great'],\n",
       " ['miss', 'her'],\n",
       " ['monica', 'what', 'mean', 'involved'],\n",
       " ['chandler', 'mean', 'presumably', 'biggest', 'part', 'job', 'done'],\n",
       " ['ross', 'anyway', 'want', 'go', 'this', 'sonogram', 'thing', 'tomorrow'],\n",
       " ['rachel', 'so', 'gonna', 'do'],\n",
       " ['ross', 'idea'],\n",
       " ['no', 'matter', 'do', 'though', 'still', 'gonna', 'father'],\n",
       " ['joey',\n",
       "  'starts',\n",
       "  'eat',\n",
       "  'rest',\n",
       "  'lasagne',\n",
       "  'everyone',\n",
       "  'turns',\n",
       "  'stares',\n",
       "  'him'],\n",
       " ['joey', 'well', 'still', 'ruined', 'right'],\n",
       " ['scene', 'monica', 'rachel', 'monica', 'ross', 'pouring', 'wine', 'parents'],\n",
       " ['mrs',\n",
       "  'geller',\n",
       "  'oh',\n",
       "  'martha',\n",
       "  'ludwin',\n",
       "  'daughter',\n",
       "  'gonna',\n",
       "  'call',\n",
       "  'you'],\n",
       " ['tastes', 'snack', 'mmm'],\n",
       " ['what', 'curry', 'taste'],\n",
       " ['monica', 'curry'],\n",
       " ['mrs', 'geller', 'mmmm'],\n",
       " ['ross', 'think', 'they', 're', 'great'],\n",
       " ['really', 'do'],\n",
       " ['mr', 'geller', 'to', 'ross', 'do', 'remember', 'ludwins'],\n",
       " ['the', 'big', 'one', 'thing', 'you', 'she'],\n",
       " ['mrs', 'geller', 'they', 'thing', 'him'],\n",
       " ['ross', 'aw', 'mom', 'monica', 'sorry', 'girl', 'going', 'call', 'me'],\n",
       " ['mrs',\n",
       "  'geller',\n",
       "  'oh',\n",
       "  'graduated',\n",
       "  'wants',\n",
       "  'something',\n",
       "  'cooking',\n",
       "  'food',\n",
       "  'or'],\n",
       " ['know'],\n",
       " ['anyway',\n",
       "  'told',\n",
       "  'restaurant',\n",
       "  'monica',\n",
       "  'no',\n",
       "  'mom',\n",
       "  'restaurant',\n",
       "  'work',\n",
       "  'restaurant'],\n",
       " ['mrs',\n",
       "  'geller',\n",
       "  'well',\n",
       "  'know',\n",
       "  'that',\n",
       "  'she',\n",
       "  'starts',\n",
       "  'fluff',\n",
       "  'pillow',\n",
       "  'monica',\n",
       "  'fluffed',\n",
       "  'multiple',\n",
       "  'times',\n",
       "  'earlier'],\n",
       " ['monica', 'ross', 'could', 'come', 'help', 'spaghetti', 'please'],\n",
       " ['ross', 'yeah'],\n",
       " ['they', 'go', 'kitchen'],\n",
       " ['mrs', 'geller', 'oh', 'we', 're', 'spaghetti'],\n",
       " ['that', 'easy'],\n",
       " ['monica',\n",
       "  'know',\n",
       "  'going',\n",
       "  'sound',\n",
       "  'unbelievably',\n",
       "  'selfish',\n",
       "  'but',\n",
       "  'planning',\n",
       "  'bringing',\n",
       "  'whole',\n",
       "  'baby',\n",
       "  'lesbian',\n",
       "  'thing'],\n",
       " ['because', 'think', 'might', 'take', 'heat', 'me'],\n",
       " ['time', 'lapse', 'everyone', 'eating'],\n",
       " ['mrs',\n",
       "  'geller',\n",
       "  'what',\n",
       "  'rachel',\n",
       "  'life',\n",
       "  'we',\n",
       "  'ran',\n",
       "  'parents',\n",
       "  'club',\n",
       "  'playing',\n",
       "  'well'],\n",
       " ['mr',\n",
       "  'geller',\n",
       "  'gonna',\n",
       "  'tell',\n",
       "  'spent',\n",
       "  'wedding',\n",
       "  'forty',\n",
       "  'thousand',\n",
       "  'dollars',\n",
       "  'lot',\n",
       "  'money'],\n",
       " ['mrs',\n",
       "  'geller',\n",
       "  'well',\n",
       "  'least',\n",
       "  'chance',\n",
       "  'leave',\n",
       "  'man',\n",
       "  'altar',\n",
       "  'monica',\n",
       "  'what',\n",
       "  'supposed',\n",
       "  'mean'],\n",
       " ['mrs', 'geller', 'nothing'],\n",
       " ['it', 'expression'],\n",
       " ['monica', 'no', 'not'],\n",
       " ['mr', 'geller', 'don', 'listen', 'mother'],\n",
       " ['you', 're', 'independent', 'always', 'been'],\n",
       " ['even', 'kid', 'chubby', 'friends', 'fine'],\n",
       " ['and', 'would', 'read', 'alone', 'room', 'puzzles', 'time', 'lapse'],\n",
       " ['mr',\n",
       "  'geller',\n",
       "  'look',\n",
       "  'people',\n",
       "  'like',\n",
       "  'ross',\n",
       "  'need',\n",
       "  'shoot',\n",
       "  'stars',\n",
       "  'museum',\n",
       "  'papers',\n",
       "  'getting',\n",
       "  'published'],\n",
       " ['other',\n",
       "  'people',\n",
       "  'satisfied',\n",
       "  'staying',\n",
       "  'are',\n",
       "  'telling',\n",
       "  'you',\n",
       "  'people',\n",
       "  'never',\n",
       "  'get',\n",
       "  'cancer'],\n",
       " ['time', 'lapse'],\n",
       " ['mr',\n",
       "  'geller',\n",
       "  'and',\n",
       "  'read',\n",
       "  'women',\n",
       "  'trying',\n",
       "  'all',\n",
       "  'thank',\n",
       "  'god',\n",
       "  'our',\n",
       "  'little',\n",
       "  'harmonica',\n",
       "  'seem',\n",
       "  'problem'],\n",
       " ['monica',\n",
       "  'trying',\n",
       "  'desperately',\n",
       "  'change',\n",
       "  'subject',\n",
       "  'so',\n",
       "  'ross',\n",
       "  'what',\n",
       "  'going',\n",
       "  'you'],\n",
       " ['any', 'stories'],\n",
       " ['digs', 'elbow', 'hand'],\n",
       " ['no', 'news', 'little', 'anecdotes', 'share', 'folks'],\n",
       " ['ross', 'pulls', 'hand', 'away', 'okay'],\n",
       " ['okay'],\n",
       " ['to',\n",
       "  'parents',\n",
       "  'look',\n",
       "  'uh',\n",
       "  'realise',\n",
       "  'guys',\n",
       "  'wondering',\n",
       "  'exactly',\n",
       "  'happened',\n",
       "  'carol',\n",
       "  'me',\n",
       "  'and',\n",
       "  'so',\n",
       "  'well',\n",
       "  'here',\n",
       "  'deal'],\n",
       " ['carol', 'lesbian'],\n",
       " ['she', 'living', 'woman', 'named', 'susan'],\n",
       " ['she', 'pregnant', 'child', 'susan', 'going', 'raise', 'baby'],\n",
       " ['stunned', 'silence', 'ensues'],\n",
       " ['mrs', 'geller', 'to', 'monica', 'and', 'knew', 'this'],\n",
       " ['commercial', 'break', 'scene', 'central', 'park', 'everyone', 'there'],\n",
       " ['joey', 'your', 'folks', 'really', 'bad', 'huh'],\n",
       " ['ross', 'well', 'know', 'people', 'pros'],\n",
       " ['they', 'know', 'they', 're', 'doing', 'take', 'time', 'get', 'job', 'done'],\n",
       " ['monica',\n",
       "  'boy',\n",
       "  'know',\n",
       "  'say',\n",
       "  'can',\n",
       "  'change',\n",
       "  'parents',\n",
       "  'boy',\n",
       "  'could',\n",
       "  'to',\n",
       "  'ross',\n",
       "  'want',\n",
       "  'yours'],\n",
       " ['ross', 'must', 'pee'],\n",
       " ['goes', 'pee'],\n",
       " ['phoebe', 'know', 'even', 'worse', 'twins'],\n",
       " ['rachel', 'you', 're', 'twins'],\n",
       " ['phoebe', 'yeah'],\n",
       " ['we', 'speak'],\n",
       " ['she', 'like', 'high', 'powered', 'driven', 'career', 'type'],\n",
       " ['chandler', 'what', 'do'],\n",
       " ['phoebe', 'she', 'waitress'],\n",
       " ['rachel', 'all', 'right', 'guys', 'kinda', 'gotta', 'clean', 'now'],\n",
       " ['they', 'start', 'leave'],\n",
       " ['monica', 'chandler', 'child', 'right'],\n",
       " ['you', 'this'],\n",
       " ['chandler',\n",
       "  'well',\n",
       "  'no',\n",
       "  'although',\n",
       "  'imaginary',\n",
       "  'friend',\n",
       "  'who',\n",
       "  'parents',\n",
       "  'actually',\n",
       "  'preferred'],\n",
       " ['rachel',\n",
       "  'the',\n",
       "  'lights',\n",
       "  'please',\n",
       "  'joey',\n",
       "  'turns',\n",
       "  'lights',\n",
       "  'leave',\n",
       "  'rachel',\n",
       "  'starts',\n",
       "  'clean',\n",
       "  'up'],\n",
       " ['ross', 'enters', 'bathroom'],\n",
       " ['ross', 'how', 'long', 'there'],\n",
       " ['rachel', 'cleaning', 'up'],\n",
       " ['ross', 'ya', 'uh', 'ya', 'need', 'help'],\n",
       " ['rachel', 'uh', 'okay', 'sure'],\n",
       " ['thanks'],\n",
       " ['she', 'hands', 'broom', 'sits', 'down'],\n",
       " ['ross', 'anyway', 'um', 'starts', 'sweep'],\n",
       " ['so', 'you', 'uh', 'nervous', 'barry', 'tomorrow'],\n",
       " ['rachel', 'oh', 'little', 'ross', 'mm', 'hmm', 'rachel', 'lot'],\n",
       " ['ross', 'mm'],\n",
       " ['rachel', 'so', 'got', 'advice'],\n",
       " ['know', 'someone', 'who', 'recently', 'been', 'dumped'],\n",
       " ['ross', 'well', 'may', 'wanna', 'steer', 'clear', 'word', 'dumped'],\n",
       " ['chances',\n",
       "  'he',\n",
       "  'gonna',\n",
       "  'this',\n",
       "  'broken',\n",
       "  'shell',\n",
       "  'man',\n",
       "  'know',\n",
       "  'try',\n",
       "  'look',\n",
       "  'terrific',\n",
       "  'know',\n",
       "  'it',\n",
       "  'll',\n",
       "  'hard'],\n",
       " ['or',\n",
       "  'know',\n",
       "  'uh',\n",
       "  'hey',\n",
       "  'll',\n",
       "  'go',\n",
       "  'there',\n",
       "  'll',\n",
       "  'give',\n",
       "  'barry',\n",
       "  'back',\n",
       "  'ring',\n",
       "  'go',\n",
       "  'carol',\n",
       "  'susan',\n",
       "  'ob',\n",
       "  'gyn',\n",
       "  'rachel',\n",
       "  'oh',\n",
       "  'got',\n",
       "  'carol',\n",
       "  'tomorrow'],\n",
       " ['when', 'get', 'complicated'],\n",
       " ['ross', 'got', 'me'],\n",
       " ['rachel', 'remember', 'high', 'school', 'together'],\n",
       " ['ross', 'yeah'],\n",
       " ['rachel',\n",
       "  'mean',\n",
       "  'think',\n",
       "  'gonna',\n",
       "  'meet',\n",
       "  'somone',\n",
       "  'fall',\n",
       "  'love',\n",
       "  'that',\n",
       "  'it'],\n",
       " ['ross', 'gazes', 'her'],\n",
       " ['ross'],\n",
       " ['ross', 'yes', 'yes'],\n",
       " ['rachel', 'oh'],\n",
       " ['man', 'never', 'thought', 'here', 'she', 'leans', 'back', 'onto', 'hand'],\n",
       " ['ross', 'me', 'either', 'he', 'pulls', 'stool', 'move', 'hand'],\n",
       " ['scene', 'carol', 'ob', 'gyn', 'carol', 'waiting'],\n",
       " ['ross', 'entering', 'sorry', 'late', 'stuck', 'work'],\n",
       " ['there', 'big', 'dinosaur', 'thing', 'anyway'],\n",
       " ['susan', 'enters', 'holding', 'drink'],\n",
       " ['susan', 'hi'],\n",
       " ['carol', 'ross', 'remember', 'susan'],\n",
       " ['ross', 'how', 'could', 'forget'],\n",
       " ['susan', 'ross'],\n",
       " ['ross', 'they', 'shake', 'hands', 'hello', 'susan'],\n",
       " ['to', 'carol', 'good', 'shake'],\n",
       " ['good', 'shake'],\n",
       " ['so', 'uh', 'we', 're', 'waiting', 'for'],\n",
       " ['carol', 'dr', 'oberman'],\n",
       " ['ross', 'dr', 'oberman'],\n",
       " ['okay'],\n",
       " ['and', 'he', 'susan', 'she'],\n",
       " ['ross',\n",
       "  'she',\n",
       "  'course',\n",
       "  'she',\n",
       "  'uh',\n",
       "  'familiar',\n",
       "  'our',\n",
       "  'special',\n",
       "  'situation'],\n",
       " ['carol', 'yes', 'supportive'],\n",
       " ['ross', 'okay', 'that', 'great'],\n",
       " ['susan', 'gives', 'drink', 'carol'],\n",
       " ['no', 'oh'],\n",
       " ['carol', 'thanks'],\n",
       " ['ross',\n",
       "  'picks',\n",
       "  'surgical',\n",
       "  'instrament',\n",
       "  'mimes',\n",
       "  'duck',\n",
       "  'it',\n",
       "  'quack',\n",
       "  'quack',\n",
       "  'carol',\n",
       "  'ross'],\n",
       " ['that', 'opens', 'cervix'],\n",
       " ['he', 'drops', 'horror'],\n",
       " ['scene',\n",
       "  'barry',\n",
       "  'office',\n",
       "  'barry',\n",
       "  'working',\n",
       "  'patient',\n",
       "  'robbie',\n",
       "  'rachel',\n",
       "  'enters'],\n",
       " ['rachel', 'barry'],\n",
       " ['barry', 'mon', 'in'],\n",
       " ['rachel', 'hesitates', 'are', 'sure'],\n",
       " ['barry', 'yeah'],\n",
       " ['it', 'fine', 'fine'],\n",
       " ['robbie', 'gonna', 'hours'],\n",
       " ['robbie', 'huh'],\n",
       " ['barry', 'so', 'ya', 'doin'],\n",
       " ['rachel', 'uh', 'okay', 'you', 'look', 'great'],\n",
       " ['barry',\n",
       "  'yeah',\n",
       "  'well',\n",
       "  'bernice',\n",
       "  'over',\n",
       "  'intercom',\n",
       "  'dr',\n",
       "  'farber',\n",
       "  'jason',\n",
       "  'greenstein',\n",
       "  'gagging'],\n",
       " ['barry', 'answering', 'intercom', 'be', 'right', 'there'],\n",
       " ['to', 'robbie', 'rachel', 'be', 'back', 'sec'],\n",
       " ['as', 'barry', 'exits', 'robbie', 'stares', 'rachel'],\n",
       " ['rachel', 'dumped', 'him'],\n",
       " ['robbie', 'okay'],\n",
       " ['scene', 'carol', 'ob', 'gyn', 'they', 're', 'talking', 'going', 'work'],\n",
       " ['ross', 'so', 'um', 'how', 'this', 'uh', 'how', 'gonna', 'work'],\n",
       " ['know', 'us'],\n",
       " ['know', 'when', 'like', 'important', 'decisions', 'made'],\n",
       " ['carol', 'give', 'for', 'instance'],\n",
       " ['ross',\n",
       "  'well',\n",
       "  'uh',\n",
       "  'uh',\n",
       "  'know',\n",
       "  'okay',\n",
       "  'okay',\n",
       "  'the',\n",
       "  'uh',\n",
       "  'baby',\n",
       "  'name'],\n",
       " ['carol', 'marlon', 'ross', 'marlon'],\n",
       " ['carol', 'if', 'boy', 'minnie', 'girl'],\n",
       " ['ross', 'as', 'mouse'],\n",
       " ['carol', 'as', 'grandmother'],\n",
       " ['ross', 'still', 'you', 'say', 'minnie', 'hear', 'mouse'],\n",
       " ['um', 'about', 'um', 'julia'],\n",
       " ['carol', 'julia', 'susan', 'we', 'agreed', 'minnie'],\n",
       " ['ross',\n",
       "  'funny',\n",
       "  'um',\n",
       "  'uh',\n",
       "  'agreed',\n",
       "  'we',\n",
       "  'spend',\n",
       "  'rest',\n",
       "  'lives',\n",
       "  'together'],\n",
       " ['things', 'change', 'roll', 'punches'],\n",
       " ['believe', 'julia', 'table'],\n",
       " ['scene',\n",
       "  'barry',\n",
       "  'office',\n",
       "  'rachel',\n",
       "  'makeup',\n",
       "  'mirror',\n",
       "  'barry',\n",
       "  'lamp',\n",
       "  'barry',\n",
       "  'enters'],\n",
       " ['barry', 'sorry', 'that'],\n",
       " ['so'],\n",
       " ['what', 'to'],\n",
       " ['rachel', 'oh', 'much'],\n",
       " ['got', 'job'],\n",
       " ['barry', 'oh', 'that', 'great'],\n",
       " ['rachel', 'why', 'are', 'tanned'],\n",
       " ['barry', 'oh', 'uh', 'went', 'aruba'],\n",
       " ['rachel', 'oh', 'no'],\n",
       " ['you', 'went', 'honeymoon', 'alone'],\n",
       " ['barry', 'no'],\n",
       " ['went', 'with', 'uh', 'now', 'may', 'hurt'],\n",
       " ['robbie', 'me'],\n",
       " ['barry', 'no'],\n",
       " ['to', 'rachel', 'went', 'mindy'],\n",
       " ['rachel', 'mindy'],\n",
       " ['my', 'maid', 'honour', 'mindy'],\n",
       " ['barry', 'yeah', 'well', 'uh', 'we', 're', 'kind', 'thing', 'now'],\n",
       " ['rachel', 'oh'],\n",
       " ['well', 'um', 'grabs', 'forehand', 'you', 've', 'got', 'plugs'],\n",
       " ['barry', 'careful'],\n",
       " ['they', 'quite', 'taken', 'yet'],\n",
       " ['rachel', 'and', 'got', 'lenses'],\n",
       " ['but', 'hate', 'sticking', 'finger', 'eye'],\n",
       " ['barry', 'not', 'her'],\n",
       " ['listen', 'really', 'wanted', 'thank', 'you'],\n",
       " ['rachel', 'okay', 'barry', 'see', 'month', 'ago', 'wanted', 'hurt', 'you'],\n",
       " ['more', 've', 'ever', 'wanted', 'hurt', 'anyone', 'life'],\n",
       " ['and', 'orthodontist'],\n",
       " ['rachel', 'wow'],\n",
       " ['barry', 'you', 'know', 'right'],\n",
       " ['mean', 'thought', 'happy'],\n",
       " ['we', 'happy'],\n",
       " ['but', 'mindy', 'happy'],\n",
       " ['spit'],\n",
       " ['rachel', 'what'],\n",
       " ['robbie', 'me'],\n",
       " ['spits'],\n",
       " ['rachel', 'anyway', 'um', 'gets', 'ring', 'purse'],\n",
       " ['guess', 'belongs', 'you'],\n",
       " ['and', 'thank', 'giving', 'me'],\n",
       " ['barry', 'well', 'thank', 'giving', 'back'],\n",
       " ['barry', 'rachel', 'look', 'other'],\n",
       " ['robbie', 'hello'],\n",
       " ['scene',\n",
       "  'carol',\n",
       "  'ob',\n",
       "  'gyn',\n",
       "  'they',\n",
       "  're',\n",
       "  'still',\n",
       "  'arguing',\n",
       "  'name',\n",
       "  'baby'],\n",
       " ['susan', 'oh', 'please'],\n",
       " ['what', 'wrong', 'helen'],\n",
       " ['ross', 'helen', 'geller'],\n",
       " ['think', 'so'],\n",
       " ['carol', 'hello'],\n",
       " ['it', 'gonna', 'helen', 'geller'],\n",
       " ['ross', 'thank', 'you'],\n",
       " ['carol', 'no', 'mean', 'geller'],\n",
       " ['ross', 'what', 'gonna', 'helen', 'willick'],\n",
       " ['carol', 'no', 'actually', 'um', 'talked', 'helen', 'willick', 'bunch'],\n",
       " ['ross', 'well', 'wait', 'minute', 'wha', 'title'],\n",
       " ['susan', 'it', 'baby', 'too'],\n",
       " ['ross', 'oh', 'funny', 'really'],\n",
       " ['um', 'remember', 'making', 'sperm'],\n",
       " ['susan', 'yeah', 'know', 'challenge', 'is'],\n",
       " ['carol', 'all', 'right', 'two', 'stop', 'it'],\n",
       " ['ross', 'no', 'no', 'gets', 'credit', 'hey', 'too'],\n",
       " ['carol', 'ross'],\n",
       " ['you',\n",
       "  're',\n",
       "  'actually',\n",
       "  'suggesting',\n",
       "  'helen',\n",
       "  'willick',\n",
       "  'bunch',\n",
       "  'geller'],\n",
       " ['cause', 'think', 'borders', 'child', 'abuse'],\n",
       " ['ross', 'of', 'course', 'not', 'suggesting', 'geller', 'willick', 'bunch'],\n",
       " ['susan', 'oh', 'no', 'nonononono', 'see', 'he', 'doing'],\n",
       " ['he',\n",
       "  'knows',\n",
       "  'no',\n",
       "  'one',\n",
       "  'gonna',\n",
       "  'say',\n",
       "  'names',\n",
       "  'they',\n",
       "  'll',\n",
       "  'wind',\n",
       "  'calling',\n",
       "  'geller',\n",
       "  'gets',\n",
       "  'way'],\n",
       " ['ross', 'my', 'way'],\n",
       " ['you', 'you', 'think', 'way'],\n",
       " ['believe',\n",
       "  'me',\n",
       "  'ways',\n",
       "  'ever',\n",
       "  'imagined',\n",
       "  'moment',\n",
       "  'life',\n",
       "  'being',\n",
       "  'way',\n",
       "  'know',\n",
       "  'what'],\n",
       " ['uh', 'um', 'hard'],\n",
       " ['not',\n",
       "  'can',\n",
       "  'do',\n",
       "  'dr',\n",
       "  'oberman',\n",
       "  'entering',\n",
       "  'knock',\n",
       "  'knock',\n",
       "  'how',\n",
       "  'today'],\n",
       " ['any', 'nausea'],\n",
       " ['all', 'yeah'],\n",
       " ['yeah'],\n",
       " ['little'],\n",
       " ['dr',\n",
       "  'oberman',\n",
       "  'well',\n",
       "  'wondering',\n",
       "  'mother',\n",
       "  'to',\n",
       "  'be',\n",
       "  'but',\n",
       "  'thanks',\n",
       "  'sharing'],\n",
       " ['to',\n",
       "  'carol',\n",
       "  'uh',\n",
       "  'lie',\n",
       "  'back',\n",
       "  'ross',\n",
       "  'you',\n",
       "  'uh',\n",
       "  'know',\n",
       "  'what',\n",
       "  'gonna',\n",
       "  'go'],\n",
       " ['don', 'think', 'involved', 'particular', 'thing', 'right', 'now'],\n",
       " ['he', 'turns', 'go', 'sound', 'sonogram', 'catches', 'hes', 'ear'],\n",
       " ['he', 'returns', 'stares', 'it'],\n",
       " ['ross', 'oh', 'god'],\n",
       " ['susan', 'look', 'that'],\n",
       " ['carol', 'know'],\n",
       " ['closing',\n",
       "  'credits',\n",
       "  'scene',\n",
       "  'monica',\n",
       "  'rachel',\n",
       "  'apartment',\n",
       "  'everyone',\n",
       "  'watching',\n",
       "  'tape',\n",
       "  'sonogram'],\n",
       " ['rachel', 'phone'],\n",
       " ['ross', 'well'],\n",
       " ['isn', 'amazing'],\n",
       " ['joey', 'what', 'supposed', 'seeing', 'here'],\n",
       " ['chandler', 'dunno', 'but'],\n",
       " ['think', 'attack', 'enterprise'],\n",
       " ['phoebe',\n",
       "  'you',\n",
       "  'know',\n",
       "  'tilt',\n",
       "  'head',\n",
       "  'left',\n",
       "  'relax',\n",
       "  'eyes',\n",
       "  'kinda',\n",
       "  'looks',\n",
       "  'like',\n",
       "  'old',\n",
       "  'potato'],\n",
       " ['ross', 'then', 'that', 'alright'],\n",
       " ['phoebe', 'okay'],\n",
       " ['ross', 'walks', 'monica', 'standing', 'monica'],\n",
       " ['whaddya', 'think'],\n",
       " ['monica', 'welling', 'up', 'mm', 'hmm'],\n",
       " ['ross', 'wh', 'welling', 'up'],\n",
       " ['monica', 'no'],\n",
       " ['ross', 'you', 'are', 'welling', 'up'],\n",
       " ['monica', 'am', 'not'],\n",
       " ['ross', 'you', 're', 'gonna', 'aunt'],\n",
       " ['monica', 'pushes', 'starts', 'cry', 'oh', 'shut', 'up'],\n",
       " ['rachel', 'on', 'phone', 'hi', 'mindy'],\n",
       " ['hi', 'it', 'it', 'rachel'],\n",
       " ['yeah', 'fine'],\n",
       " ['saw', 'barry', 'today'],\n",
       " ['oh', 'yeah', 'yeah', 'he', 'he', 'told', 'me'],\n",
       " ['no', 'no', 'okay'],\n",
       " ['hope', 'two', 'happy', 'really', 'do'],\n",
       " ['oh',\n",
       "  'oh',\n",
       "  'mind',\n",
       "  'know',\n",
       "  'if',\n",
       "  'if',\n",
       "  'everything',\n",
       "  'works',\n",
       "  'out',\n",
       "  'guys',\n",
       "  'end',\n",
       "  'getting',\n",
       "  'married',\n",
       "  'kids',\n",
       "  'everything',\n",
       "  'hope',\n",
       "  'old',\n",
       "  'hairline',\n",
       "  'old',\n",
       "  'nose'],\n",
       " ['slams', 'phone', 'down'],\n",
       " ['to',\n",
       "  'everyone',\n",
       "  'okay',\n",
       "  'know',\n",
       "  'cheap',\n",
       "  'shot',\n",
       "  'feel',\n",
       "  'much',\n",
       "  'better',\n",
       "  'now'],\n",
       " ['end'],\n",
       " ['the',\n",
       "  'one',\n",
       "  'with',\n",
       "  'thumb',\n",
       "  'written',\n",
       "  'by',\n",
       "  'jeffrey',\n",
       "  'astrof',\n",
       "  'mike',\n",
       "  'sikowitz'],\n",
       " ['scene', 'central', 'perk', 'everyone', 'phoebe', 'there'],\n",
       " ['phoebe', 'entering', 'hi', 'guys'],\n",
       " ['all', 'hey', 'pheebs'],\n",
       " ['hi'],\n",
       " ['ross', 'hey'],\n",
       " ['oh', 'oh', 'how', 'go'],\n",
       " ['phoebe', 'um', 'good'],\n",
       " ['he', 'walked', 'subway', 'said', 'we', 'again'],\n",
       " ['all', 'ohh'],\n",
       " ['ouch'],\n",
       " ['rachel', 'what'],\n",
       " ['he', 'said', 'we', 'again', 'that', 'good', 'right'],\n",
       " ['monica', 'uh', 'no'],\n",
       " ['loosely',\n",
       "  'translated',\n",
       "  'we',\n",
       "  'again',\n",
       "  'means',\n",
       "  'you',\n",
       "  'never',\n",
       "  'see',\n",
       "  'naked'],\n",
       " ['rachel', 'since', 'when'],\n",
       " ['joey', 'since', 'always'],\n",
       " ['it', 'like', 'dating', 'language'],\n",
       " ['know', 'like', 'it', 'you', 'means', 'it', 'you'],\n",
       " ['chandler',\n",
       "  'or',\n",
       "  'you',\n",
       "  're',\n",
       "  'nice',\n",
       "  'guy',\n",
       "  'means',\n",
       "  'gonna',\n",
       "  'dating',\n",
       "  'leather',\n",
       "  'wearing',\n",
       "  'alcoholics',\n",
       "  'complaining',\n",
       "  'you'],\n",
       " ['phoebe',\n",
       "  'or',\n",
       "  'or',\n",
       "  'know',\n",
       "  'um',\n",
       "  'think',\n",
       "  'see',\n",
       "  'people',\n",
       "  'means',\n",
       "  'ha',\n",
       "  'ha',\n",
       "  'already',\n",
       "  'am'],\n",
       " ['rachel', 'and', 'everybody', 'knows', 'this'],\n",
       " ['joey', 'yeah'],\n",
       " ['cushions', 'blow'],\n",
       " ['chandler',\n",
       "  'yeah',\n",
       "  'like',\n",
       "  'kid',\n",
       "  'parents',\n",
       "  'put',\n",
       "  'dog',\n",
       "  'sleep',\n",
       "  'tell',\n",
       "  'went',\n",
       "  'live',\n",
       "  'farm'],\n",
       " ['ross',\n",
       "  'that',\n",
       "  'funny',\n",
       "  'that',\n",
       "  'no',\n",
       "  'because',\n",
       "  'uh',\n",
       "  'parents',\n",
       "  'actually',\n",
       "  'did',\n",
       "  'uh',\n",
       "  'send',\n",
       "  'dog',\n",
       "  'live',\n",
       "  'farm'],\n",
       " ['monica', 'uh', 'ross'],\n",
       " ['ross', 'what'],\n",
       " ['wh', 'hello'],\n",
       " ['the', 'millners', 'farm', 'connecticut'],\n",
       " ['the',\n",
       "  'millners',\n",
       "  'unbelievable',\n",
       "  'farm',\n",
       "  'horses',\n",
       "  'and',\n",
       "  'rabbits',\n",
       "  'could',\n",
       "  'chase',\n",
       "  'was',\n",
       "  'oh',\n",
       "  'god',\n",
       "  'chi',\n",
       "  'chi'],\n",
       " ['opening',\n",
       "  'credits',\n",
       "  'scene',\n",
       "  'chandler',\n",
       "  'joey',\n",
       "  'chandler',\n",
       "  'helping',\n",
       "  'joey',\n",
       "  'rehearse',\n",
       "  'part'],\n",
       " ['chandler', 'so', 'feel', 'knowing', 'die'],\n",
       " ['joey', 'warden', 'five', 'minutes', 'pain', 'over'],\n",
       " ['but', 'live', 'knowledge', 'sent', 'honest', 'man', 'die'],\n",
       " ['chandler', 'hey', 'really', 'good'],\n",
       " ['joey', 'thanks'],\n",
       " ['let', 'keep', 'going'],\n",
       " ['chandler', 'okay'],\n",
       " ['so'],\n",
       " ['whaddya', 'want', 'me', 'damone', 'huh'],\n",
       " ['joey', 'wanna', 'go', 'back', 'cell'],\n",
       " ['cause', 'cell', 'smoke'],\n",
       " ['chandler', 'smoke', 'away'],\n",
       " ['joey', 'takes', 'pack', 'cigarettes', 'lighter'],\n",
       " ['he', 'fumbles', 'drops', 'lighter'],\n",
       " ['then', 'lights', 'cigarett', 'takes', 'drag', 'coughs'],\n",
       " ['chandler', 'think', 'probably', 'damone', 'smokes', 'cell', 'alone'],\n",
       " ['joey', 'what'],\n",
       " ['chandler', 'relax', 'hand'],\n",
       " ['joey', 'lets', 'wrist', 'go', 'limp'],\n",
       " ['chandler', 'not', 'much'],\n",
       " ['joey', 'whoah'],\n",
       " ['chandler', 'hey'],\n",
       " ['joey', 'hey'],\n",
       " ['chandler', 'alright', 'try', 'taking', 'puff'],\n",
       " ['joey', 'tries', 'visibly', 'winces'],\n",
       " ['chandler', 'alright', 'okay'],\n",
       " ['no'],\n",
       " ['give', 'me'],\n",
       " ['joey', 'no', 'no', 'giving', 'cigarette'],\n",
       " ['chandler', 'it', 'fine', 'fine'],\n",
       " ['look', 'wanna', 'get', 'part', 'not'],\n",
       " ['here'],\n",
       " ['joey', 'reluctantly', 'gives', 'cigarette'],\n",
       " ['chandler', 'don', 'think', 'cigarette'],\n",
       " ['think', 'thing', 'that', 'missing', 'hand'],\n",
       " ['when', 'holding', 'it', 'feel', 'right'],\n",
       " ...]"
      ]
     },
     "execution_count": 27,
     "metadata": {},
     "output_type": "execute_result"
    }
   ],
   "source": [
    "story"
   ]
  },
  {
   "cell_type": "code",
   "execution_count": 28,
   "id": "b7749141",
   "metadata": {},
   "outputs": [],
   "source": [
    "model = gensim.models.Word2Vec(\n",
    "    window=10,\n",
    "    min_count=2\n",
    ")"
   ]
  },
  {
   "cell_type": "code",
   "execution_count": 29,
   "id": "96f446be",
   "metadata": {},
   "outputs": [],
   "source": [
    "model.build_vocab(story)"
   ]
  },
  {
   "cell_type": "code",
   "execution_count": 30,
   "id": "179c453d",
   "metadata": {},
   "outputs": [
    {
     "data": {
      "text/plain": [
       "115914"
      ]
     },
     "execution_count": 30,
     "metadata": {},
     "output_type": "execute_result"
    }
   ],
   "source": [
    "model.corpus_count"
   ]
  },
  {
   "cell_type": "code",
   "execution_count": 31,
   "id": "b1beb007",
   "metadata": {},
   "outputs": [
    {
     "data": {
      "text/plain": [
       "(2262896, 2924360)"
      ]
     },
     "execution_count": 31,
     "metadata": {},
     "output_type": "execute_result"
    }
   ],
   "source": [
    "model.train(story, total_examples=model.corpus_count, epochs=model.epochs)"
   ]
  },
  {
   "cell_type": "code",
   "execution_count": 32,
   "id": "89fbef51",
   "metadata": {},
   "outputs": [
    {
     "data": {
      "text/plain": [
       "[('rachel', 0.9222940802574158),\n",
       " ('ross', 0.8977122902870178),\n",
       " ('mike', 0.8873519897460938),\n",
       " ('monica', 0.8765937089920044),\n",
       " ('chandler', 0.848832905292511),\n",
       " ('joey', 0.8406144380569458),\n",
       " ('richard', 0.8321789503097534),\n",
       " ('gunther', 0.8259825706481934),\n",
       " ('paul', 0.8128775954246521),\n",
       " ('mona', 0.8070535659790039)]"
      ]
     },
     "execution_count": 32,
     "metadata": {},
     "output_type": "execute_result"
    }
   ],
   "source": [
    "model.wv.most_similar('phoebe')"
   ]
  },
  {
   "cell_type": "code",
   "execution_count": 39,
   "id": "1d4a9150",
   "metadata": {},
   "outputs": [
    {
     "data": {
      "text/plain": [
       "[('phoebe', 0.9222943186759949),\n",
       " ('monica', 0.8656303286552429),\n",
       " ('chandler', 0.8483746647834778),\n",
       " ('ross', 0.8413177728652954),\n",
       " ('mike', 0.8330258131027222),\n",
       " ('richard', 0.8063322305679321),\n",
       " ('gunther', 0.7777957916259766),\n",
       " ('joey', 0.7636935114860535),\n",
       " ('mona', 0.761688232421875),\n",
       " ('janine', 0.7486035823822021)]"
      ]
     },
     "execution_count": 39,
     "metadata": {},
     "output_type": "execute_result"
    }
   ],
   "source": [
    "model.wv.most_similar('rachel')"
   ]
  },
  {
   "cell_type": "code",
   "execution_count": 46,
   "id": "ca2805dd",
   "metadata": {},
   "outputs": [
    {
     "data": {
      "text/plain": [
       "'ross'"
      ]
     },
     "execution_count": 46,
     "metadata": {},
     "output_type": "execute_result"
    }
   ],
   "source": [
    "model.wv.doesnt_match(['prayag','ross','gunther'])"
   ]
  },
  {
   "cell_type": "code",
   "execution_count": 47,
   "id": "a482f75a",
   "metadata": {},
   "outputs": [
    {
     "data": {
      "text/plain": [
       "100"
      ]
     },
     "execution_count": 47,
     "metadata": {},
     "output_type": "execute_result"
    }
   ],
   "source": [
    "model.vector_size"
   ]
  },
  {
   "cell_type": "code",
   "execution_count": 49,
   "id": "8c62c7fd",
   "metadata": {},
   "outputs": [
    {
     "data": {
      "text/plain": [
       "array([-5.7606876e-01,  3.7337419e-01,  5.1379675e-01,  1.1556843e-01,\n",
       "        2.8209284e-01, -1.5812652e-01,  6.4339942e-01,  5.8927900e-01,\n",
       "       -1.2039185e-01,  1.9970128e-02, -4.5344877e-01, -8.5045421e-01,\n",
       "       -4.2722225e-02,  2.2591592e-01, -3.5993657e-01, -6.4757442e-01,\n",
       "       -3.1178731e-01, -3.2245764e-01, -2.6832744e-01, -5.5298609e-01,\n",
       "        7.7642627e-02, -5.7887815e-02,  5.3186911e-01, -2.5483647e-01,\n",
       "        3.9630970e-01, -3.1024748e-01,  2.8021693e-01, -1.4885758e-01,\n",
       "       -4.5201564e-01,  1.9644366e-01,  5.8315849e-01, -7.4220903e-02,\n",
       "       -1.3777794e-01,  2.6858734e-02,  9.1491543e-02,  5.1924175e-01,\n",
       "        7.3455536e-01, -6.6698754e-01,  3.4703735e-01, -6.2458390e-01,\n",
       "       -1.7278512e-01, -4.7311243e-02, -3.3271499e-02,  3.0412456e-01,\n",
       "        4.5456704e-01,  3.3798724e-01,  2.3697628e-01,  1.6801871e-01,\n",
       "        7.8308904e-01,  3.2006115e-01,  6.0768443e-01,  1.2194119e-01,\n",
       "        5.7822585e-01,  3.5780916e-01, -9.8654681e-01,  5.0685508e-04,\n",
       "        5.0784755e-01, -2.9958848e-02, -1.1643547e+00, -4.0081328e-01,\n",
       "        9.2284791e-02,  5.3882688e-01, -9.4073407e-02, -7.0576787e-01,\n",
       "       -2.7523237e-01, -3.2539278e-01,  6.6236347e-01,  1.8627994e-01,\n",
       "       -8.1394768e-01,  8.5334927e-01, -2.6192781e-01, -4.4780474e-02,\n",
       "        3.0360216e-01,  2.4959864e-01, -4.5856082e-01, -4.0886387e-02,\n",
       "        8.1694750e-03,  9.7935267e-02, -3.1490478e-01,  2.4791980e-01,\n",
       "       -4.0801665e-01, -5.5603546e-01, -1.4690250e-01,  3.2168931e-01,\n",
       "       -6.0814321e-01, -3.3237648e-01,  4.9590591e-01,  1.6443442e-01,\n",
       "        2.9216468e-01,  1.5804389e-01,  8.9122057e-02,  5.3321505e-01,\n",
       "       -4.5092443e-01, -1.4142099e-01,  9.5758510e-01,  6.7207783e-01,\n",
       "        3.6603451e-02, -8.4641415e-01,  4.4643801e-01,  9.6492507e-02],\n",
       "      dtype=float32)"
      ]
     },
     "execution_count": 49,
     "metadata": {},
     "output_type": "execute_result"
    }
   ],
   "source": [
    "model.wv['ross']"
   ]
  },
  {
   "cell_type": "code",
   "execution_count": 50,
   "id": "1c4aeb82",
   "metadata": {},
   "outputs": [
    {
     "data": {
      "text/plain": [
       "0.8452748"
      ]
     },
     "execution_count": 50,
     "metadata": {},
     "output_type": "execute_result"
    }
   ],
   "source": [
    "model.wv.similarity('ross','monica')"
   ]
  },
  {
   "cell_type": "code",
   "execution_count": 51,
   "id": "917f37e1",
   "metadata": {},
   "outputs": [
    {
     "data": {
      "text/plain": [
       "array([[-0.13076693,  0.0847555 ,  0.11663125, ..., -0.19213502,\n",
       "         0.1013409 ,  0.02190369],\n",
       "       [-0.1391202 ,  0.11728323,  0.12651186, ..., -0.23846655,\n",
       "         0.13843237,  0.01384969],\n",
       "       [-0.1031851 ,  0.06927425,  0.09941246, ..., -0.08524327,\n",
       "         0.09880587, -0.00810643],\n",
       "       ...,\n",
       "       [ 0.02550228, -0.07416347,  0.11472061, ..., -0.07271702,\n",
       "        -0.14219446, -0.03628367],\n",
       "       [-0.04845683,  0.06461069,  0.18222749, ..., -0.15311973,\n",
       "         0.04138697, -0.1387695 ],\n",
       "       [-0.07252133,  0.18592235,  0.1557376 , ..., -0.06263802,\n",
       "        -0.00162663, -0.02063799]], dtype=float32)"
      ]
     },
     "execution_count": 51,
     "metadata": {},
     "output_type": "execute_result"
    }
   ],
   "source": [
    "model.wv.get_normed_vectors()"
   ]
  },
  {
   "cell_type": "code",
   "execution_count": 52,
   "id": "9c747e60",
   "metadata": {},
   "outputs": [],
   "source": [
    "y = model.wv.index_to_key"
   ]
  },
  {
   "cell_type": "code",
   "execution_count": 53,
   "id": "19d66eff",
   "metadata": {},
   "outputs": [
    {
     "data": {
      "text/plain": [
       "['ross',\n",
       " 'rachel',\n",
       " 'joey',\n",
       " 'chandler',\n",
       " 'monica',\n",
       " 'phoebe',\n",
       " 'you',\n",
       " 'oh',\n",
       " 'it',\n",
       " 'know',\n",
       " 'no',\n",
       " 'that',\n",
       " 'what',\n",
       " 'yeah',\n",
       " 'okay',\n",
       " 'well',\n",
       " 'hey',\n",
       " 're',\n",
       " 'right',\n",
       " 'he',\n",
       " 'like',\n",
       " 'scene',\n",
       " 'get',\n",
       " 'the',\n",
       " 'we',\n",
       " 'and',\n",
       " 'gonna',\n",
       " 'she',\n",
       " 'go',\n",
       " 'one',\n",
       " 'me',\n",
       " 'uh',\n",
       " 'really',\n",
       " 'so',\n",
       " 'don',\n",
       " 'look',\n",
       " 'think',\n",
       " 'there',\n",
       " 'they',\n",
       " 'to',\n",
       " 'this',\n",
       " 'can',\n",
       " 'see',\n",
       " 'll',\n",
       " 'mean',\n",
       " 'all',\n",
       " 'back',\n",
       " 'got',\n",
       " 'here',\n",
       " 'good',\n",
       " 'come',\n",
       " 'want',\n",
       " 'god',\n",
       " 'would',\n",
       " 'guys',\n",
       " 'him',\n",
       " 'going',\n",
       " 'on',\n",
       " 've',\n",
       " 'but',\n",
       " 'sorry',\n",
       " 'her',\n",
       " 'now',\n",
       " 'time',\n",
       " 'hi',\n",
       " 'up',\n",
       " 'do',\n",
       " 'little',\n",
       " 'ok',\n",
       " 'great',\n",
       " 'guy',\n",
       " 'let',\n",
       " 'say',\n",
       " 'tell',\n",
       " 'yes',\n",
       " 'door',\n",
       " 'something',\n",
       " 'out',\n",
       " 'could',\n",
       " 'is',\n",
       " 'room',\n",
       " 'why',\n",
       " 'in',\n",
       " 'how',\n",
       " 'wait',\n",
       " 'thing',\n",
       " 'love',\n",
       " 'starts',\n",
       " 'looks',\n",
       " 'take',\n",
       " 'still',\n",
       " 'apartment',\n",
       " 'make',\n",
       " 'just',\n",
       " 'maybe',\n",
       " 'way',\n",
       " 'again',\n",
       " 'umm',\n",
       " 'man',\n",
       " 'said',\n",
       " 'phone',\n",
       " 'two',\n",
       " 'us',\n",
       " 'enters',\n",
       " 'huh',\n",
       " 'not',\n",
       " 'mr',\n",
       " 'around',\n",
       " 'never',\n",
       " 'much',\n",
       " 'are',\n",
       " 'entering',\n",
       " 'sure',\n",
       " 'big',\n",
       " 'wanna',\n",
       " 'thank',\n",
       " 'goes',\n",
       " 'wow',\n",
       " 'people',\n",
       " 'away',\n",
       " 'first',\n",
       " 'believe',\n",
       " 'baby',\n",
       " 'did',\n",
       " 'who',\n",
       " 'need',\n",
       " 'mike',\n",
       " 'woman',\n",
       " 'didn',\n",
       " 'please',\n",
       " 'looking',\n",
       " 'thought',\n",
       " 'too',\n",
       " 'talk',\n",
       " 'walks',\n",
       " 'give',\n",
       " 'even',\n",
       " 'ah',\n",
       " 'cut',\n",
       " 'fine',\n",
       " 'work',\n",
       " 'actually',\n",
       " 'gets',\n",
       " 'central',\n",
       " 'new',\n",
       " 'um',\n",
       " 'perk',\n",
       " 'geller',\n",
       " 'night',\n",
       " 'talking',\n",
       " 'my',\n",
       " 'getting',\n",
       " 'head',\n",
       " 'listen',\n",
       " 'anything',\n",
       " 'call',\n",
       " 'nice',\n",
       " 'hands',\n",
       " 'stuff',\n",
       " 'rach',\n",
       " 'pause',\n",
       " 'last',\n",
       " 'thanks',\n",
       " 'table',\n",
       " 'ya',\n",
       " 'turns',\n",
       " 'feel',\n",
       " 'hand',\n",
       " 'stop',\n",
       " 'with',\n",
       " 'day',\n",
       " 'put',\n",
       " 'then',\n",
       " 'if',\n",
       " 'mrs',\n",
       " 'ever',\n",
       " 'them',\n",
       " 'dr',\n",
       " 'down',\n",
       " 'next',\n",
       " 'leave',\n",
       " 'gotta',\n",
       " 'everyone',\n",
       " 'ooh',\n",
       " 'alright',\n",
       " 'start',\n",
       " 'together',\n",
       " 'girl',\n",
       " 'another',\n",
       " 'nothing',\n",
       " 'someone',\n",
       " 'place',\n",
       " 'richard',\n",
       " 'cause',\n",
       " 'guess',\n",
       " 'sitting',\n",
       " 'break',\n",
       " 'trying',\n",
       " 'bye',\n",
       " 'told',\n",
       " 'honey',\n",
       " 'ohh',\n",
       " 'better',\n",
       " 'long',\n",
       " 'couch',\n",
       " 'takes',\n",
       " 'lot',\n",
       " 'face',\n",
       " 'kiss',\n",
       " 'friend',\n",
       " 'hello',\n",
       " 'things',\n",
       " 'whoa',\n",
       " 'bad',\n",
       " 'end',\n",
       " 'janice',\n",
       " 'credits',\n",
       " 'made',\n",
       " 'where',\n",
       " 'married',\n",
       " 'coming',\n",
       " 'help',\n",
       " 'find',\n",
       " 'name',\n",
       " 'off',\n",
       " 'happy',\n",
       " 'carol',\n",
       " 'fun',\n",
       " 'emily',\n",
       " 'date',\n",
       " 'because',\n",
       " 'remember',\n",
       " 'hear',\n",
       " 'play',\n",
       " 'kinda',\n",
       " 'pretty',\n",
       " 'ben',\n",
       " 'left',\n",
       " 'wanted',\n",
       " 'comes',\n",
       " 'ready',\n",
       " 'doesn',\n",
       " 'pheebs',\n",
       " 'by',\n",
       " 'points',\n",
       " 'everything',\n",
       " 'wedding',\n",
       " 'party',\n",
       " 'laughs',\n",
       " 'about',\n",
       " 'bathroom',\n",
       " 'thinking',\n",
       " 'opens',\n",
       " 'three',\n",
       " 'friends',\n",
       " 'best',\n",
       " 'always',\n",
       " 'tonight',\n",
       " 'went',\n",
       " 'happened',\n",
       " 'bedroom',\n",
       " 'minute',\n",
       " 'old',\n",
       " 'else',\n",
       " 'sees',\n",
       " 'leaves',\n",
       " 'coffee',\n",
       " 'runs',\n",
       " 'ask',\n",
       " 'funny',\n",
       " 'kind',\n",
       " 'job',\n",
       " 'keep',\n",
       " 'wrong',\n",
       " 'try',\n",
       " 'when',\n",
       " 'dad',\n",
       " 'home',\n",
       " 'money',\n",
       " 'mom',\n",
       " 'makes',\n",
       " 'emma',\n",
       " 'charlie',\n",
       " 'whole',\n",
       " 'show',\n",
       " 'hard',\n",
       " 'life',\n",
       " 'was',\n",
       " 'today',\n",
       " 'grabs',\n",
       " 'opening',\n",
       " 'doing',\n",
       " 'office',\n",
       " 'does',\n",
       " 'years',\n",
       " 'move',\n",
       " 'sex',\n",
       " 'living',\n",
       " 'behind',\n",
       " 'game',\n",
       " 'care',\n",
       " 'or',\n",
       " 'totally',\n",
       " 'frank',\n",
       " 'puts',\n",
       " 'watch',\n",
       " 'weird',\n",
       " 'mon',\n",
       " 'dinner',\n",
       " 'second',\n",
       " 'gunther',\n",
       " 'of',\n",
       " 'hug',\n",
       " 'tv',\n",
       " 'walk',\n",
       " 'green',\n",
       " 'part',\n",
       " 'everybody',\n",
       " 'saying',\n",
       " 'sits',\n",
       " 'later',\n",
       " 'david',\n",
       " 'over',\n",
       " 'kitchen',\n",
       " 'year',\n",
       " 'idea',\n",
       " 'check',\n",
       " 'making',\n",
       " 'done',\n",
       " 'course',\n",
       " 'probably',\n",
       " 'stupid',\n",
       " 'already',\n",
       " 'open',\n",
       " 'pick',\n",
       " 'for',\n",
       " 'yet',\n",
       " 'watching',\n",
       " 'bed',\n",
       " 'might',\n",
       " 'wearing',\n",
       " 'reading',\n",
       " 'crazy',\n",
       " 'wants',\n",
       " 'cool',\n",
       " 'playing',\n",
       " 'commercial',\n",
       " 'will',\n",
       " 'stay',\n",
       " 'meet',\n",
       " 'picture',\n",
       " 'picks',\n",
       " 'be',\n",
       " 'stops',\n",
       " 'happen',\n",
       " 'window',\n",
       " 'susan',\n",
       " 'doctor',\n",
       " 'used',\n",
       " 'tomorrow',\n",
       " 'says',\n",
       " 'couple',\n",
       " 'have',\n",
       " 'anyway',\n",
       " 'front',\n",
       " 'telling',\n",
       " 'excuse',\n",
       " 'taking',\n",
       " 'listens',\n",
       " 'supposed',\n",
       " 'called',\n",
       " 'enough',\n",
       " 'also',\n",
       " 'your',\n",
       " 'every',\n",
       " 'isn',\n",
       " 'tag',\n",
       " 'paul',\n",
       " 'problem',\n",
       " 'ring',\n",
       " 'came',\n",
       " 'am',\n",
       " 'house',\n",
       " 'eyes',\n",
       " 'sit',\n",
       " 'gives',\n",
       " 'voice',\n",
       " 'box',\n",
       " 'outside',\n",
       " 'deal',\n",
       " 'live',\n",
       " 'holds',\n",
       " 'saw',\n",
       " 'morning',\n",
       " 'chair',\n",
       " 'kisses',\n",
       " 'since',\n",
       " 'high',\n",
       " 'hair',\n",
       " 'director',\n",
       " 'hell',\n",
       " 'five',\n",
       " 'may',\n",
       " 'holding',\n",
       " 'turn',\n",
       " 'enter',\n",
       " 'use',\n",
       " 'real',\n",
       " 'beautiful',\n",
       " 'must',\n",
       " 'as',\n",
       " 'eat',\n",
       " 'written',\n",
       " 'food',\n",
       " 'tries',\n",
       " 'ha',\n",
       " 'before',\n",
       " 'hold',\n",
       " 'women',\n",
       " 'anymore',\n",
       " 'won',\n",
       " 'somebody',\n",
       " 'other',\n",
       " 'sister',\n",
       " 'laughing',\n",
       " 'hot',\n",
       " 'parents',\n",
       " 'miss',\n",
       " 'bing',\n",
       " 'amy',\n",
       " 'matter',\n",
       " 'pants',\n",
       " 'kids',\n",
       " 'boy',\n",
       " 'took',\n",
       " 'rest',\n",
       " 'book',\n",
       " 'person',\n",
       " 'seen',\n",
       " 'standing',\n",
       " 'singing',\n",
       " 'run',\n",
       " 'waiting',\n",
       " 'found',\n",
       " 'heard',\n",
       " 'seeing',\n",
       " 'gang',\n",
       " 'girls',\n",
       " 'mona',\n",
       " 'cute',\n",
       " 'throws',\n",
       " 'thinks',\n",
       " 'knew',\n",
       " 'hate',\n",
       " 'forget',\n",
       " 'mine',\n",
       " 'birthday',\n",
       " 'laugh',\n",
       " 'dog',\n",
       " 'bag',\n",
       " 'car',\n",
       " 'moving',\n",
       " 'father',\n",
       " 'sweet',\n",
       " 'story',\n",
       " 'pete',\n",
       " 'movie',\n",
       " 'shocked',\n",
       " 'understand',\n",
       " 'sleep',\n",
       " 'without',\n",
       " 'exits',\n",
       " 'bit',\n",
       " 'gave',\n",
       " 'walking',\n",
       " 'cat',\n",
       " 'number',\n",
       " 'side',\n",
       " 'half',\n",
       " 'finally',\n",
       " 'question',\n",
       " 'ow',\n",
       " 'different',\n",
       " 'kathy',\n",
       " 'though',\n",
       " 'elizabeth',\n",
       " 'gone',\n",
       " 'working',\n",
       " 'late',\n",
       " 'alone',\n",
       " 'uhh',\n",
       " 'julie',\n",
       " 'amazing',\n",
       " 'sounds',\n",
       " 'restaurant',\n",
       " 'uhm',\n",
       " 'joshua',\n",
       " 'sound',\n",
       " 'cry',\n",
       " 'hmm',\n",
       " 'mind',\n",
       " 'four',\n",
       " 'bring',\n",
       " 'means',\n",
       " 'close',\n",
       " 'at',\n",
       " 'kidding',\n",
       " 'serious',\n",
       " 'naked',\n",
       " 'street',\n",
       " 'wife',\n",
       " 'true',\n",
       " 'ball',\n",
       " 'days',\n",
       " 'which',\n",
       " 'quickly',\n",
       " 'huge',\n",
       " 'knock',\n",
       " 'set',\n",
       " 'closing',\n",
       " 'anyone',\n",
       " 'inside',\n",
       " 'almost',\n",
       " 'wasn',\n",
       " 'ahh',\n",
       " 'hall',\n",
       " 'read',\n",
       " 'closes',\n",
       " 'fact',\n",
       " 'dress',\n",
       " 'tape',\n",
       " 'eating',\n",
       " 'la',\n",
       " 'line',\n",
       " 'erica',\n",
       " 'running',\n",
       " 'mark',\n",
       " 'world',\n",
       " 'excited',\n",
       " 'janine',\n",
       " 'ago',\n",
       " 'leaving',\n",
       " 'machine',\n",
       " 'heads',\n",
       " 'card',\n",
       " 'ursula',\n",
       " 'point',\n",
       " 'hang',\n",
       " 'wouldn',\n",
       " 'gary',\n",
       " 'dude',\n",
       " 'more',\n",
       " 'mouth',\n",
       " 'dance',\n",
       " 'nods',\n",
       " 'floor',\n",
       " 'throw',\n",
       " 'kid',\n",
       " 'mother',\n",
       " 'either',\n",
       " 'minutes',\n",
       " 'drink',\n",
       " 'counter',\n",
       " 'worry',\n",
       " 'marcel',\n",
       " 'moment',\n",
       " 'hallway',\n",
       " 'waiter',\n",
       " 'hugs',\n",
       " 'school',\n",
       " 'from',\n",
       " 'jill',\n",
       " 'crying',\n",
       " 'babies',\n",
       " 'change',\n",
       " 'rings',\n",
       " 'lost',\n",
       " 'carrying',\n",
       " 'started',\n",
       " 'except',\n",
       " 'hope',\n",
       " 'paper',\n",
       " 'giving',\n",
       " 'moves',\n",
       " 'suddenly',\n",
       " 'chance',\n",
       " 'six',\n",
       " 'joe',\n",
       " 'answer',\n",
       " 'mad',\n",
       " 'knows',\n",
       " 'hangs',\n",
       " 'hours',\n",
       " 'fire',\n",
       " 'ass',\n",
       " 'pulls',\n",
       " 'wish',\n",
       " 'boyfriend',\n",
       " 'pregnant',\n",
       " 'em',\n",
       " 'reason',\n",
       " 'easy',\n",
       " 'met',\n",
       " 'towards',\n",
       " 'duck',\n",
       " 'times',\n",
       " 'seriously',\n",
       " 'important',\n",
       " 'word',\n",
       " 'christmas',\n",
       " 'coat',\n",
       " 'bet',\n",
       " 'tribbiani',\n",
       " 'notices',\n",
       " 'absolutely',\n",
       " 'anybody',\n",
       " 'wh',\n",
       " 'wear',\n",
       " 'hit',\n",
       " 'joke',\n",
       " 'least',\n",
       " 'win',\n",
       " 'luck',\n",
       " 'many',\n",
       " 'perfect',\n",
       " 'lady',\n",
       " 'whatever',\n",
       " 'yelling',\n",
       " 'broke',\n",
       " 'clothes',\n",
       " 'very',\n",
       " 'barry',\n",
       " 'arm',\n",
       " 'buy',\n",
       " 'glad',\n",
       " 'kissing',\n",
       " 'class',\n",
       " 'exactly',\n",
       " 'week',\n",
       " 'relationship',\n",
       " 'haven',\n",
       " 'asked',\n",
       " 'thanksgiving',\n",
       " 'gasps',\n",
       " 'song',\n",
       " 'nurse',\n",
       " 'while',\n",
       " 'sweetie',\n",
       " 'top',\n",
       " 'water',\n",
       " 'answers',\n",
       " 'stands',\n",
       " 'family',\n",
       " 'fat',\n",
       " 'ho',\n",
       " 'ugh',\n",
       " 'butt',\n",
       " 'audition',\n",
       " 'hat',\n",
       " 'hurt',\n",
       " 'fake',\n",
       " 'camera',\n",
       " 'boss',\n",
       " 'couldn',\n",
       " 'dead',\n",
       " 'lives',\n",
       " 'along',\n",
       " 'marry',\n",
       " 'earlier',\n",
       " 'shirt',\n",
       " 'pay',\n",
       " 'dollars',\n",
       " 'cup',\n",
       " 'girlfriend',\n",
       " 'joanna',\n",
       " 'eddie',\n",
       " 'some',\n",
       " 'jack',\n",
       " 'after',\n",
       " 'myself',\n",
       " 'glares',\n",
       " 'sick',\n",
       " 'cannot',\n",
       " 'shows',\n",
       " 'pizza',\n",
       " 'shut',\n",
       " 'knocks',\n",
       " 'kate',\n",
       " 'ten',\n",
       " 'realizes',\n",
       " 'hour',\n",
       " 'staring',\n",
       " 'hospital',\n",
       " 'piece',\n",
       " 'mnca',\n",
       " 'men',\n",
       " 'city',\n",
       " 'across',\n",
       " 'upset',\n",
       " 'free',\n",
       " 'asleep',\n",
       " 'news',\n",
       " 'kill',\n",
       " 'smell',\n",
       " 'ice',\n",
       " 'welcome',\n",
       " 'eye',\n",
       " 'soon',\n",
       " 'tickets',\n",
       " 'feeling',\n",
       " 'message',\n",
       " 'gavin',\n",
       " 'these',\n",
       " 'bob',\n",
       " 'stand',\n",
       " 'our',\n",
       " 'shot',\n",
       " 'seems',\n",
       " 'london',\n",
       " 'figure',\n",
       " 'cab',\n",
       " 'shower',\n",
       " 'promise',\n",
       " 'fight',\n",
       " 'lunch',\n",
       " 'lose',\n",
       " 'store',\n",
       " 'building',\n",
       " 'grandmother',\n",
       " 'brought',\n",
       " 'plate',\n",
       " 'putting',\n",
       " 'falls',\n",
       " 'monkey',\n",
       " 'present',\n",
       " 'past',\n",
       " 'lapse',\n",
       " 'seat',\n",
       " 'young',\n",
       " 'returning',\n",
       " 'talked',\n",
       " 'definitely',\n",
       " 'chan',\n",
       " 'both',\n",
       " 'die',\n",
       " 'sometimes',\n",
       " 'eric',\n",
       " 'nobody',\n",
       " 'surprise',\n",
       " 'terrible',\n",
       " 'aren',\n",
       " 'stares',\n",
       " 'son',\n",
       " 'obviously',\n",
       " 'smiles',\n",
       " 'lauren',\n",
       " 'pain',\n",
       " 'meant',\n",
       " 'interrupting',\n",
       " 'roommate',\n",
       " 'teacher',\n",
       " 'marriage',\n",
       " 'wine',\n",
       " 'his',\n",
       " 'relax',\n",
       " 'hits',\n",
       " 'doin',\n",
       " 'small',\n",
       " 'starting',\n",
       " 'actor',\n",
       " 'sexy',\n",
       " 'steve',\n",
       " 'able',\n",
       " 'drunk',\n",
       " 'danny',\n",
       " 'slowly',\n",
       " 'smiling',\n",
       " 'answering',\n",
       " 'brother',\n",
       " 'unless',\n",
       " 'sandwich',\n",
       " 'jumps',\n",
       " 'yep',\n",
       " 'eh',\n",
       " 'chick',\n",
       " 'sign',\n",
       " 'seem',\n",
       " 'treeger',\n",
       " 'yourself',\n",
       " 'chicken',\n",
       " 'york',\n",
       " 'drake',\n",
       " 'full',\n",
       " 'were',\n",
       " 'should',\n",
       " 'calling',\n",
       " 'special',\n",
       " 'continued',\n",
       " 'forgot',\n",
       " 'note',\n",
       " 'himself',\n",
       " 'dancing',\n",
       " 'candy',\n",
       " 'phoe',\n",
       " 'onto',\n",
       " 'those',\n",
       " 'plan',\n",
       " 'assistant',\n",
       " 'finds',\n",
       " 'paolo',\n",
       " 'touch',\n",
       " 'heart',\n",
       " 'shoulder',\n",
       " 'weeks',\n",
       " 'plane',\n",
       " 'cake',\n",
       " 'aunt',\n",
       " 'gift',\n",
       " 'pass',\n",
       " 'likes',\n",
       " 'fast',\n",
       " 'massage',\n",
       " 'fault',\n",
       " 'finger',\n",
       " 'husband',\n",
       " 'bar',\n",
       " 'college',\n",
       " 'feet',\n",
       " 'lights',\n",
       " 'purse',\n",
       " 'liked',\n",
       " 'confused',\n",
       " 'scared',\n",
       " 'worried',\n",
       " 'music',\n",
       " 'once',\n",
       " 'desk',\n",
       " 'afraid',\n",
       " 'air',\n",
       " 'fridge',\n",
       " 'gay',\n",
       " 'ending',\n",
       " 'ticket',\n",
       " 'milk',\n",
       " 'motions',\n",
       " 'hotel',\n",
       " 'wall',\n",
       " 'ohhh',\n",
       " 'sir',\n",
       " 'eight',\n",
       " 'list',\n",
       " 'finish',\n",
       " 'straight',\n",
       " 'lying',\n",
       " 'smile',\n",
       " 'middle',\n",
       " 'sad',\n",
       " 'seven',\n",
       " 'order',\n",
       " 'damn',\n",
       " 'ralph',\n",
       " 'sleeping',\n",
       " 'dating',\n",
       " 'figured',\n",
       " 'writing',\n",
       " 'bought',\n",
       " 'turning',\n",
       " 'keys',\n",
       " 'far',\n",
       " 'fall',\n",
       " 'asking',\n",
       " 'stuck',\n",
       " 'words',\n",
       " 'returns',\n",
       " 'angrily',\n",
       " 'worse',\n",
       " 'grab',\n",
       " 'shakes',\n",
       " 'pushes',\n",
       " 'bunch',\n",
       " 'bucks',\n",
       " 'sweater',\n",
       " 'apparently',\n",
       " 'quit',\n",
       " 'turkey',\n",
       " 'star',\n",
       " 'nose',\n",
       " 'screaming',\n",
       " 'hundred',\n",
       " 'light',\n",
       " 'seconds',\n",
       " 'shouldn',\n",
       " 'porn',\n",
       " 'months',\n",
       " 'lie',\n",
       " 'fingers',\n",
       " 'buddy',\n",
       " 'tried',\n",
       " 'hanging',\n",
       " 'shoes',\n",
       " 'interesting',\n",
       " 'alice',\n",
       " 'smoke',\n",
       " 'missed',\n",
       " 'feels',\n",
       " 'moved',\n",
       " 'body',\n",
       " 'cookies',\n",
       " 'beer',\n",
       " 'looked',\n",
       " 'ear',\n",
       " 'entire',\n",
       " 'closer',\n",
       " 'worked',\n",
       " 'drops',\n",
       " 'third',\n",
       " 'daddy',\n",
       " 'showing',\n",
       " 'completely',\n",
       " 'pull',\n",
       " 'pointing',\n",
       " 'bottle',\n",
       " 'bill',\n",
       " 'picked',\n",
       " 'clock',\n",
       " 'surprised',\n",
       " 'estelle',\n",
       " 'doug',\n",
       " 'smart',\n",
       " 'yay',\n",
       " 'horrible',\n",
       " 'dressed',\n",
       " 'waltham',\n",
       " 'yours',\n",
       " 'glass',\n",
       " 'less',\n",
       " 'bobby',\n",
       " 'dream',\n",
       " 'weekend',\n",
       " 'wondering',\n",
       " 'feelings',\n",
       " 'using',\n",
       " 'cold',\n",
       " 'child',\n",
       " 'stunned',\n",
       " 'cookie',\n",
       " 'meeting',\n",
       " 'video',\n",
       " 'leg',\n",
       " 'guest',\n",
       " 'boxes',\n",
       " 'needs',\n",
       " 'sr',\n",
       " 'chip',\n",
       " 'fair',\n",
       " 'magazine',\n",
       " 'died',\n",
       " 'extra',\n",
       " 'lucky',\n",
       " 'zelner',\n",
       " 'checking',\n",
       " 'felt',\n",
       " 'red',\n",
       " 'although',\n",
       " 'realize',\n",
       " 'cards',\n",
       " 'step',\n",
       " 'cooking',\n",
       " 'spend',\n",
       " 'bra',\n",
       " 'balcony',\n",
       " 'kissed',\n",
       " 'key',\n",
       " 'business',\n",
       " 'nervous',\n",
       " 'catch',\n",
       " 'mindy',\n",
       " 'happens',\n",
       " 'bitch',\n",
       " 'heckles',\n",
       " 'conversation',\n",
       " 'slept',\n",
       " 'loved',\n",
       " 'plus',\n",
       " 'bonnie',\n",
       " 'stick',\n",
       " 'kim',\n",
       " 'stairs',\n",
       " 'noise',\n",
       " 'write',\n",
       " 'tim',\n",
       " 'ex',\n",
       " 'control',\n",
       " 'dear',\n",
       " 'dina',\n",
       " 'fired',\n",
       " 'legs',\n",
       " 'finished',\n",
       " 'arms',\n",
       " 'yesterday',\n",
       " ...]"
      ]
     },
     "execution_count": 53,
     "metadata": {},
     "output_type": "execute_result"
    }
   ],
   "source": [
    "y"
   ]
  },
  {
   "cell_type": "code",
   "execution_count": 54,
   "id": "50822c39",
   "metadata": {},
   "outputs": [],
   "source": [
    "from sklearn.decomposition import PCA"
   ]
  },
  {
   "cell_type": "code",
   "execution_count": 55,
   "id": "bf5e57b9",
   "metadata": {},
   "outputs": [],
   "source": [
    "pca = PCA(n_components=3)"
   ]
  },
  {
   "cell_type": "code",
   "execution_count": 56,
   "id": "61717150",
   "metadata": {},
   "outputs": [],
   "source": [
    "X = pca.fit_transform(model.wv.get_normed_vectors())"
   ]
  },
  {
   "cell_type": "code",
   "execution_count": 58,
   "id": "4156809d",
   "metadata": {},
   "outputs": [
    {
     "data": {
      "text/plain": [
       "(10549, 3)"
      ]
     },
     "execution_count": 58,
     "metadata": {},
     "output_type": "execute_result"
    }
   ],
   "source": [
    "X.shape"
   ]
  },
  {
   "cell_type": "code",
   "execution_count": 63,
   "id": "fe979048",
   "metadata": {},
   "outputs": [
    {
     "data": {
      "application/vnd.plotly.v1+json": {
       "config": {
        "plotlyServerURL": "https://plot.ly"
       },
       "data": [
        {
         "hovertemplate": "color=ross<br>0=%{x}<br>1=%{y}<br>2=%{z}<extra></extra>",
         "legendgroup": "ross",
         "marker": {
          "color": "#636efa",
          "symbol": "circle"
         },
         "mode": "markers",
         "name": "ross",
         "scene": "scene",
         "showlegend": true,
         "type": "scatter3d",
         "x": [
          -0.04523790255188942
         ],
         "y": [
          0.024479283019900322
         ],
         "z": [
          0.3186890482902527
         ]
        },
        {
         "hovertemplate": "color=rachel<br>0=%{x}<br>1=%{y}<br>2=%{z}<extra></extra>",
         "legendgroup": "rachel",
         "marker": {
          "color": "#EF553B",
          "symbol": "circle"
         },
         "mode": "markers",
         "name": "rachel",
         "scene": "scene",
         "showlegend": true,
         "type": "scatter3d",
         "x": [
          -0.10995834320783615
         ],
         "y": [
          0.16884997487068176
         ],
         "z": [
          0.41443294286727905
         ]
        },
        {
         "hovertemplate": "color=joey<br>0=%{x}<br>1=%{y}<br>2=%{z}<extra></extra>",
         "legendgroup": "joey",
         "marker": {
          "color": "#00cc96",
          "symbol": "circle"
         },
         "mode": "markers",
         "name": "joey",
         "scene": "scene",
         "showlegend": true,
         "type": "scatter3d",
         "x": [
          -0.1505436897277832
         ],
         "y": [
          0.03683345392346382
         ],
         "z": [
          0.3654191195964813
         ]
        },
        {
         "hovertemplate": "color=chandler<br>0=%{x}<br>1=%{y}<br>2=%{z}<extra></extra>",
         "legendgroup": "chandler",
         "marker": {
          "color": "#ab63fa",
          "symbol": "circle"
         },
         "mode": "markers",
         "name": "chandler",
         "scene": "scene",
         "showlegend": true,
         "type": "scatter3d",
         "x": [
          -0.13306963443756104
         ],
         "y": [
          0.05272139236330986
         ],
         "z": [
          0.3552665412425995
         ]
        },
        {
         "hovertemplate": "color=monica<br>0=%{x}<br>1=%{y}<br>2=%{z}<extra></extra>",
         "legendgroup": "monica",
         "marker": {
          "color": "#FFA15A",
          "symbol": "circle"
         },
         "mode": "markers",
         "name": "monica",
         "scene": "scene",
         "showlegend": true,
         "type": "scatter3d",
         "x": [
          -0.14207333326339722
         ],
         "y": [
          0.09007459878921509
         ],
         "z": [
          0.41152387857437134
         ]
        },
        {
         "hovertemplate": "color=phoebe<br>0=%{x}<br>1=%{y}<br>2=%{z}<extra></extra>",
         "legendgroup": "phoebe",
         "marker": {
          "color": "#19d3f3",
          "symbol": "circle"
         },
         "mode": "markers",
         "name": "phoebe",
         "scene": "scene",
         "showlegend": true,
         "type": "scatter3d",
         "x": [
          -0.05489913746714592
         ],
         "y": [
          0.11264718323945999
         ],
         "z": [
          0.31428515911102295
         ]
        },
        {
         "hovertemplate": "color=you<br>0=%{x}<br>1=%{y}<br>2=%{z}<extra></extra>",
         "legendgroup": "you",
         "marker": {
          "color": "#FF6692",
          "symbol": "circle"
         },
         "mode": "markers",
         "name": "you",
         "scene": "scene",
         "showlegend": true,
         "type": "scatter3d",
         "x": [
          0.49449872970581055
         ],
         "y": [
          -0.30895355343818665
         ],
         "z": [
          0.428388386964798
         ]
        },
        {
         "hovertemplate": "color=oh<br>0=%{x}<br>1=%{y}<br>2=%{z}<extra></extra>",
         "legendgroup": "oh",
         "marker": {
          "color": "#B6E880",
          "symbol": "circle"
         },
         "mode": "markers",
         "name": "oh",
         "scene": "scene",
         "showlegend": true,
         "type": "scatter3d",
         "x": [
          0.2770351767539978
         ],
         "y": [
          0.2100287824869156
         ],
         "z": [
          0.3740159869194031
         ]
        },
        {
         "hovertemplate": "color=it<br>0=%{x}<br>1=%{y}<br>2=%{z}<extra></extra>",
         "legendgroup": "it",
         "marker": {
          "color": "#FF97FF",
          "symbol": "circle"
         },
         "mode": "markers",
         "name": "it",
         "scene": "scene",
         "showlegend": true,
         "type": "scatter3d",
         "x": [
          0.37303677201271057
         ],
         "y": [
          -0.37271252274513245
         ],
         "z": [
          0.234938845038414
         ]
        },
        {
         "hovertemplate": "color=know<br>0=%{x}<br>1=%{y}<br>2=%{z}<extra></extra>",
         "legendgroup": "know",
         "marker": {
          "color": "#FECB52",
          "symbol": "circle"
         },
         "mode": "markers",
         "name": "know",
         "scene": "scene",
         "showlegend": true,
         "type": "scatter3d",
         "x": [
          0.6645803451538086
         ],
         "y": [
          -0.4340324103832245
         ],
         "z": [
          0.26249417662620544
         ]
        },
        {
         "hovertemplate": "color=no<br>0=%{x}<br>1=%{y}<br>2=%{z}<extra></extra>",
         "legendgroup": "no",
         "marker": {
          "color": "#636efa",
          "symbol": "circle"
         },
         "mode": "markers",
         "name": "no",
         "scene": "scene",
         "showlegend": true,
         "type": "scatter3d",
         "x": [
          0.33664101362228394
         ],
         "y": [
          0.028215186670422554
         ],
         "z": [
          0.3307065963745117
         ]
        },
        {
         "hovertemplate": "color=that<br>0=%{x}<br>1=%{y}<br>2=%{z}<extra></extra>",
         "legendgroup": "that",
         "marker": {
          "color": "#EF553B",
          "symbol": "circle"
         },
         "mode": "markers",
         "name": "that",
         "scene": "scene",
         "showlegend": true,
         "type": "scatter3d",
         "x": [
          0.5976905226707458
         ],
         "y": [
          -0.15228916704654694
         ],
         "z": [
          0.14750781655311584
         ]
        },
        {
         "hovertemplate": "color=what<br>0=%{x}<br>1=%{y}<br>2=%{z}<extra></extra>",
         "legendgroup": "what",
         "marker": {
          "color": "#00cc96",
          "symbol": "circle"
         },
         "mode": "markers",
         "name": "what",
         "scene": "scene",
         "showlegend": true,
         "type": "scatter3d",
         "x": [
          0.3200577199459076
         ],
         "y": [
          0.11940068006515503
         ],
         "z": [
          0.3606642186641693
         ]
        },
        {
         "hovertemplate": "color=yeah<br>0=%{x}<br>1=%{y}<br>2=%{z}<extra></extra>",
         "legendgroup": "yeah",
         "marker": {
          "color": "#ab63fa",
          "symbol": "circle"
         },
         "mode": "markers",
         "name": "yeah",
         "scene": "scene",
         "showlegend": true,
         "type": "scatter3d",
         "x": [
          0.5606386661529541
         ],
         "y": [
          -0.007885877974331379
         ],
         "z": [
          0.22053134441375732
         ]
        },
        {
         "hovertemplate": "color=okay<br>0=%{x}<br>1=%{y}<br>2=%{z}<extra></extra>",
         "legendgroup": "okay",
         "marker": {
          "color": "#FFA15A",
          "symbol": "circle"
         },
         "mode": "markers",
         "name": "okay",
         "scene": "scene",
         "showlegend": true,
         "type": "scatter3d",
         "x": [
          0.4308915138244629
         ],
         "y": [
          -0.07951738685369492
         ],
         "z": [
          0.46837127208709717
         ]
        },
        {
         "hovertemplate": "color=well<br>0=%{x}<br>1=%{y}<br>2=%{z}<extra></extra>",
         "legendgroup": "well",
         "marker": {
          "color": "#19d3f3",
          "symbol": "circle"
         },
         "mode": "markers",
         "name": "well",
         "scene": "scene",
         "showlegend": true,
         "type": "scatter3d",
         "x": [
          0.6691651344299316
         ],
         "y": [
          -0.2762100100517273
         ],
         "z": [
          0.2940910756587982
         ]
        },
        {
         "hovertemplate": "color=hey<br>0=%{x}<br>1=%{y}<br>2=%{z}<extra></extra>",
         "legendgroup": "hey",
         "marker": {
          "color": "#FF6692",
          "symbol": "circle"
         },
         "mode": "markers",
         "name": "hey",
         "scene": "scene",
         "showlegend": true,
         "type": "scatter3d",
         "x": [
          0.11955537647008896
         ],
         "y": [
          0.22944366931915283
         ],
         "z": [
          0.4722766876220703
         ]
        },
        {
         "hovertemplate": "color=re<br>0=%{x}<br>1=%{y}<br>2=%{z}<extra></extra>",
         "legendgroup": "re",
         "marker": {
          "color": "#B6E880",
          "symbol": "circle"
         },
         "mode": "markers",
         "name": "re",
         "scene": "scene",
         "showlegend": true,
         "type": "scatter3d",
         "x": [
          0.3305439352989197
         ],
         "y": [
          -0.17324486374855042
         ],
         "z": [
          0.5106222629547119
         ]
        },
        {
         "hovertemplate": "color=right<br>0=%{x}<br>1=%{y}<br>2=%{z}<extra></extra>",
         "legendgroup": "right",
         "marker": {
          "color": "#FF97FF",
          "symbol": "circle"
         },
         "mode": "markers",
         "name": "right",
         "scene": "scene",
         "showlegend": true,
         "type": "scatter3d",
         "x": [
          0.28035491704940796
         ],
         "y": [
          -0.14156566560268402
         ],
         "z": [
          0.542628824710846
         ]
        },
        {
         "hovertemplate": "color=he<br>0=%{x}<br>1=%{y}<br>2=%{z}<extra></extra>",
         "legendgroup": "he",
         "marker": {
          "color": "#FECB52",
          "symbol": "circle"
         },
         "mode": "markers",
         "name": "he",
         "scene": "scene",
         "showlegend": true,
         "type": "scatter3d",
         "x": [
          -0.181073859333992
         ],
         "y": [
          -0.3885437250137329
         ],
         "z": [
          0.3255351483821869
         ]
        },
        {
         "hovertemplate": "color=like<br>0=%{x}<br>1=%{y}<br>2=%{z}<extra></extra>",
         "legendgroup": "like",
         "marker": {
          "color": "#636efa",
          "symbol": "circle"
         },
         "mode": "markers",
         "name": "like",
         "scene": "scene",
         "showlegend": true,
         "type": "scatter3d",
         "x": [
          0.38532930612564087
         ],
         "y": [
          -0.48997628688812256
         ],
         "z": [
          0.18505339324474335
         ]
        },
        {
         "hovertemplate": "color=scene<br>0=%{x}<br>1=%{y}<br>2=%{z}<extra></extra>",
         "legendgroup": "scene",
         "marker": {
          "color": "#EF553B",
          "symbol": "circle"
         },
         "mode": "markers",
         "name": "scene",
         "scene": "scene",
         "showlegend": true,
         "type": "scatter3d",
         "x": [
          -0.39101889729499817
         ],
         "y": [
          0.2677231431007385
         ],
         "z": [
          0.39495909214019775
         ]
        },
        {
         "hovertemplate": "color=get<br>0=%{x}<br>1=%{y}<br>2=%{z}<extra></extra>",
         "legendgroup": "get",
         "marker": {
          "color": "#00cc96",
          "symbol": "circle"
         },
         "mode": "markers",
         "name": "get",
         "scene": "scene",
         "showlegend": true,
         "type": "scatter3d",
         "x": [
          0.2916981279850006
         ],
         "y": [
          -0.5130254626274109
         ],
         "z": [
          0.49261265993118286
         ]
        },
        {
         "hovertemplate": "color=the<br>0=%{x}<br>1=%{y}<br>2=%{z}<extra></extra>",
         "legendgroup": "the",
         "marker": {
          "color": "#ab63fa",
          "symbol": "circle"
         },
         "mode": "markers",
         "name": "the",
         "scene": "scene",
         "showlegend": true,
         "type": "scatter3d",
         "x": [
          -0.2815034091472626
         ],
         "y": [
          -0.03898368403315544
         ],
         "z": [
          0.26283642649650574
         ]
        },
        {
         "hovertemplate": "color=we<br>0=%{x}<br>1=%{y}<br>2=%{z}<extra></extra>",
         "legendgroup": "we",
         "marker": {
          "color": "#FFA15A",
          "symbol": "circle"
         },
         "mode": "markers",
         "name": "we",
         "scene": "scene",
         "showlegend": true,
         "type": "scatter3d",
         "x": [
          0.3123950660228729
         ],
         "y": [
          -0.3355012834072113
         ],
         "z": [
          0.5240038633346558
         ]
        },
        {
         "hovertemplate": "color=and<br>0=%{x}<br>1=%{y}<br>2=%{z}<extra></extra>",
         "legendgroup": "and",
         "marker": {
          "color": "#19d3f3",
          "symbol": "circle"
         },
         "mode": "markers",
         "name": "and",
         "scene": "scene",
         "showlegend": true,
         "type": "scatter3d",
         "x": [
          0.32512617111206055
         ],
         "y": [
          -0.5484724640846252
         ],
         "z": [
          0.2596888542175293
         ]
        },
        {
         "hovertemplate": "color=gonna<br>0=%{x}<br>1=%{y}<br>2=%{z}<extra></extra>",
         "legendgroup": "gonna",
         "marker": {
          "color": "#FF6692",
          "symbol": "circle"
         },
         "mode": "markers",
         "name": "gonna",
         "scene": "scene",
         "showlegend": true,
         "type": "scatter3d",
         "x": [
          0.4789849817752838
         ],
         "y": [
          -0.36979278922080994
         ],
         "z": [
          0.5702700018882751
         ]
        },
        {
         "hovertemplate": "color=she<br>0=%{x}<br>1=%{y}<br>2=%{z}<extra></extra>",
         "legendgroup": "she",
         "marker": {
          "color": "#B6E880",
          "symbol": "circle"
         },
         "mode": "markers",
         "name": "she",
         "scene": "scene",
         "showlegend": true,
         "type": "scatter3d",
         "x": [
          -0.23520664870738983
         ],
         "y": [
          -0.27725881338119507
         ],
         "z": [
          0.3312208354473114
         ]
        },
        {
         "hovertemplate": "color=go<br>0=%{x}<br>1=%{y}<br>2=%{z}<extra></extra>",
         "legendgroup": "go",
         "marker": {
          "color": "#FF97FF",
          "symbol": "circle"
         },
         "mode": "markers",
         "name": "go",
         "scene": "scene",
         "showlegend": true,
         "type": "scatter3d",
         "x": [
          0.22230374813079834
         ],
         "y": [
          -0.3069475293159485
         ],
         "z": [
          0.5945373773574829
         ]
        },
        {
         "hovertemplate": "color=one<br>0=%{x}<br>1=%{y}<br>2=%{z}<extra></extra>",
         "legendgroup": "one",
         "marker": {
          "color": "#FECB52",
          "symbol": "circle"
         },
         "mode": "markers",
         "name": "one",
         "scene": "scene",
         "showlegend": true,
         "type": "scatter3d",
         "x": [
          0.08350027352571487
         ],
         "y": [
          -0.5210303068161011
         ],
         "z": [
          0.1980658620595932
         ]
        },
        {
         "hovertemplate": "color=me<br>0=%{x}<br>1=%{y}<br>2=%{z}<extra></extra>",
         "legendgroup": "me",
         "marker": {
          "color": "#636efa",
          "symbol": "circle"
         },
         "mode": "markers",
         "name": "me",
         "scene": "scene",
         "showlegend": true,
         "type": "scatter3d",
         "x": [
          0.5273891687393188
         ],
         "y": [
          -0.28175613284111023
         ],
         "z": [
          0.3926312029361725
         ]
        },
        {
         "hovertemplate": "color=uh<br>0=%{x}<br>1=%{y}<br>2=%{z}<extra></extra>",
         "legendgroup": "uh",
         "marker": {
          "color": "#EF553B",
          "symbol": "circle"
         },
         "mode": "markers",
         "name": "uh",
         "scene": "scene",
         "showlegend": true,
         "type": "scatter3d",
         "x": [
          0.44884154200553894
         ],
         "y": [
          -0.10582608729600906
         ],
         "z": [
          0.3425254821777344
         ]
        },
        {
         "hovertemplate": "color=really<br>0=%{x}<br>1=%{y}<br>2=%{z}<extra></extra>",
         "legendgroup": "really",
         "marker": {
          "color": "#00cc96",
          "symbol": "circle"
         },
         "mode": "markers",
         "name": "really",
         "scene": "scene",
         "showlegend": true,
         "type": "scatter3d",
         "x": [
          0.7063322067260742
         ],
         "y": [
          -0.2698233723640442
         ],
         "z": [
          0.25107449293136597
         ]
        },
        {
         "hovertemplate": "color=so<br>0=%{x}<br>1=%{y}<br>2=%{z}<extra></extra>",
         "legendgroup": "so",
         "marker": {
          "color": "#ab63fa",
          "symbol": "circle"
         },
         "mode": "markers",
         "name": "so",
         "scene": "scene",
         "showlegend": true,
         "type": "scatter3d",
         "x": [
          0.4746384918689728
         ],
         "y": [
          -0.21546776592731476
         ],
         "z": [
          0.4085814952850342
         ]
        },
        {
         "hovertemplate": "color=don<br>0=%{x}<br>1=%{y}<br>2=%{z}<extra></extra>",
         "legendgroup": "don",
         "marker": {
          "color": "#FFA15A",
          "symbol": "circle"
         },
         "mode": "markers",
         "name": "don",
         "scene": "scene",
         "showlegend": true,
         "type": "scatter3d",
         "x": [
          0.5219315886497498
         ],
         "y": [
          -0.25511622428894043
         ],
         "z": [
          0.48068132996559143
         ]
        },
        {
         "hovertemplate": "color=look<br>0=%{x}<br>1=%{y}<br>2=%{z}<extra></extra>",
         "legendgroup": "look",
         "marker": {
          "color": "#19d3f3",
          "symbol": "circle"
         },
         "mode": "markers",
         "name": "look",
         "scene": "scene",
         "showlegend": true,
         "type": "scatter3d",
         "x": [
          0.29465019702911377
         ],
         "y": [
          -0.2085428237915039
         ],
         "z": [
          0.45221081376075745
         ]
        },
        {
         "hovertemplate": "color=think<br>0=%{x}<br>1=%{y}<br>2=%{z}<extra></extra>",
         "legendgroup": "think",
         "marker": {
          "color": "#FF6692",
          "symbol": "circle"
         },
         "mode": "markers",
         "name": "think",
         "scene": "scene",
         "showlegend": true,
         "type": "scatter3d",
         "x": [
          0.6766296625137329
         ],
         "y": [
          -0.3869110941886902
         ],
         "z": [
          0.2959841787815094
         ]
        },
        {
         "hovertemplate": "color=there<br>0=%{x}<br>1=%{y}<br>2=%{z}<extra></extra>",
         "legendgroup": "there",
         "marker": {
          "color": "#B6E880",
          "symbol": "circle"
         },
         "mode": "markers",
         "name": "there",
         "scene": "scene",
         "showlegend": true,
         "type": "scatter3d",
         "x": [
          0.09087277948856354
         ],
         "y": [
          -0.16425618529319763
         ],
         "z": [
          0.33839544653892517
         ]
        },
        {
         "hovertemplate": "color=they<br>0=%{x}<br>1=%{y}<br>2=%{z}<extra></extra>",
         "legendgroup": "they",
         "marker": {
          "color": "#FF97FF",
          "symbol": "circle"
         },
         "mode": "markers",
         "name": "they",
         "scene": "scene",
         "showlegend": true,
         "type": "scatter3d",
         "x": [
          -0.0415830984711647
         ],
         "y": [
          -0.3007901906967163
         ],
         "z": [
          0.5458219647407532
         ]
        },
        {
         "hovertemplate": "color=to<br>0=%{x}<br>1=%{y}<br>2=%{z}<extra></extra>",
         "legendgroup": "to",
         "marker": {
          "color": "#FECB52",
          "symbol": "circle"
         },
         "mode": "markers",
         "name": "to",
         "scene": "scene",
         "showlegend": true,
         "type": "scatter3d",
         "x": [
          0.30435675382614136
         ],
         "y": [
          0.2776055634021759
         ],
         "z": [
          0.4241800010204315
         ]
        },
        {
         "hovertemplate": "color=this<br>0=%{x}<br>1=%{y}<br>2=%{z}<extra></extra>",
         "legendgroup": "this",
         "marker": {
          "color": "#636efa",
          "symbol": "circle"
         },
         "mode": "markers",
         "name": "this",
         "scene": "scene",
         "showlegend": true,
         "type": "scatter3d",
         "x": [
          0.5103591680526733
         ],
         "y": [
          -0.24661758542060852
         ],
         "z": [
          0.1849306970834732
         ]
        },
        {
         "hovertemplate": "color=can<br>0=%{x}<br>1=%{y}<br>2=%{z}<extra></extra>",
         "legendgroup": "can",
         "marker": {
          "color": "#EF553B",
          "symbol": "circle"
         },
         "mode": "markers",
         "name": "can",
         "scene": "scene",
         "showlegend": true,
         "type": "scatter3d",
         "x": [
          0.3642280101776123
         ],
         "y": [
          -0.20403137803077698
         ],
         "z": [
          0.5074431300163269
         ]
        },
        {
         "hovertemplate": "color=see<br>0=%{x}<br>1=%{y}<br>2=%{z}<extra></extra>",
         "legendgroup": "see",
         "marker": {
          "color": "#00cc96",
          "symbol": "circle"
         },
         "mode": "markers",
         "name": "see",
         "scene": "scene",
         "showlegend": true,
         "type": "scatter3d",
         "x": [
          0.32907503843307495
         ],
         "y": [
          -0.31780701875686646
         ],
         "z": [
          0.4080195128917694
         ]
        },
        {
         "hovertemplate": "color=ll<br>0=%{x}<br>1=%{y}<br>2=%{z}<extra></extra>",
         "legendgroup": "ll",
         "marker": {
          "color": "#ab63fa",
          "symbol": "circle"
         },
         "mode": "markers",
         "name": "ll",
         "scene": "scene",
         "showlegend": true,
         "type": "scatter3d",
         "x": [
          0.3036482036113739
         ],
         "y": [
          -0.35070520639419556
         ],
         "z": [
          0.6264512538909912
         ]
        },
        {
         "hovertemplate": "color=mean<br>0=%{x}<br>1=%{y}<br>2=%{z}<extra></extra>",
         "legendgroup": "mean",
         "marker": {
          "color": "#FFA15A",
          "symbol": "circle"
         },
         "mode": "markers",
         "name": "mean",
         "scene": "scene",
         "showlegend": true,
         "type": "scatter3d",
         "x": [
          0.6254924535751343
         ],
         "y": [
          -0.5331061482429504
         ],
         "z": [
          0.21224889159202576
         ]
        },
        {
         "hovertemplate": "color=all<br>0=%{x}<br>1=%{y}<br>2=%{z}<extra></extra>",
         "legendgroup": "all",
         "marker": {
          "color": "#19d3f3",
          "symbol": "circle"
         },
         "mode": "markers",
         "name": "all",
         "scene": "scene",
         "showlegend": true,
         "type": "scatter3d",
         "x": [
          0.20802177488803864
         ],
         "y": [
          -0.0684180036187172
         ],
         "z": [
          0.5073838829994202
         ]
        },
        {
         "hovertemplate": "color=back<br>0=%{x}<br>1=%{y}<br>2=%{z}<extra></extra>",
         "legendgroup": "back",
         "marker": {
          "color": "#FF6692",
          "symbol": "circle"
         },
         "mode": "markers",
         "name": "back",
         "scene": "scene",
         "showlegend": true,
         "type": "scatter3d",
         "x": [
          -0.25304535031318665
         ],
         "y": [
          -0.33124038577079773
         ],
         "z": [
          0.591062068939209
         ]
        },
        {
         "hovertemplate": "color=got<br>0=%{x}<br>1=%{y}<br>2=%{z}<extra></extra>",
         "legendgroup": "got",
         "marker": {
          "color": "#B6E880",
          "symbol": "circle"
         },
         "mode": "markers",
         "name": "got",
         "scene": "scene",
         "showlegend": true,
         "type": "scatter3d",
         "x": [
          0.2570781111717224
         ],
         "y": [
          -0.2613274157047272
         ],
         "z": [
          0.34506139159202576
         ]
        },
        {
         "hovertemplate": "color=here<br>0=%{x}<br>1=%{y}<br>2=%{z}<extra></extra>",
         "legendgroup": "here",
         "marker": {
          "color": "#FF97FF",
          "symbol": "circle"
         },
         "mode": "markers",
         "name": "here",
         "scene": "scene",
         "showlegend": true,
         "type": "scatter3d",
         "x": [
          0.2992402911186218
         ],
         "y": [
          -0.10994739830493927
         ],
         "z": [
          0.44413191080093384
         ]
        },
        {
         "hovertemplate": "color=good<br>0=%{x}<br>1=%{y}<br>2=%{z}<extra></extra>",
         "legendgroup": "good",
         "marker": {
          "color": "#FECB52",
          "symbol": "circle"
         },
         "mode": "markers",
         "name": "good",
         "scene": "scene",
         "showlegend": true,
         "type": "scatter3d",
         "x": [
          0.44094082713127136
         ],
         "y": [
          -0.06063833087682724
         ],
         "z": [
          0.2680840492248535
         ]
        },
        {
         "hovertemplate": "color=come<br>0=%{x}<br>1=%{y}<br>2=%{z}<extra></extra>",
         "legendgroup": "come",
         "marker": {
          "color": "#636efa",
          "symbol": "circle"
         },
         "mode": "markers",
         "name": "come",
         "scene": "scene",
         "showlegend": true,
         "type": "scatter3d",
         "x": [
          0.32812410593032837
         ],
         "y": [
          -0.10909481346607208
         ],
         "z": [
          0.5634706616401672
         ]
        },
        {
         "hovertemplate": "color=want<br>0=%{x}<br>1=%{y}<br>2=%{z}<extra></extra>",
         "legendgroup": "want",
         "marker": {
          "color": "#EF553B",
          "symbol": "circle"
         },
         "mode": "markers",
         "name": "want",
         "scene": "scene",
         "showlegend": true,
         "type": "scatter3d",
         "x": [
          0.5780985355377197
         ],
         "y": [
          -0.39392322301864624
         ],
         "z": [
          0.4396514594554901
         ]
        },
        {
         "hovertemplate": "color=god<br>0=%{x}<br>1=%{y}<br>2=%{z}<extra></extra>",
         "legendgroup": "god",
         "marker": {
          "color": "#00cc96",
          "symbol": "circle"
         },
         "mode": "markers",
         "name": "god",
         "scene": "scene",
         "showlegend": true,
         "type": "scatter3d",
         "x": [
          0.1508147269487381
         ],
         "y": [
          0.14441846311092377
         ],
         "z": [
          0.3441987633705139
         ]
        },
        {
         "hovertemplate": "color=would<br>0=%{x}<br>1=%{y}<br>2=%{z}<extra></extra>",
         "legendgroup": "would",
         "marker": {
          "color": "#ab63fa",
          "symbol": "circle"
         },
         "mode": "markers",
         "name": "would",
         "scene": "scene",
         "showlegend": true,
         "type": "scatter3d",
         "x": [
          0.5293055176734924
         ],
         "y": [
          -0.42452844977378845
         ],
         "z": [
          0.311749130487442
         ]
        },
        {
         "hovertemplate": "color=guys<br>0=%{x}<br>1=%{y}<br>2=%{z}<extra></extra>",
         "legendgroup": "guys",
         "marker": {
          "color": "#FFA15A",
          "symbol": "circle"
         },
         "mode": "markers",
         "name": "guys",
         "scene": "scene",
         "showlegend": true,
         "type": "scatter3d",
         "x": [
          0.3594813942909241
         ],
         "y": [
          -0.23443244397640228
         ],
         "z": [
          0.4021246135234833
         ]
        },
        {
         "hovertemplate": "color=him<br>0=%{x}<br>1=%{y}<br>2=%{z}<extra></extra>",
         "legendgroup": "him",
         "marker": {
          "color": "#19d3f3",
          "symbol": "circle"
         },
         "mode": "markers",
         "name": "him",
         "scene": "scene",
         "showlegend": true,
         "type": "scatter3d",
         "x": [
          -0.02645396813750267
         ],
         "y": [
          -0.18630045652389526
         ],
         "z": [
          0.4861440062522888
         ]
        },
        {
         "hovertemplate": "color=going<br>0=%{x}<br>1=%{y}<br>2=%{z}<extra></extra>",
         "legendgroup": "going",
         "marker": {
          "color": "#FF6692",
          "symbol": "circle"
         },
         "mode": "markers",
         "name": "going",
         "scene": "scene",
         "showlegend": true,
         "type": "scatter3d",
         "x": [
          0.41316068172454834
         ],
         "y": [
          -0.27434539794921875
         ],
         "z": [
          0.48864641785621643
         ]
        },
        {
         "hovertemplate": "color=on<br>0=%{x}<br>1=%{y}<br>2=%{z}<extra></extra>",
         "legendgroup": "on",
         "marker": {
          "color": "#B6E880",
          "symbol": "circle"
         },
         "mode": "markers",
         "name": "on",
         "scene": "scene",
         "showlegend": true,
         "type": "scatter3d",
         "x": [
          0.09624172747135162
         ],
         "y": [
          0.023435119539499283
         ],
         "z": [
          0.4890066385269165
         ]
        },
        {
         "hovertemplate": "color=ve<br>0=%{x}<br>1=%{y}<br>2=%{z}<extra></extra>",
         "legendgroup": "ve",
         "marker": {
          "color": "#FF97FF",
          "symbol": "circle"
         },
         "mode": "markers",
         "name": "ve",
         "scene": "scene",
         "showlegend": true,
         "type": "scatter3d",
         "x": [
          0.42016807198524475
         ],
         "y": [
          -0.39350640773773193
         ],
         "z": [
          0.321181058883667
         ]
        },
        {
         "hovertemplate": "color=but<br>0=%{x}<br>1=%{y}<br>2=%{z}<extra></extra>",
         "legendgroup": "but",
         "marker": {
          "color": "#FECB52",
          "symbol": "circle"
         },
         "mode": "markers",
         "name": "but",
         "scene": "scene",
         "showlegend": true,
         "type": "scatter3d",
         "x": [
          0.7034867405891418
         ],
         "y": [
          -0.4366992712020874
         ],
         "z": [
          0.271194189786911
         ]
        },
        {
         "hovertemplate": "color=sorry<br>0=%{x}<br>1=%{y}<br>2=%{z}<extra></extra>",
         "legendgroup": "sorry",
         "marker": {
          "color": "#636efa",
          "symbol": "circle"
         },
         "mode": "markers",
         "name": "sorry",
         "scene": "scene",
         "showlegend": true,
         "type": "scatter3d",
         "x": [
          0.5450275540351868
         ],
         "y": [
          0.1306241899728775
         ],
         "z": [
          0.32184335589408875
         ]
        },
        {
         "hovertemplate": "color=her<br>0=%{x}<br>1=%{y}<br>2=%{z}<extra></extra>",
         "legendgroup": "her",
         "marker": {
          "color": "#EF553B",
          "symbol": "circle"
         },
         "mode": "markers",
         "name": "her",
         "scene": "scene",
         "showlegend": true,
         "type": "scatter3d",
         "x": [
          0.04245949909090996
         ],
         "y": [
          -0.28605571389198303
         ],
         "z": [
          0.4503221809864044
         ]
        },
        {
         "hovertemplate": "color=now<br>0=%{x}<br>1=%{y}<br>2=%{z}<extra></extra>",
         "legendgroup": "now",
         "marker": {
          "color": "#00cc96",
          "symbol": "circle"
         },
         "mode": "markers",
         "name": "now",
         "scene": "scene",
         "showlegend": true,
         "type": "scatter3d",
         "x": [
          0.4123254120349884
         ],
         "y": [
          -0.40528061985969543
         ],
         "z": [
          0.46812552213668823
         ]
        },
        {
         "hovertemplate": "color=time<br>0=%{x}<br>1=%{y}<br>2=%{z}<extra></extra>",
         "legendgroup": "time",
         "marker": {
          "color": "#ab63fa",
          "symbol": "circle"
         },
         "mode": "markers",
         "name": "time",
         "scene": "scene",
         "showlegend": true,
         "type": "scatter3d",
         "x": [
          0.32367345690727234
         ],
         "y": [
          -0.5564072728157043
         ],
         "z": [
          0.3047780990600586
         ]
        },
        {
         "hovertemplate": "color=hi<br>0=%{x}<br>1=%{y}<br>2=%{z}<extra></extra>",
         "legendgroup": "hi",
         "marker": {
          "color": "#FFA15A",
          "symbol": "circle"
         },
         "mode": "markers",
         "name": "hi",
         "scene": "scene",
         "showlegend": true,
         "type": "scatter3d",
         "x": [
          -0.07326807826757431
         ],
         "y": [
          0.6636787056922913
         ],
         "z": [
          0.4008678197860718
         ]
        },
        {
         "hovertemplate": "color=up<br>0=%{x}<br>1=%{y}<br>2=%{z}<extra></extra>",
         "legendgroup": "up",
         "marker": {
          "color": "#19d3f3",
          "symbol": "circle"
         },
         "mode": "markers",
         "name": "up",
         "scene": "scene",
         "showlegend": true,
         "type": "scatter3d",
         "x": [
          -0.10640864819288254
         ],
         "y": [
          -0.20841017365455627
         ],
         "z": [
          0.5633434653282166
         ]
        },
        {
         "hovertemplate": "color=do<br>0=%{x}<br>1=%{y}<br>2=%{z}<extra></extra>",
         "legendgroup": "do",
         "marker": {
          "color": "#FF6692",
          "symbol": "circle"
         },
         "mode": "markers",
         "name": "do",
         "scene": "scene",
         "showlegend": true,
         "type": "scatter3d",
         "x": [
          0.5743130445480347
         ],
         "y": [
          -0.2416571080684662
         ],
         "z": [
          0.3123289942741394
         ]
        },
        {
         "hovertemplate": "color=little<br>0=%{x}<br>1=%{y}<br>2=%{z}<extra></extra>",
         "legendgroup": "little",
         "marker": {
          "color": "#B6E880",
          "symbol": "circle"
         },
         "mode": "markers",
         "name": "little",
         "scene": "scene",
         "showlegend": true,
         "type": "scatter3d",
         "x": [
          0.2536638677120209
         ],
         "y": [
          -0.5331411957740784
         ],
         "z": [
          0.26615795493125916
         ]
        },
        {
         "hovertemplate": "color=ok<br>0=%{x}<br>1=%{y}<br>2=%{z}<extra></extra>",
         "legendgroup": "ok",
         "marker": {
          "color": "#FF97FF",
          "symbol": "circle"
         },
         "mode": "markers",
         "name": "ok",
         "scene": "scene",
         "showlegend": true,
         "type": "scatter3d",
         "x": [
          0.18807388842105865
         ],
         "y": [
          0.03878603130578995
         ],
         "z": [
          0.5528424382209778
         ]
        },
        {
         "hovertemplate": "color=great<br>0=%{x}<br>1=%{y}<br>2=%{z}<extra></extra>",
         "legendgroup": "great",
         "marker": {
          "color": "#FECB52",
          "symbol": "circle"
         },
         "mode": "markers",
         "name": "great",
         "scene": "scene",
         "showlegend": true,
         "type": "scatter3d",
         "x": [
          0.5510181188583374
         ],
         "y": [
          0.00548130227252841
         ],
         "z": [
          0.1565411537885666
         ]
        },
        {
         "hovertemplate": "color=guy<br>0=%{x}<br>1=%{y}<br>2=%{z}<extra></extra>",
         "legendgroup": "guy",
         "marker": {
          "color": "#636efa",
          "symbol": "circle"
         },
         "mode": "markers",
         "name": "guy",
         "scene": "scene",
         "showlegend": true,
         "type": "scatter3d",
         "x": [
          0.09820514172315598
         ],
         "y": [
          -0.44630712270736694
         ],
         "z": [
          0.1298275589942932
         ]
        },
        {
         "hovertemplate": "color=let<br>0=%{x}<br>1=%{y}<br>2=%{z}<extra></extra>",
         "legendgroup": "let",
         "marker": {
          "color": "#EF553B",
          "symbol": "circle"
         },
         "mode": "markers",
         "name": "let",
         "scene": "scene",
         "showlegend": true,
         "type": "scatter3d",
         "x": [
          0.2933852970600128
         ],
         "y": [
          -0.27162107825279236
         ],
         "z": [
          0.5872011780738831
         ]
        },
        {
         "hovertemplate": "color=say<br>0=%{x}<br>1=%{y}<br>2=%{z}<extra></extra>",
         "legendgroup": "say",
         "marker": {
          "color": "#00cc96",
          "symbol": "circle"
         },
         "mode": "markers",
         "name": "say",
         "scene": "scene",
         "showlegend": true,
         "type": "scatter3d",
         "x": [
          0.5702342987060547
         ],
         "y": [
          -0.24749836325645447
         ],
         "z": [
          0.36646589636802673
         ]
        },
        {
         "hovertemplate": "color=tell<br>0=%{x}<br>1=%{y}<br>2=%{z}<extra></extra>",
         "legendgroup": "tell",
         "marker": {
          "color": "#ab63fa",
          "symbol": "circle"
         },
         "mode": "markers",
         "name": "tell",
         "scene": "scene",
         "showlegend": true,
         "type": "scatter3d",
         "x": [
          0.6553851962089539
         ],
         "y": [
          -0.2807632386684418
         ],
         "z": [
          0.43564578890800476
         ]
        },
        {
         "hovertemplate": "color=yes<br>0=%{x}<br>1=%{y}<br>2=%{z}<extra></extra>",
         "legendgroup": "yes",
         "marker": {
          "color": "#FFA15A",
          "symbol": "circle"
         },
         "mode": "markers",
         "name": "yes",
         "scene": "scene",
         "showlegend": true,
         "type": "scatter3d",
         "x": [
          0.3557531237602234
         ],
         "y": [
          0.3161473572254181
         ],
         "z": [
          0.22195690870285034
         ]
        },
        {
         "hovertemplate": "color=door<br>0=%{x}<br>1=%{y}<br>2=%{z}<extra></extra>",
         "legendgroup": "door",
         "marker": {
          "color": "#19d3f3",
          "symbol": "circle"
         },
         "mode": "markers",
         "name": "door",
         "scene": "scene",
         "showlegend": true,
         "type": "scatter3d",
         "x": [
          -0.4989238679409027
         ],
         "y": [
          0.1768644154071808
         ],
         "z": [
          0.5592990517616272
         ]
        },
        {
         "hovertemplate": "color=something<br>0=%{x}<br>1=%{y}<br>2=%{z}<extra></extra>",
         "legendgroup": "something",
         "marker": {
          "color": "#FF6692",
          "symbol": "circle"
         },
         "mode": "markers",
         "name": "something",
         "scene": "scene",
         "showlegend": true,
         "type": "scatter3d",
         "x": [
          0.3416025936603546
         ],
         "y": [
          -0.3900777995586395
         ],
         "z": [
          0.37175452709198
         ]
        },
        {
         "hovertemplate": "color=out<br>0=%{x}<br>1=%{y}<br>2=%{z}<extra></extra>",
         "legendgroup": "out",
         "marker": {
          "color": "#B6E880",
          "symbol": "circle"
         },
         "mode": "markers",
         "name": "out",
         "scene": "scene",
         "showlegend": true,
         "type": "scatter3d",
         "x": [
          -0.021821154281497
         ],
         "y": [
          -0.4137454330921173
         ],
         "z": [
          0.4811345040798187
         ]
        },
        {
         "hovertemplate": "color=could<br>0=%{x}<br>1=%{y}<br>2=%{z}<extra></extra>",
         "legendgroup": "could",
         "marker": {
          "color": "#FF97FF",
          "symbol": "circle"
         },
         "mode": "markers",
         "name": "could",
         "scene": "scene",
         "showlegend": true,
         "type": "scatter3d",
         "x": [
          0.48129990696907043
         ],
         "y": [
          -0.5237455368041992
         ],
         "z": [
          0.40817826986312866
         ]
        },
        {
         "hovertemplate": "color=is<br>0=%{x}<br>1=%{y}<br>2=%{z}<extra></extra>",
         "legendgroup": "is",
         "marker": {
          "color": "#FECB52",
          "symbol": "circle"
         },
         "mode": "markers",
         "name": "is",
         "scene": "scene",
         "showlegend": true,
         "type": "scatter3d",
         "x": [
          0.4793204963207245
         ],
         "y": [
          -0.042021188884973526
         ],
         "z": [
          0.1335083246231079
         ]
        },
        {
         "hovertemplate": "color=room<br>0=%{x}<br>1=%{y}<br>2=%{z}<extra></extra>",
         "legendgroup": "room",
         "marker": {
          "color": "#636efa",
          "symbol": "circle"
         },
         "mode": "markers",
         "name": "room",
         "scene": "scene",
         "showlegend": true,
         "type": "scatter3d",
         "x": [
          -0.4475117027759552
         ],
         "y": [
          0.062307488173246384
         ],
         "z": [
          0.5393166542053223
         ]
        },
        {
         "hovertemplate": "color=why<br>0=%{x}<br>1=%{y}<br>2=%{z}<extra></extra>",
         "legendgroup": "why",
         "marker": {
          "color": "#EF553B",
          "symbol": "circle"
         },
         "mode": "markers",
         "name": "why",
         "scene": "scene",
         "showlegend": true,
         "type": "scatter3d",
         "x": [
          0.34841135144233704
         ],
         "y": [
          -0.06774038076400757
         ],
         "z": [
          0.35939517617225647
         ]
        },
        {
         "hovertemplate": "color=in<br>0=%{x}<br>1=%{y}<br>2=%{z}<extra></extra>",
         "legendgroup": "in",
         "marker": {
          "color": "#00cc96",
          "symbol": "circle"
         },
         "mode": "markers",
         "name": "in",
         "scene": "scene",
         "showlegend": true,
         "type": "scatter3d",
         "x": [
          -0.22187571227550507
         ],
         "y": [
          -0.12380357086658478
         ],
         "z": [
          0.4324575960636139
         ]
        },
        {
         "hovertemplate": "color=how<br>0=%{x}<br>1=%{y}<br>2=%{z}<extra></extra>",
         "legendgroup": "how",
         "marker": {
          "color": "#ab63fa",
          "symbol": "circle"
         },
         "mode": "markers",
         "name": "how",
         "scene": "scene",
         "showlegend": true,
         "type": "scatter3d",
         "x": [
          0.4178800880908966
         ],
         "y": [
          -0.1045229434967041
         ],
         "z": [
          0.3860546052455902
         ]
        },
        {
         "hovertemplate": "color=wait<br>0=%{x}<br>1=%{y}<br>2=%{z}<extra></extra>",
         "legendgroup": "wait",
         "marker": {
          "color": "#FFA15A",
          "symbol": "circle"
         },
         "mode": "markers",
         "name": "wait",
         "scene": "scene",
         "showlegend": true,
         "type": "scatter3d",
         "x": [
          0.23569519817829132
         ],
         "y": [
          0.012314170598983765
         ],
         "z": [
          0.4435502588748932
         ]
        },
        {
         "hovertemplate": "color=thing<br>0=%{x}<br>1=%{y}<br>2=%{z}<extra></extra>",
         "legendgroup": "thing",
         "marker": {
          "color": "#19d3f3",
          "symbol": "circle"
         },
         "mode": "markers",
         "name": "thing",
         "scene": "scene",
         "showlegend": true,
         "type": "scatter3d",
         "x": [
          0.49519112706184387
         ],
         "y": [
          -0.49693870544433594
         ],
         "z": [
          0.13318336009979248
         ]
        },
        {
         "hovertemplate": "color=love<br>0=%{x}<br>1=%{y}<br>2=%{z}<extra></extra>",
         "legendgroup": "love",
         "marker": {
          "color": "#FF6692",
          "symbol": "circle"
         },
         "mode": "markers",
         "name": "love",
         "scene": "scene",
         "showlegend": true,
         "type": "scatter3d",
         "x": [
          0.5371127724647522
         ],
         "y": [
          -0.2405235320329666
         ],
         "z": [
          0.22701586782932281
         ]
        },
        {
         "hovertemplate": "color=starts<br>0=%{x}<br>1=%{y}<br>2=%{z}<extra></extra>",
         "legendgroup": "starts",
         "marker": {
          "color": "#B6E880",
          "symbol": "circle"
         },
         "mode": "markers",
         "name": "starts",
         "scene": "scene",
         "showlegend": true,
         "type": "scatter3d",
         "x": [
          -0.5232539772987366
         ],
         "y": [
          -0.06985297054052353
         ],
         "z": [
          0.37963980436325073
         ]
        },
        {
         "hovertemplate": "color=looks<br>0=%{x}<br>1=%{y}<br>2=%{z}<extra></extra>",
         "legendgroup": "looks",
         "marker": {
          "color": "#FF97FF",
          "symbol": "circle"
         },
         "mode": "markers",
         "name": "looks",
         "scene": "scene",
         "showlegend": true,
         "type": "scatter3d",
         "x": [
          -0.17696267366409302
         ],
         "y": [
          0.10693367570638657
         ],
         "z": [
          0.30914026498794556
         ]
        },
        {
         "hovertemplate": "color=take<br>0=%{x}<br>1=%{y}<br>2=%{z}<extra></extra>",
         "legendgroup": "take",
         "marker": {
          "color": "#FECB52",
          "symbol": "circle"
         },
         "mode": "markers",
         "name": "take",
         "scene": "scene",
         "showlegend": true,
         "type": "scatter3d",
         "x": [
          0.23444713652133942
         ],
         "y": [
          -0.444859117269516
         ],
         "z": [
          0.5205791592597961
         ]
        },
        {
         "hovertemplate": "color=still<br>0=%{x}<br>1=%{y}<br>2=%{z}<extra></extra>",
         "legendgroup": "still",
         "marker": {
          "color": "#636efa",
          "symbol": "circle"
         },
         "mode": "markers",
         "name": "still",
         "scene": "scene",
         "showlegend": true,
         "type": "scatter3d",
         "x": [
          0.04366476833820343
         ],
         "y": [
          -0.12393070012331009
         ],
         "z": [
          0.2972975969314575
         ]
        },
        {
         "hovertemplate": "color=apartment<br>0=%{x}<br>1=%{y}<br>2=%{z}<extra></extra>",
         "legendgroup": "apartment",
         "marker": {
          "color": "#EF553B",
          "symbol": "circle"
         },
         "mode": "markers",
         "name": "apartment",
         "scene": "scene",
         "showlegend": true,
         "type": "scatter3d",
         "x": [
          -0.4123825430870056
         ],
         "y": [
          0.20026925206184387
         ],
         "z": [
          0.4567205607891083
         ]
        },
        {
         "hovertemplate": "color=make<br>0=%{x}<br>1=%{y}<br>2=%{z}<extra></extra>",
         "legendgroup": "make",
         "marker": {
          "color": "#00cc96",
          "symbol": "circle"
         },
         "mode": "markers",
         "name": "make",
         "scene": "scene",
         "showlegend": true,
         "type": "scatter3d",
         "x": [
          0.5316364169120789
         ],
         "y": [
          -0.5368368029594421
         ],
         "z": [
          0.3615168035030365
         ]
        },
        {
         "hovertemplate": "color=just<br>0=%{x}<br>1=%{y}<br>2=%{z}<extra></extra>",
         "legendgroup": "just",
         "marker": {
          "color": "#ab63fa",
          "symbol": "circle"
         },
         "mode": "markers",
         "name": "just",
         "scene": "scene",
         "showlegend": true,
         "type": "scatter3d",
         "x": [
          0.5220476984977722
         ],
         "y": [
          -0.4538310170173645
         ],
         "z": [
          0.36454951763153076
         ]
        },
        {
         "hovertemplate": "color=maybe<br>0=%{x}<br>1=%{y}<br>2=%{z}<extra></extra>",
         "legendgroup": "maybe",
         "marker": {
          "color": "#FFA15A",
          "symbol": "circle"
         },
         "mode": "markers",
         "name": "maybe",
         "scene": "scene",
         "showlegend": true,
         "type": "scatter3d",
         "x": [
          0.4763990044593811
         ],
         "y": [
          -0.507391631603241
         ],
         "z": [
          0.39178842306137085
         ]
        },
        {
         "hovertemplate": "color=way<br>0=%{x}<br>1=%{y}<br>2=%{z}<extra></extra>",
         "legendgroup": "way",
         "marker": {
          "color": "#19d3f3",
          "symbol": "circle"
         },
         "mode": "markers",
         "name": "way",
         "scene": "scene",
         "showlegend": true,
         "type": "scatter3d",
         "x": [
          0.36385563015937805
         ],
         "y": [
          -0.575181782245636
         ],
         "z": [
          0.24262405931949615
         ]
        },
        {
         "hovertemplate": "color=again<br>0=%{x}<br>1=%{y}<br>2=%{z}<extra></extra>",
         "legendgroup": "again",
         "marker": {
          "color": "#FF6692",
          "symbol": "circle"
         },
         "mode": "markers",
         "name": "again",
         "scene": "scene",
         "showlegend": true,
         "type": "scatter3d",
         "x": [
          -0.028222212567925453
         ],
         "y": [
          -0.38163867592811584
         ],
         "z": [
          0.4680401384830475
         ]
        },
        {
         "hovertemplate": "color=umm<br>0=%{x}<br>1=%{y}<br>2=%{z}<extra></extra>",
         "legendgroup": "umm",
         "marker": {
          "color": "#B6E880",
          "symbol": "circle"
         },
         "mode": "markers",
         "name": "umm",
         "scene": "scene",
         "showlegend": true,
         "type": "scatter3d",
         "x": [
          0.6055370569229126
         ],
         "y": [
          -0.23372146487236023
         ],
         "z": [
          0.2743721604347229
         ]
        },
        {
         "hovertemplate": "color=man<br>0=%{x}<br>1=%{y}<br>2=%{z}<extra></extra>",
         "legendgroup": "man",
         "marker": {
          "color": "#FF97FF",
          "symbol": "circle"
         },
         "mode": "markers",
         "name": "man",
         "scene": "scene",
         "showlegend": true,
         "type": "scatter3d",
         "x": [
          0.11579353362321854
         ],
         "y": [
          -0.12383066862821579
         ],
         "z": [
          0.06930936872959137
         ]
        },
        {
         "hovertemplate": "color=said<br>0=%{x}<br>1=%{y}<br>2=%{z}<extra></extra>",
         "legendgroup": "said",
         "marker": {
          "color": "#FECB52",
          "symbol": "circle"
         },
         "mode": "markers",
         "name": "said",
         "scene": "scene",
         "showlegend": true,
         "type": "scatter3d",
         "x": [
          0.6671257615089417
         ],
         "y": [
          -0.332308828830719
         ],
         "z": [
          0.15859340131282806
         ]
        },
        {
         "hovertemplate": "color=phone<br>0=%{x}<br>1=%{y}<br>2=%{z}<extra></extra>",
         "legendgroup": "phone",
         "marker": {
          "color": "#636efa",
          "symbol": "circle"
         },
         "mode": "markers",
         "name": "phone",
         "scene": "scene",
         "showlegend": true,
         "type": "scatter3d",
         "x": [
          -0.2296987622976303
         ],
         "y": [
          0.2719265818595886
         ],
         "z": [
          0.5700842142105103
         ]
        },
        {
         "hovertemplate": "color=two<br>0=%{x}<br>1=%{y}<br>2=%{z}<extra></extra>",
         "legendgroup": "two",
         "marker": {
          "color": "#EF553B",
          "symbol": "circle"
         },
         "mode": "markers",
         "name": "two",
         "scene": "scene",
         "showlegend": true,
         "type": "scatter3d",
         "x": [
          0.11981157958507538
         ],
         "y": [
          -0.6479673981666565
         ],
         "z": [
          0.14092715084552765
         ]
        },
        {
         "hovertemplate": "color=us<br>0=%{x}<br>1=%{y}<br>2=%{z}<extra></extra>",
         "legendgroup": "us",
         "marker": {
          "color": "#00cc96",
          "symbol": "circle"
         },
         "mode": "markers",
         "name": "us",
         "scene": "scene",
         "showlegend": true,
         "type": "scatter3d",
         "x": [
          0.5402935743331909
         ],
         "y": [
          -0.5809026956558228
         ],
         "z": [
          0.33833324909210205
         ]
        },
        {
         "hovertemplate": "color=enters<br>0=%{x}<br>1=%{y}<br>2=%{z}<extra></extra>",
         "legendgroup": "enters",
         "marker": {
          "color": "#ab63fa",
          "symbol": "circle"
         },
         "mode": "markers",
         "name": "enters",
         "scene": "scene",
         "showlegend": true,
         "type": "scatter3d",
         "x": [
          -0.49609631299972534
         ],
         "y": [
          0.47613951563835144
         ],
         "z": [
          0.4613560736179352
         ]
        },
        {
         "hovertemplate": "color=huh<br>0=%{x}<br>1=%{y}<br>2=%{z}<extra></extra>",
         "legendgroup": "huh",
         "marker": {
          "color": "#FFA15A",
          "symbol": "circle"
         },
         "mode": "markers",
         "name": "huh",
         "scene": "scene",
         "showlegend": true,
         "type": "scatter3d",
         "x": [
          0.38014474511146545
         ],
         "y": [
          0.10350094735622406
         ],
         "z": [
          0.1773473620414734
         ]
        },
        {
         "hovertemplate": "color=not<br>0=%{x}<br>1=%{y}<br>2=%{z}<extra></extra>",
         "legendgroup": "not",
         "marker": {
          "color": "#19d3f3",
          "symbol": "circle"
         },
         "mode": "markers",
         "name": "not",
         "scene": "scene",
         "showlegend": true,
         "type": "scatter3d",
         "x": [
          0.4703058898448944
         ],
         "y": [
          0.01114723365753889
         ],
         "z": [
          0.16666795313358307
         ]
        },
        {
         "hovertemplate": "color=mr<br>0=%{x}<br>1=%{y}<br>2=%{z}<extra></extra>",
         "legendgroup": "mr",
         "marker": {
          "color": "#FF6692",
          "symbol": "circle"
         },
         "mode": "markers",
         "name": "mr",
         "scene": "scene",
         "showlegend": true,
         "type": "scatter3d",
         "x": [
          -0.026099059730768204
         ],
         "y": [
          0.17335566878318787
         ],
         "z": [
          0.36912503838539124
         ]
        },
        {
         "hovertemplate": "color=around<br>0=%{x}<br>1=%{y}<br>2=%{z}<extra></extra>",
         "legendgroup": "around",
         "marker": {
          "color": "#B6E880",
          "symbol": "circle"
         },
         "mode": "markers",
         "name": "around",
         "scene": "scene",
         "showlegend": true,
         "type": "scatter3d",
         "x": [
          -0.38575634360313416
         ],
         "y": [
          -0.3464467525482178
         ],
         "z": [
          0.33410030603408813
         ]
        },
        {
         "hovertemplate": "color=never<br>0=%{x}<br>1=%{y}<br>2=%{z}<extra></extra>",
         "legendgroup": "never",
         "marker": {
          "color": "#FF97FF",
          "symbol": "circle"
         },
         "mode": "markers",
         "name": "never",
         "scene": "scene",
         "showlegend": true,
         "type": "scatter3d",
         "x": [
          0.5999892950057983
         ],
         "y": [
          -0.5391616225242615
         ],
         "z": [
          0.29827290773391724
         ]
        },
        {
         "hovertemplate": "color=much<br>0=%{x}<br>1=%{y}<br>2=%{z}<extra></extra>",
         "legendgroup": "much",
         "marker": {
          "color": "#FECB52",
          "symbol": "circle"
         },
         "mode": "markers",
         "name": "much",
         "scene": "scene",
         "showlegend": true,
         "type": "scatter3d",
         "x": [
          0.6128332018852234
         ],
         "y": [
          -0.30354368686676025
         ],
         "z": [
          0.2735585868358612
         ]
        },
        {
         "hovertemplate": "color=are<br>0=%{x}<br>1=%{y}<br>2=%{z}<extra></extra>",
         "legendgroup": "are",
         "marker": {
          "color": "#636efa",
          "symbol": "circle"
         },
         "mode": "markers",
         "name": "are",
         "scene": "scene",
         "showlegend": true,
         "type": "scatter3d",
         "x": [
          0.3984009325504303
         ],
         "y": [
          0.20781239867210388
         ],
         "z": [
          0.2862228751182556
         ]
        },
        {
         "hovertemplate": "color=entering<br>0=%{x}<br>1=%{y}<br>2=%{z}<extra></extra>",
         "legendgroup": "entering",
         "marker": {
          "color": "#EF553B",
          "symbol": "circle"
         },
         "mode": "markers",
         "name": "entering",
         "scene": "scene",
         "showlegend": true,
         "type": "scatter3d",
         "x": [
          -0.20280228555202484
         ],
         "y": [
          0.604293704032898
         ],
         "z": [
          0.4459629952907562
         ]
        },
        {
         "hovertemplate": "color=sure<br>0=%{x}<br>1=%{y}<br>2=%{z}<extra></extra>",
         "legendgroup": "sure",
         "marker": {
          "color": "#00cc96",
          "symbol": "circle"
         },
         "mode": "markers",
         "name": "sure",
         "scene": "scene",
         "showlegend": true,
         "type": "scatter3d",
         "x": [
          0.5923807621002197
         ],
         "y": [
          0.08639892935752869
         ],
         "z": [
          0.27669259905815125
         ]
        },
        {
         "hovertemplate": "color=big<br>0=%{x}<br>1=%{y}<br>2=%{z}<extra></extra>",
         "legendgroup": "big",
         "marker": {
          "color": "#ab63fa",
          "symbol": "circle"
         },
         "mode": "markers",
         "name": "big",
         "scene": "scene",
         "showlegend": true,
         "type": "scatter3d",
         "x": [
          0.2297629714012146
         ],
         "y": [
          -0.3685343861579895
         ],
         "z": [
          0.11867141723632812
         ]
        },
        {
         "hovertemplate": "color=wanna<br>0=%{x}<br>1=%{y}<br>2=%{z}<extra></extra>",
         "legendgroup": "wanna",
         "marker": {
          "color": "#FFA15A",
          "symbol": "circle"
         },
         "mode": "markers",
         "name": "wanna",
         "scene": "scene",
         "showlegend": true,
         "type": "scatter3d",
         "x": [
          0.46619856357574463
         ],
         "y": [
          -0.35015061497688293
         ],
         "z": [
          0.5387499332427979
         ]
        },
        {
         "hovertemplate": "color=thank<br>0=%{x}<br>1=%{y}<br>2=%{z}<extra></extra>",
         "legendgroup": "thank",
         "marker": {
          "color": "#19d3f3",
          "symbol": "circle"
         },
         "mode": "markers",
         "name": "thank",
         "scene": "scene",
         "showlegend": true,
         "type": "scatter3d",
         "x": [
          0.301575243473053
         ],
         "y": [
          0.3312532603740692
         ],
         "z": [
          0.3748651146888733
         ]
        },
        {
         "hovertemplate": "color=goes<br>0=%{x}<br>1=%{y}<br>2=%{z}<extra></extra>",
         "legendgroup": "goes",
         "marker": {
          "color": "#FF6692",
          "symbol": "circle"
         },
         "mode": "markers",
         "name": "goes",
         "scene": "scene",
         "showlegend": true,
         "type": "scatter3d",
         "x": [
          -0.495170921087265
         ],
         "y": [
          0.003973845858126879
         ],
         "z": [
          0.4859166443347931
         ]
        },
        {
         "hovertemplate": "color=wow<br>0=%{x}<br>1=%{y}<br>2=%{z}<extra></extra>",
         "legendgroup": "wow",
         "marker": {
          "color": "#B6E880",
          "symbol": "circle"
         },
         "mode": "markers",
         "name": "wow",
         "scene": "scene",
         "showlegend": true,
         "type": "scatter3d",
         "x": [
          0.1896205097436905
         ],
         "y": [
          0.40539970993995667
         ],
         "z": [
          0.06358494609594345
         ]
        },
        {
         "hovertemplate": "color=people<br>0=%{x}<br>1=%{y}<br>2=%{z}<extra></extra>",
         "legendgroup": "people",
         "marker": {
          "color": "#FF97FF",
          "symbol": "circle"
         },
         "mode": "markers",
         "name": "people",
         "scene": "scene",
         "showlegend": true,
         "type": "scatter3d",
         "x": [
          0.344417005777359
         ],
         "y": [
          -0.6511112451553345
         ],
         "z": [
          0.18412825465202332
         ]
        },
        {
         "hovertemplate": "color=away<br>0=%{x}<br>1=%{y}<br>2=%{z}<extra></extra>",
         "legendgroup": "away",
         "marker": {
          "color": "#FECB52",
          "symbol": "circle"
         },
         "mode": "markers",
         "name": "away",
         "scene": "scene",
         "showlegend": true,
         "type": "scatter3d",
         "x": [
          -0.2667713761329651
         ],
         "y": [
          -0.28125298023223877
         ],
         "z": [
          0.47024863958358765
         ]
        },
        {
         "hovertemplate": "color=first<br>0=%{x}<br>1=%{y}<br>2=%{z}<extra></extra>",
         "legendgroup": "first",
         "marker": {
          "color": "#636efa",
          "symbol": "circle"
         },
         "mode": "markers",
         "name": "first",
         "scene": "scene",
         "showlegend": true,
         "type": "scatter3d",
         "x": [
          0.36350226402282715
         ],
         "y": [
          -0.5163803696632385
         ],
         "z": [
          0.15723983943462372
         ]
        },
        {
         "hovertemplate": "color=believe<br>0=%{x}<br>1=%{y}<br>2=%{z}<extra></extra>",
         "legendgroup": "believe",
         "marker": {
          "color": "#EF553B",
          "symbol": "circle"
         },
         "mode": "markers",
         "name": "believe",
         "scene": "scene",
         "showlegend": true,
         "type": "scatter3d",
         "x": [
          0.4233340620994568
         ],
         "y": [
          -0.09579655528068542
         ],
         "z": [
          0.3220101296901703
         ]
        },
        {
         "hovertemplate": "color=baby<br>0=%{x}<br>1=%{y}<br>2=%{z}<extra></extra>",
         "legendgroup": "baby",
         "marker": {
          "color": "#00cc96",
          "symbol": "circle"
         },
         "mode": "markers",
         "name": "baby",
         "scene": "scene",
         "showlegend": true,
         "type": "scatter3d",
         "x": [
          0.312247097492218
         ],
         "y": [
          -0.4514128863811493
         ],
         "z": [
          0.17045804858207703
         ]
        },
        {
         "hovertemplate": "color=did<br>0=%{x}<br>1=%{y}<br>2=%{z}<extra></extra>",
         "legendgroup": "did",
         "marker": {
          "color": "#ab63fa",
          "symbol": "circle"
         },
         "mode": "markers",
         "name": "did",
         "scene": "scene",
         "showlegend": true,
         "type": "scatter3d",
         "x": [
          0.41680899262428284
         ],
         "y": [
          -0.11466372013092041
         ],
         "z": [
          0.29413363337516785
         ]
        },
        {
         "hovertemplate": "color=who<br>0=%{x}<br>1=%{y}<br>2=%{z}<extra></extra>",
         "legendgroup": "who",
         "marker": {
          "color": "#FFA15A",
          "symbol": "circle"
         },
         "mode": "markers",
         "name": "who",
         "scene": "scene",
         "showlegend": true,
         "type": "scatter3d",
         "x": [
          0.06512364745140076
         ],
         "y": [
          -0.14654110372066498
         ],
         "z": [
          0.12774619460105896
         ]
        },
        {
         "hovertemplate": "color=need<br>0=%{x}<br>1=%{y}<br>2=%{z}<extra></extra>",
         "legendgroup": "need",
         "marker": {
          "color": "#19d3f3",
          "symbol": "circle"
         },
         "mode": "markers",
         "name": "need",
         "scene": "scene",
         "showlegend": true,
         "type": "scatter3d",
         "x": [
          0.5733761787414551
         ],
         "y": [
          -0.33026808500289917
         ],
         "z": [
          0.42041411995887756
         ]
        },
        {
         "hovertemplate": "color=mike<br>0=%{x}<br>1=%{y}<br>2=%{z}<extra></extra>",
         "legendgroup": "mike",
         "marker": {
          "color": "#FF6692",
          "symbol": "circle"
         },
         "mode": "markers",
         "name": "mike",
         "scene": "scene",
         "showlegend": true,
         "type": "scatter3d",
         "x": [
          0.0008357237093150616
         ],
         "y": [
          0.04255494475364685
         ],
         "z": [
          0.2170455902814865
         ]
        },
        {
         "hovertemplate": "color=woman<br>0=%{x}<br>1=%{y}<br>2=%{z}<extra></extra>",
         "legendgroup": "woman",
         "marker": {
          "color": "#B6E880",
          "symbol": "circle"
         },
         "mode": "markers",
         "name": "woman",
         "scene": "scene",
         "showlegend": true,
         "type": "scatter3d",
         "x": [
          -0.12365748733282089
         ],
         "y": [
          -0.2493215650320053
         ],
         "z": [
          0.040195055305957794
         ]
        },
        {
         "hovertemplate": "color=didn<br>0=%{x}<br>1=%{y}<br>2=%{z}<extra></extra>",
         "legendgroup": "didn",
         "marker": {
          "color": "#FF97FF",
          "symbol": "circle"
         },
         "mode": "markers",
         "name": "didn",
         "scene": "scene",
         "showlegend": true,
         "type": "scatter3d",
         "x": [
          0.6489093899726868
         ],
         "y": [
          -0.3516932725906372
         ],
         "z": [
          0.30305489897727966
         ]
        },
        {
         "hovertemplate": "color=please<br>0=%{x}<br>1=%{y}<br>2=%{z}<extra></extra>",
         "legendgroup": "please",
         "marker": {
          "color": "#FECB52",
          "symbol": "circle"
         },
         "mode": "markers",
         "name": "please",
         "scene": "scene",
         "showlegend": true,
         "type": "scatter3d",
         "x": [
          0.36652830243110657
         ],
         "y": [
          -0.04473080858588219
         ],
         "z": [
          0.5324403643608093
         ]
        },
        {
         "hovertemplate": "color=looking<br>0=%{x}<br>1=%{y}<br>2=%{z}<extra></extra>",
         "legendgroup": "looking",
         "marker": {
          "color": "#636efa",
          "symbol": "circle"
         },
         "mode": "markers",
         "name": "looking",
         "scene": "scene",
         "showlegend": true,
         "type": "scatter3d",
         "x": [
          -0.30362191796302795
         ],
         "y": [
          0.08459692448377609
         ],
         "z": [
          0.20228606462478638
         ]
        },
        {
         "hovertemplate": "color=thought<br>0=%{x}<br>1=%{y}<br>2=%{z}<extra></extra>",
         "legendgroup": "thought",
         "marker": {
          "color": "#EF553B",
          "symbol": "circle"
         },
         "mode": "markers",
         "name": "thought",
         "scene": "scene",
         "showlegend": true,
         "type": "scatter3d",
         "x": [
          0.6397038698196411
         ],
         "y": [
          -0.44504374265670776
         ],
         "z": [
          0.15856724977493286
         ]
        },
        {
         "hovertemplate": "color=too<br>0=%{x}<br>1=%{y}<br>2=%{z}<extra></extra>",
         "legendgroup": "too",
         "marker": {
          "color": "#00cc96",
          "symbol": "circle"
         },
         "mode": "markers",
         "name": "too",
         "scene": "scene",
         "showlegend": true,
         "type": "scatter3d",
         "x": [
          0.6581264734268188
         ],
         "y": [
          -0.13186855614185333
         ],
         "z": [
          0.16902141273021698
         ]
        },
        {
         "hovertemplate": "color=talk<br>0=%{x}<br>1=%{y}<br>2=%{z}<extra></extra>",
         "legendgroup": "talk",
         "marker": {
          "color": "#ab63fa",
          "symbol": "circle"
         },
         "mode": "markers",
         "name": "talk",
         "scene": "scene",
         "showlegend": true,
         "type": "scatter3d",
         "x": [
          0.48451876640319824
         ],
         "y": [
          -0.21007199585437775
         ],
         "z": [
          0.4443293511867523
         ]
        },
        {
         "hovertemplate": "color=walks<br>0=%{x}<br>1=%{y}<br>2=%{z}<extra></extra>",
         "legendgroup": "walks",
         "marker": {
          "color": "#FFA15A",
          "symbol": "circle"
         },
         "mode": "markers",
         "name": "walks",
         "scene": "scene",
         "showlegend": true,
         "type": "scatter3d",
         "x": [
          -0.5765488743782043
         ],
         "y": [
          0.16694003343582153
         ],
         "z": [
          0.4686833918094635
         ]
        },
        {
         "hovertemplate": "color=give<br>0=%{x}<br>1=%{y}<br>2=%{z}<extra></extra>",
         "legendgroup": "give",
         "marker": {
          "color": "#19d3f3",
          "symbol": "circle"
         },
         "mode": "markers",
         "name": "give",
         "scene": "scene",
         "showlegend": true,
         "type": "scatter3d",
         "x": [
          0.3444857597351074
         ],
         "y": [
          -0.40311312675476074
         ],
         "z": [
          0.4526773989200592
         ]
        },
        {
         "hovertemplate": "color=even<br>0=%{x}<br>1=%{y}<br>2=%{z}<extra></extra>",
         "legendgroup": "even",
         "marker": {
          "color": "#FF6692",
          "symbol": "circle"
         },
         "mode": "markers",
         "name": "even",
         "scene": "scene",
         "showlegend": true,
         "type": "scatter3d",
         "x": [
          0.5740436911582947
         ],
         "y": [
          -0.5582857131958008
         ],
         "z": [
          0.186568483710289
         ]
        },
        {
         "hovertemplate": "color=ah<br>0=%{x}<br>1=%{y}<br>2=%{z}<extra></extra>",
         "legendgroup": "ah",
         "marker": {
          "color": "#B6E880",
          "symbol": "circle"
         },
         "mode": "markers",
         "name": "ah",
         "scene": "scene",
         "showlegend": true,
         "type": "scatter3d",
         "x": [
          0.48712801933288574
         ],
         "y": [
          0.006718787364661694
         ],
         "z": [
          0.20843060314655304
         ]
        },
        {
         "hovertemplate": "color=cut<br>0=%{x}<br>1=%{y}<br>2=%{z}<extra></extra>",
         "legendgroup": "cut",
         "marker": {
          "color": "#FF97FF",
          "symbol": "circle"
         },
         "mode": "markers",
         "name": "cut",
         "scene": "scene",
         "showlegend": true,
         "type": "scatter3d",
         "x": [
          -0.4470177888870239
         ],
         "y": [
          0.2265864908695221
         ],
         "z": [
          0.5114902853965759
         ]
        },
        {
         "hovertemplate": "color=fine<br>0=%{x}<br>1=%{y}<br>2=%{z}<extra></extra>",
         "legendgroup": "fine",
         "marker": {
          "color": "#FECB52",
          "symbol": "circle"
         },
         "mode": "markers",
         "name": "fine",
         "scene": "scene",
         "showlegend": true,
         "type": "scatter3d",
         "x": [
          0.4991650879383087
         ],
         "y": [
          0.05968273803591728
         ],
         "z": [
          0.39577516913414
         ]
        },
        {
         "hovertemplate": "color=work<br>0=%{x}<br>1=%{y}<br>2=%{z}<extra></extra>",
         "legendgroup": "work",
         "marker": {
          "color": "#636efa",
          "symbol": "circle"
         },
         "mode": "markers",
         "name": "work",
         "scene": "scene",
         "showlegend": true,
         "type": "scatter3d",
         "x": [
          0.5434682965278625
         ],
         "y": [
          -0.5017426609992981
         ],
         "z": [
          0.2600794732570648
         ]
        },
        {
         "hovertemplate": "color=actually<br>0=%{x}<br>1=%{y}<br>2=%{z}<extra></extra>",
         "legendgroup": "actually",
         "marker": {
          "color": "#EF553B",
          "symbol": "circle"
         },
         "mode": "markers",
         "name": "actually",
         "scene": "scene",
         "showlegend": true,
         "type": "scatter3d",
         "x": [
          0.6618607044219971
         ],
         "y": [
          -0.3407309949398041
         ],
         "z": [
          0.07795584201812744
         ]
        },
        {
         "hovertemplate": "color=gets<br>0=%{x}<br>1=%{y}<br>2=%{z}<extra></extra>",
         "legendgroup": "gets",
         "marker": {
          "color": "#00cc96",
          "symbol": "circle"
         },
         "mode": "markers",
         "name": "gets",
         "scene": "scene",
         "showlegend": true,
         "type": "scatter3d",
         "x": [
          -0.3871196210384369
         ],
         "y": [
          -0.08719845861196518
         ],
         "z": [
          0.3806840181350708
         ]
        },
        {
         "hovertemplate": "color=central<br>0=%{x}<br>1=%{y}<br>2=%{z}<extra></extra>",
         "legendgroup": "central",
         "marker": {
          "color": "#ab63fa",
          "symbol": "circle"
         },
         "mode": "markers",
         "name": "central",
         "scene": "scene",
         "showlegend": true,
         "type": "scatter3d",
         "x": [
          -0.3035399317741394
         ],
         "y": [
          0.3044988214969635
         ],
         "z": [
          0.3251783549785614
         ]
        },
        {
         "hovertemplate": "color=new<br>0=%{x}<br>1=%{y}<br>2=%{z}<extra></extra>",
         "legendgroup": "new",
         "marker": {
          "color": "#FFA15A",
          "symbol": "circle"
         },
         "mode": "markers",
         "name": "new",
         "scene": "scene",
         "showlegend": true,
         "type": "scatter3d",
         "x": [
          -0.047357652336359024
         ],
         "y": [
          -0.3968867063522339
         ],
         "z": [
          0.18972541391849518
         ]
        },
        {
         "hovertemplate": "color=um<br>0=%{x}<br>1=%{y}<br>2=%{z}<extra></extra>",
         "legendgroup": "um",
         "marker": {
          "color": "#19d3f3",
          "symbol": "circle"
         },
         "mode": "markers",
         "name": "um",
         "scene": "scene",
         "showlegend": true,
         "type": "scatter3d",
         "x": [
          0.5637235045433044
         ],
         "y": [
          -0.07604946196079254
         ],
         "z": [
          0.2547524571418762
         ]
        },
        {
         "hovertemplate": "color=perk<br>0=%{x}<br>1=%{y}<br>2=%{z}<extra></extra>",
         "legendgroup": "perk",
         "marker": {
          "color": "#FF6692",
          "symbol": "circle"
         },
         "mode": "markers",
         "name": "perk",
         "scene": "scene",
         "showlegend": true,
         "type": "scatter3d",
         "x": [
          -0.2810248136520386
         ],
         "y": [
          0.3670649230480194
         ],
         "z": [
          0.30719220638275146
         ]
        },
        {
         "hovertemplate": "color=geller<br>0=%{x}<br>1=%{y}<br>2=%{z}<extra></extra>",
         "legendgroup": "geller",
         "marker": {
          "color": "#B6E880",
          "symbol": "circle"
         },
         "mode": "markers",
         "name": "geller",
         "scene": "scene",
         "showlegend": true,
         "type": "scatter3d",
         "x": [
          0.1291293054819107
         ],
         "y": [
          0.08663583546876907
         ],
         "z": [
          0.41638273000717163
         ]
        },
        {
         "hovertemplate": "color=night<br>0=%{x}<br>1=%{y}<br>2=%{z}<extra></extra>",
         "legendgroup": "night",
         "marker": {
          "color": "#FF97FF",
          "symbol": "circle"
         },
         "mode": "markers",
         "name": "night",
         "scene": "scene",
         "showlegend": true,
         "type": "scatter3d",
         "x": [
          0.4068525433540344
         ],
         "y": [
          -0.3848814070224762
         ],
         "z": [
          0.1912071257829666
         ]
        },
        {
         "hovertemplate": "color=talking<br>0=%{x}<br>1=%{y}<br>2=%{z}<extra></extra>",
         "legendgroup": "talking",
         "marker": {
          "color": "#FECB52",
          "symbol": "circle"
         },
         "mode": "markers",
         "name": "talking",
         "scene": "scene",
         "showlegend": true,
         "type": "scatter3d",
         "x": [
          0.24212417006492615
         ],
         "y": [
          0.1566781997680664
         ],
         "z": [
          0.22251665592193604
         ]
        },
        {
         "hovertemplate": "color=my<br>0=%{x}<br>1=%{y}<br>2=%{z}<extra></extra>",
         "legendgroup": "my",
         "marker": {
          "color": "#636efa",
          "symbol": "circle"
         },
         "mode": "markers",
         "name": "my",
         "scene": "scene",
         "showlegend": true,
         "type": "scatter3d",
         "x": [
          0.15494601428508759
         ],
         "y": [
          -0.06015606224536896
         ],
         "z": [
          0.0803762674331665
         ]
        },
        {
         "hovertemplate": "color=getting<br>0=%{x}<br>1=%{y}<br>2=%{z}<extra></extra>",
         "legendgroup": "getting",
         "marker": {
          "color": "#EF553B",
          "symbol": "circle"
         },
         "mode": "markers",
         "name": "getting",
         "scene": "scene",
         "showlegend": true,
         "type": "scatter3d",
         "x": [
          0.2553768754005432
         ],
         "y": [
          -0.2361096292734146
         ],
         "z": [
          0.365257203578949
         ]
        },
        {
         "hovertemplate": "color=head<br>0=%{x}<br>1=%{y}<br>2=%{z}<extra></extra>",
         "legendgroup": "head",
         "marker": {
          "color": "#00cc96",
          "symbol": "circle"
         },
         "mode": "markers",
         "name": "head",
         "scene": "scene",
         "showlegend": true,
         "type": "scatter3d",
         "x": [
          -0.5028669834136963
         ],
         "y": [
          -0.16617900133132935
         ],
         "z": [
          0.2767828702926636
         ]
        },
        {
         "hovertemplate": "color=listen<br>0=%{x}<br>1=%{y}<br>2=%{z}<extra></extra>",
         "legendgroup": "listen",
         "marker": {
          "color": "#ab63fa",
          "symbol": "circle"
         },
         "mode": "markers",
         "name": "listen",
         "scene": "scene",
         "showlegend": true,
         "type": "scatter3d",
         "x": [
          0.636523425579071
         ],
         "y": [
          -0.005672551225870848
         ],
         "z": [
          0.4468819499015808
         ]
        },
        {
         "hovertemplate": "color=anything<br>0=%{x}<br>1=%{y}<br>2=%{z}<extra></extra>",
         "legendgroup": "anything",
         "marker": {
          "color": "#FFA15A",
          "symbol": "circle"
         },
         "mode": "markers",
         "name": "anything",
         "scene": "scene",
         "showlegend": true,
         "type": "scatter3d",
         "x": [
          0.663827121257782
         ],
         "y": [
          -0.31897926330566406
         ],
         "z": [
          0.30229926109313965
         ]
        },
        {
         "hovertemplate": "color=call<br>0=%{x}<br>1=%{y}<br>2=%{z}<extra></extra>",
         "legendgroup": "call",
         "marker": {
          "color": "#19d3f3",
          "symbol": "circle"
         },
         "mode": "markers",
         "name": "call",
         "scene": "scene",
         "showlegend": true,
         "type": "scatter3d",
         "x": [
          0.40123793482780457
         ],
         "y": [
          -0.24444454908370972
         ],
         "z": [
          0.4745321571826935
         ]
        },
        {
         "hovertemplate": "color=nice<br>0=%{x}<br>1=%{y}<br>2=%{z}<extra></extra>",
         "legendgroup": "nice",
         "marker": {
          "color": "#FF6692",
          "symbol": "circle"
         },
         "mode": "markers",
         "name": "nice",
         "scene": "scene",
         "showlegend": true,
         "type": "scatter3d",
         "x": [
          0.4958033859729767
         ],
         "y": [
          -0.08130586892366409
         ],
         "z": [
          0.1815010905265808
         ]
        },
        {
         "hovertemplate": "color=hands<br>0=%{x}<br>1=%{y}<br>2=%{z}<extra></extra>",
         "legendgroup": "hands",
         "marker": {
          "color": "#B6E880",
          "symbol": "circle"
         },
         "mode": "markers",
         "name": "hands",
         "scene": "scene",
         "showlegend": true,
         "type": "scatter3d",
         "x": [
          -0.5537360310554504
         ],
         "y": [
          -0.14213019609451294
         ],
         "z": [
          0.2852287292480469
         ]
        },
        {
         "hovertemplate": "color=stuff<br>0=%{x}<br>1=%{y}<br>2=%{z}<extra></extra>",
         "legendgroup": "stuff",
         "marker": {
          "color": "#FF97FF",
          "symbol": "circle"
         },
         "mode": "markers",
         "name": "stuff",
         "scene": "scene",
         "showlegend": true,
         "type": "scatter3d",
         "x": [
          0.5187085866928101
         ],
         "y": [
          -0.5567203164100647
         ],
         "z": [
          0.1845405250787735
         ]
        },
        {
         "hovertemplate": "color=rach<br>0=%{x}<br>1=%{y}<br>2=%{z}<extra></extra>",
         "legendgroup": "rach",
         "marker": {
          "color": "#FECB52",
          "symbol": "circle"
         },
         "mode": "markers",
         "name": "rach",
         "scene": "scene",
         "showlegend": true,
         "type": "scatter3d",
         "x": [
          0.4082505702972412
         ],
         "y": [
          0.22280244529247284
         ],
         "z": [
          0.3593567907810211
         ]
        },
        {
         "hovertemplate": "color=pause<br>0=%{x}<br>1=%{y}<br>2=%{z}<extra></extra>",
         "legendgroup": "pause",
         "marker": {
          "color": "#636efa",
          "symbol": "circle"
         },
         "mode": "markers",
         "name": "pause",
         "scene": "scene",
         "showlegend": true,
         "type": "scatter3d",
         "x": [
          0.5687936544418335
         ],
         "y": [
          -0.1678515374660492
         ],
         "z": [
          0.15771949291229248
         ]
        },
        {
         "hovertemplate": "color=last<br>0=%{x}<br>1=%{y}<br>2=%{z}<extra></extra>",
         "legendgroup": "last",
         "marker": {
          "color": "#EF553B",
          "symbol": "circle"
         },
         "mode": "markers",
         "name": "last",
         "scene": "scene",
         "showlegend": true,
         "type": "scatter3d",
         "x": [
          0.29019665718078613
         ],
         "y": [
          -0.4127834737300873
         ],
         "z": [
          0.14788521826267242
         ]
        },
        {
         "hovertemplate": "color=thanks<br>0=%{x}<br>1=%{y}<br>2=%{z}<extra></extra>",
         "legendgroup": "thanks",
         "marker": {
          "color": "#00cc96",
          "symbol": "circle"
         },
         "mode": "markers",
         "name": "thanks",
         "scene": "scene",
         "showlegend": true,
         "type": "scatter3d",
         "x": [
          0.2958950400352478
         ],
         "y": [
          0.5476730465888977
         ],
         "z": [
          0.18099503219127655
         ]
        },
        {
         "hovertemplate": "color=table<br>0=%{x}<br>1=%{y}<br>2=%{z}<extra></extra>",
         "legendgroup": "table",
         "marker": {
          "color": "#ab63fa",
          "symbol": "circle"
         },
         "mode": "markers",
         "name": "table",
         "scene": "scene",
         "showlegend": true,
         "type": "scatter3d",
         "x": [
          -0.6679357886314392
         ],
         "y": [
          -0.03788023814558983
         ],
         "z": [
          0.3481881022453308
         ]
        },
        {
         "hovertemplate": "color=ya<br>0=%{x}<br>1=%{y}<br>2=%{z}<extra></extra>",
         "legendgroup": "ya",
         "marker": {
          "color": "#FFA15A",
          "symbol": "circle"
         },
         "mode": "markers",
         "name": "ya",
         "scene": "scene",
         "showlegend": true,
         "type": "scatter3d",
         "x": [
          0.5290188193321228
         ],
         "y": [
          -0.36718884110450745
         ],
         "z": [
          0.3184973895549774
         ]
        },
        {
         "hovertemplate": "color=turns<br>0=%{x}<br>1=%{y}<br>2=%{z}<extra></extra>",
         "legendgroup": "turns",
         "marker": {
          "color": "#19d3f3",
          "symbol": "circle"
         },
         "mode": "markers",
         "name": "turns",
         "scene": "scene",
         "showlegend": true,
         "type": "scatter3d",
         "x": [
          -0.42986488342285156
         ],
         "y": [
          -0.029317576438188553
         ],
         "z": [
          0.3864966928958893
         ]
        },
        {
         "hovertemplate": "color=feel<br>0=%{x}<br>1=%{y}<br>2=%{z}<extra></extra>",
         "legendgroup": "feel",
         "marker": {
          "color": "#FF6692",
          "symbol": "circle"
         },
         "mode": "markers",
         "name": "feel",
         "scene": "scene",
         "showlegend": true,
         "type": "scatter3d",
         "x": [
          0.7018176317214966
         ],
         "y": [
          -0.3479938805103302
         ],
         "z": [
          0.1998303234577179
         ]
        },
        {
         "hovertemplate": "color=hand<br>0=%{x}<br>1=%{y}<br>2=%{z}<extra></extra>",
         "legendgroup": "hand",
         "marker": {
          "color": "#B6E880",
          "symbol": "circle"
         },
         "mode": "markers",
         "name": "hand",
         "scene": "scene",
         "showlegend": true,
         "type": "scatter3d",
         "x": [
          -0.43021896481513977
         ],
         "y": [
          -0.3435628414154053
         ],
         "z": [
          0.2522585391998291
         ]
        },
        {
         "hovertemplate": "color=stop<br>0=%{x}<br>1=%{y}<br>2=%{z}<extra></extra>",
         "legendgroup": "stop",
         "marker": {
          "color": "#FF97FF",
          "symbol": "circle"
         },
         "mode": "markers",
         "name": "stop",
         "scene": "scene",
         "showlegend": true,
         "type": "scatter3d",
         "x": [
          0.13719011843204498
         ],
         "y": [
          -0.13457077741622925
         ],
         "z": [
          0.4338283836841583
         ]
        },
        {
         "hovertemplate": "color=with<br>0=%{x}<br>1=%{y}<br>2=%{z}<extra></extra>",
         "legendgroup": "with",
         "marker": {
          "color": "#FECB52",
          "symbol": "circle"
         },
         "mode": "markers",
         "name": "with",
         "scene": "scene",
         "showlegend": true,
         "type": "scatter3d",
         "x": [
          -0.13752178847789764
         ],
         "y": [
          -0.1789061576128006
         ],
         "z": [
          0.09343398362398148
         ]
        },
        {
         "hovertemplate": "color=day<br>0=%{x}<br>1=%{y}<br>2=%{z}<extra></extra>",
         "legendgroup": "day",
         "marker": {
          "color": "#636efa",
          "symbol": "circle"
         },
         "mode": "markers",
         "name": "day",
         "scene": "scene",
         "showlegend": true,
         "type": "scatter3d",
         "x": [
          0.37086543440818787
         ],
         "y": [
          -0.5440374612808228
         ],
         "z": [
          0.09953656047582626
         ]
        },
        {
         "hovertemplate": "color=put<br>0=%{x}<br>1=%{y}<br>2=%{z}<extra></extra>",
         "legendgroup": "put",
         "marker": {
          "color": "#EF553B",
          "symbol": "circle"
         },
         "mode": "markers",
         "name": "put",
         "scene": "scene",
         "showlegend": true,
         "type": "scatter3d",
         "x": [
          0.0313839353621006
         ],
         "y": [
          -0.5331812500953674
         ],
         "z": [
          0.4338700473308563
         ]
        },
        {
         "hovertemplate": "color=then<br>0=%{x}<br>1=%{y}<br>2=%{z}<extra></extra>",
         "legendgroup": "then",
         "marker": {
          "color": "#00cc96",
          "symbol": "circle"
         },
         "mode": "markers",
         "name": "then",
         "scene": "scene",
         "showlegend": true,
         "type": "scatter3d",
         "x": [
          0.23262454569339752
         ],
         "y": [
          -0.3940559923648834
         ],
         "z": [
          0.2932826280593872
         ]
        },
        {
         "hovertemplate": "color=if<br>0=%{x}<br>1=%{y}<br>2=%{z}<extra></extra>",
         "legendgroup": "if",
         "marker": {
          "color": "#ab63fa",
          "symbol": "circle"
         },
         "mode": "markers",
         "name": "if",
         "scene": "scene",
         "showlegend": true,
         "type": "scatter3d",
         "x": [
          0.505038857460022
         ],
         "y": [
          -0.6034000515937805
         ],
         "z": [
          0.387250691652298
         ]
        },
        {
         "hovertemplate": "color=mrs<br>0=%{x}<br>1=%{y}<br>2=%{z}<extra></extra>",
         "legendgroup": "mrs",
         "marker": {
          "color": "#FFA15A",
          "symbol": "circle"
         },
         "mode": "markers",
         "name": "mrs",
         "scene": "scene",
         "showlegend": true,
         "type": "scatter3d",
         "x": [
          0.022954486310482025
         ],
         "y": [
          0.2884671092033386
         ],
         "z": [
          0.3145533502101898
         ]
        },
        {
         "hovertemplate": "color=ever<br>0=%{x}<br>1=%{y}<br>2=%{z}<extra></extra>",
         "legendgroup": "ever",
         "marker": {
          "color": "#19d3f3",
          "symbol": "circle"
         },
         "mode": "markers",
         "name": "ever",
         "scene": "scene",
         "showlegend": true,
         "type": "scatter3d",
         "x": [
          0.5554818511009216
         ],
         "y": [
          -0.5374308228492737
         ],
         "z": [
          0.14448466897010803
         ]
        },
        {
         "hovertemplate": "color=them<br>0=%{x}<br>1=%{y}<br>2=%{z}<extra></extra>",
         "legendgroup": "them",
         "marker": {
          "color": "#FF6692",
          "symbol": "circle"
         },
         "mode": "markers",
         "name": "them",
         "scene": "scene",
         "showlegend": true,
         "type": "scatter3d",
         "x": [
          0.07582727074623108
         ],
         "y": [
          -0.38934534788131714
         ],
         "z": [
          0.29461073875427246
         ]
        },
        {
         "hovertemplate": "color=dr<br>0=%{x}<br>1=%{y}<br>2=%{z}<extra></extra>",
         "legendgroup": "dr",
         "marker": {
          "color": "#B6E880",
          "symbol": "circle"
         },
         "mode": "markers",
         "name": "dr",
         "scene": "scene",
         "showlegend": true,
         "type": "scatter3d",
         "x": [
          -0.16075800359249115
         ],
         "y": [
          0.24689212441444397
         ],
         "z": [
          0.20298661291599274
         ]
        },
        {
         "hovertemplate": "color=down<br>0=%{x}<br>1=%{y}<br>2=%{z}<extra></extra>",
         "legendgroup": "down",
         "marker": {
          "color": "#FF97FF",
          "symbol": "circle"
         },
         "mode": "markers",
         "name": "down",
         "scene": "scene",
         "showlegend": true,
         "type": "scatter3d",
         "x": [
          -0.3402746021747589
         ],
         "y": [
          -0.11828015744686127
         ],
         "z": [
          0.5254344344139099
         ]
        },
        {
         "hovertemplate": "color=next<br>0=%{x}<br>1=%{y}<br>2=%{z}<extra></extra>",
         "legendgroup": "next",
         "marker": {
          "color": "#FECB52",
          "symbol": "circle"
         },
         "mode": "markers",
         "name": "next",
         "scene": "scene",
         "showlegend": true,
         "type": "scatter3d",
         "x": [
          -0.34868329763412476
         ],
         "y": [
          -0.2543449401855469
         ],
         "z": [
          0.27970775961875916
         ]
        },
        {
         "hovertemplate": "color=leave<br>0=%{x}<br>1=%{y}<br>2=%{z}<extra></extra>",
         "legendgroup": "leave",
         "marker": {
          "color": "#636efa",
          "symbol": "circle"
         },
         "mode": "markers",
         "name": "leave",
         "scene": "scene",
         "showlegend": true,
         "type": "scatter3d",
         "x": [
          0.016166701912879944
         ],
         "y": [
          -0.049287110567092896
         ],
         "z": [
          0.5400776863098145
         ]
        },
        {
         "hovertemplate": "color=gotta<br>0=%{x}<br>1=%{y}<br>2=%{z}<extra></extra>",
         "legendgroup": "gotta",
         "marker": {
          "color": "#EF553B",
          "symbol": "circle"
         },
         "mode": "markers",
         "name": "gotta",
         "scene": "scene",
         "showlegend": true,
         "type": "scatter3d",
         "x": [
          0.48287951946258545
         ],
         "y": [
          -0.18023493885993958
         ],
         "z": [
          0.5091625452041626
         ]
        },
        {
         "hovertemplate": "color=everyone<br>0=%{x}<br>1=%{y}<br>2=%{z}<extra></extra>",
         "legendgroup": "everyone",
         "marker": {
          "color": "#00cc96",
          "symbol": "circle"
         },
         "mode": "markers",
         "name": "everyone",
         "scene": "scene",
         "showlegend": true,
         "type": "scatter3d",
         "x": [
          -0.3319283425807953
         ],
         "y": [
          0.052608609199523926
         ],
         "z": [
          0.23082232475280762
         ]
        },
        {
         "hovertemplate": "color=ooh<br>0=%{x}<br>1=%{y}<br>2=%{z}<extra></extra>",
         "legendgroup": "ooh",
         "marker": {
          "color": "#ab63fa",
          "symbol": "circle"
         },
         "mode": "markers",
         "name": "ooh",
         "scene": "scene",
         "showlegend": true,
         "type": "scatter3d",
         "x": [
          0.15107519924640656
         ],
         "y": [
          0.2627359926700592
         ],
         "z": [
          0.1402910351753235
         ]
        },
        {
         "hovertemplate": "color=alright<br>0=%{x}<br>1=%{y}<br>2=%{z}<extra></extra>",
         "legendgroup": "alright",
         "marker": {
          "color": "#FFA15A",
          "symbol": "circle"
         },
         "mode": "markers",
         "name": "alright",
         "scene": "scene",
         "showlegend": true,
         "type": "scatter3d",
         "x": [
          0.2789365351200104
         ],
         "y": [
          -0.013119694776833057
         ],
         "z": [
          0.46358516812324524
         ]
        },
        {
         "hovertemplate": "color=start<br>0=%{x}<br>1=%{y}<br>2=%{z}<extra></extra>",
         "legendgroup": "start",
         "marker": {
          "color": "#19d3f3",
          "symbol": "circle"
         },
         "mode": "markers",
         "name": "start",
         "scene": "scene",
         "showlegend": true,
         "type": "scatter3d",
         "x": [
          -0.12074846029281616
         ],
         "y": [
          -0.4000486433506012
         ],
         "z": [
          0.41797152161598206
         ]
        },
        {
         "hovertemplate": "color=together<br>0=%{x}<br>1=%{y}<br>2=%{z}<extra></extra>",
         "legendgroup": "together",
         "marker": {
          "color": "#FF6692",
          "symbol": "circle"
         },
         "mode": "markers",
         "name": "together",
         "scene": "scene",
         "showlegend": true,
         "type": "scatter3d",
         "x": [
          0.4439350664615631
         ],
         "y": [
          -0.6234869956970215
         ],
         "z": [
          0.32589784264564514
         ]
        },
        {
         "hovertemplate": "color=girl<br>0=%{x}<br>1=%{y}<br>2=%{z}<extra></extra>",
         "legendgroup": "girl",
         "marker": {
          "color": "#B6E880",
          "symbol": "circle"
         },
         "mode": "markers",
         "name": "girl",
         "scene": "scene",
         "showlegend": true,
         "type": "scatter3d",
         "x": [
          0.26642537117004395
         ],
         "y": [
          -0.4202846586704254
         ],
         "z": [
          -0.024133384227752686
         ]
        },
        {
         "hovertemplate": "color=another<br>0=%{x}<br>1=%{y}<br>2=%{z}<extra></extra>",
         "legendgroup": "another",
         "marker": {
          "color": "#FF97FF",
          "symbol": "circle"
         },
         "mode": "markers",
         "name": "another",
         "scene": "scene",
         "showlegend": true,
         "type": "scatter3d",
         "x": [
          -0.20629461109638214
         ],
         "y": [
          -0.5029902458190918
         ],
         "z": [
          0.15840646624565125
         ]
        },
        {
         "hovertemplate": "color=nothing<br>0=%{x}<br>1=%{y}<br>2=%{z}<extra></extra>",
         "legendgroup": "nothing",
         "marker": {
          "color": "#FECB52",
          "symbol": "circle"
         },
         "mode": "markers",
         "name": "nothing",
         "scene": "scene",
         "showlegend": true,
         "type": "scatter3d",
         "x": [
          0.5800939798355103
         ],
         "y": [
          -0.11933015286922455
         ],
         "z": [
          0.1494724005460739
         ]
        },
        {
         "hovertemplate": "color=someone<br>0=%{x}<br>1=%{y}<br>2=%{z}<extra></extra>",
         "legendgroup": "someone",
         "marker": {
          "color": "#636efa",
          "symbol": "circle"
         },
         "mode": "markers",
         "name": "someone",
         "scene": "scene",
         "showlegend": true,
         "type": "scatter3d",
         "x": [
          0.272977739572525
         ],
         "y": [
          -0.6180026531219482
         ],
         "z": [
          0.21923765540122986
         ]
        },
        {
         "hovertemplate": "color=place<br>0=%{x}<br>1=%{y}<br>2=%{z}<extra></extra>",
         "legendgroup": "place",
         "marker": {
          "color": "#EF553B",
          "symbol": "circle"
         },
         "mode": "markers",
         "name": "place",
         "scene": "scene",
         "showlegend": true,
         "type": "scatter3d",
         "x": [
          0.16370657086372375
         ],
         "y": [
          -0.4869019687175751
         ],
         "z": [
          0.15188539028167725
         ]
        },
        {
         "hovertemplate": "color=richard<br>0=%{x}<br>1=%{y}<br>2=%{z}<extra></extra>",
         "legendgroup": "richard",
         "marker": {
          "color": "#00cc96",
          "symbol": "circle"
         },
         "mode": "markers",
         "name": "richard",
         "scene": "scene",
         "showlegend": true,
         "type": "scatter3d",
         "x": [
          0.12799502909183502
         ],
         "y": [
          0.17435555160045624
         ],
         "z": [
          0.1202174723148346
         ]
        },
        {
         "hovertemplate": "color=cause<br>0=%{x}<br>1=%{y}<br>2=%{z}<extra></extra>",
         "legendgroup": "cause",
         "marker": {
          "color": "#ab63fa",
          "symbol": "circle"
         },
         "mode": "markers",
         "name": "cause",
         "scene": "scene",
         "showlegend": true,
         "type": "scatter3d",
         "x": [
          0.6517457962036133
         ],
         "y": [
          -0.5349514484405518
         ],
         "z": [
          0.19805364310741425
         ]
        },
        {
         "hovertemplate": "color=guess<br>0=%{x}<br>1=%{y}<br>2=%{z}<extra></extra>",
         "legendgroup": "guess",
         "marker": {
          "color": "#FFA15A",
          "symbol": "circle"
         },
         "mode": "markers",
         "name": "guess",
         "scene": "scene",
         "showlegend": true,
         "type": "scatter3d",
         "x": [
          0.5488339066505432
         ],
         "y": [
          -0.1791580617427826
         ],
         "z": [
          0.2604815363883972
         ]
        },
        {
         "hovertemplate": "color=sitting<br>0=%{x}<br>1=%{y}<br>2=%{z}<extra></extra>",
         "legendgroup": "sitting",
         "marker": {
          "color": "#19d3f3",
          "symbol": "circle"
         },
         "mode": "markers",
         "name": "sitting",
         "scene": "scene",
         "showlegend": true,
         "type": "scatter3d",
         "x": [
          -0.5285031199455261
         ],
         "y": [
          0.21014295518398285
         ],
         "z": [
          0.4121616780757904
         ]
        },
        {
         "hovertemplate": "color=break<br>0=%{x}<br>1=%{y}<br>2=%{z}<extra></extra>",
         "legendgroup": "break",
         "marker": {
          "color": "#FF6692",
          "symbol": "circle"
         },
         "mode": "markers",
         "name": "break",
         "scene": "scene",
         "showlegend": true,
         "type": "scatter3d",
         "x": [
          -0.22682327032089233
         ],
         "y": [
          0.13628420233726501
         ],
         "z": [
          0.3967212736606598
         ]
        },
        {
         "hovertemplate": "color=trying<br>0=%{x}<br>1=%{y}<br>2=%{z}<extra></extra>",
         "legendgroup": "trying",
         "marker": {
          "color": "#B6E880",
          "symbol": "circle"
         },
         "mode": "markers",
         "name": "trying",
         "scene": "scene",
         "showlegend": true,
         "type": "scatter3d",
         "x": [
          -0.07823589444160461
         ],
         "y": [
          -0.3017726540565491
         ],
         "z": [
          0.4329090416431427
         ]
        },
        {
         "hovertemplate": "color=bye<br>0=%{x}<br>1=%{y}<br>2=%{z}<extra></extra>",
         "legendgroup": "bye",
         "marker": {
          "color": "#FF97FF",
          "symbol": "circle"
         },
         "mode": "markers",
         "name": "bye",
         "scene": "scene",
         "showlegend": true,
         "type": "scatter3d",
         "x": [
          0.023595482110977173
         ],
         "y": [
          0.49836495518684387
         ],
         "z": [
          0.37042978405952454
         ]
        },
        {
         "hovertemplate": "color=told<br>0=%{x}<br>1=%{y}<br>2=%{z}<extra></extra>",
         "legendgroup": "told",
         "marker": {
          "color": "#FECB52",
          "symbol": "circle"
         },
         "mode": "markers",
         "name": "told",
         "scene": "scene",
         "showlegend": true,
         "type": "scatter3d",
         "x": [
          0.6992022395133972
         ],
         "y": [
          -0.2820354998111725
         ],
         "z": [
          0.14018051326274872
         ]
        }
       ],
       "layout": {
        "legend": {
         "title": {
          "text": "color"
         },
         "tracegroupgap": 0
        },
        "margin": {
         "t": 60
        },
        "scene": {
         "domain": {
          "x": [
           0,
           1
          ],
          "y": [
           0,
           1
          ]
         },
         "xaxis": {
          "title": {
           "text": "0"
          }
         },
         "yaxis": {
          "title": {
           "text": "1"
          }
         },
         "zaxis": {
          "title": {
           "text": "2"
          }
         }
        },
        "template": {
         "data": {
          "bar": [
           {
            "error_x": {
             "color": "#2a3f5f"
            },
            "error_y": {
             "color": "#2a3f5f"
            },
            "marker": {
             "line": {
              "color": "#E5ECF6",
              "width": 0.5
             },
             "pattern": {
              "fillmode": "overlay",
              "size": 10,
              "solidity": 0.2
             }
            },
            "type": "bar"
           }
          ],
          "barpolar": [
           {
            "marker": {
             "line": {
              "color": "#E5ECF6",
              "width": 0.5
             },
             "pattern": {
              "fillmode": "overlay",
              "size": 10,
              "solidity": 0.2
             }
            },
            "type": "barpolar"
           }
          ],
          "carpet": [
           {
            "aaxis": {
             "endlinecolor": "#2a3f5f",
             "gridcolor": "white",
             "linecolor": "white",
             "minorgridcolor": "white",
             "startlinecolor": "#2a3f5f"
            },
            "baxis": {
             "endlinecolor": "#2a3f5f",
             "gridcolor": "white",
             "linecolor": "white",
             "minorgridcolor": "white",
             "startlinecolor": "#2a3f5f"
            },
            "type": "carpet"
           }
          ],
          "choropleth": [
           {
            "colorbar": {
             "outlinewidth": 0,
             "ticks": ""
            },
            "type": "choropleth"
           }
          ],
          "contour": [
           {
            "colorbar": {
             "outlinewidth": 0,
             "ticks": ""
            },
            "colorscale": [
             [
              0,
              "#0d0887"
             ],
             [
              0.1111111111111111,
              "#46039f"
             ],
             [
              0.2222222222222222,
              "#7201a8"
             ],
             [
              0.3333333333333333,
              "#9c179e"
             ],
             [
              0.4444444444444444,
              "#bd3786"
             ],
             [
              0.5555555555555556,
              "#d8576b"
             ],
             [
              0.6666666666666666,
              "#ed7953"
             ],
             [
              0.7777777777777778,
              "#fb9f3a"
             ],
             [
              0.8888888888888888,
              "#fdca26"
             ],
             [
              1,
              "#f0f921"
             ]
            ],
            "type": "contour"
           }
          ],
          "contourcarpet": [
           {
            "colorbar": {
             "outlinewidth": 0,
             "ticks": ""
            },
            "type": "contourcarpet"
           }
          ],
          "heatmap": [
           {
            "colorbar": {
             "outlinewidth": 0,
             "ticks": ""
            },
            "colorscale": [
             [
              0,
              "#0d0887"
             ],
             [
              0.1111111111111111,
              "#46039f"
             ],
             [
              0.2222222222222222,
              "#7201a8"
             ],
             [
              0.3333333333333333,
              "#9c179e"
             ],
             [
              0.4444444444444444,
              "#bd3786"
             ],
             [
              0.5555555555555556,
              "#d8576b"
             ],
             [
              0.6666666666666666,
              "#ed7953"
             ],
             [
              0.7777777777777778,
              "#fb9f3a"
             ],
             [
              0.8888888888888888,
              "#fdca26"
             ],
             [
              1,
              "#f0f921"
             ]
            ],
            "type": "heatmap"
           }
          ],
          "heatmapgl": [
           {
            "colorbar": {
             "outlinewidth": 0,
             "ticks": ""
            },
            "colorscale": [
             [
              0,
              "#0d0887"
             ],
             [
              0.1111111111111111,
              "#46039f"
             ],
             [
              0.2222222222222222,
              "#7201a8"
             ],
             [
              0.3333333333333333,
              "#9c179e"
             ],
             [
              0.4444444444444444,
              "#bd3786"
             ],
             [
              0.5555555555555556,
              "#d8576b"
             ],
             [
              0.6666666666666666,
              "#ed7953"
             ],
             [
              0.7777777777777778,
              "#fb9f3a"
             ],
             [
              0.8888888888888888,
              "#fdca26"
             ],
             [
              1,
              "#f0f921"
             ]
            ],
            "type": "heatmapgl"
           }
          ],
          "histogram": [
           {
            "marker": {
             "pattern": {
              "fillmode": "overlay",
              "size": 10,
              "solidity": 0.2
             }
            },
            "type": "histogram"
           }
          ],
          "histogram2d": [
           {
            "colorbar": {
             "outlinewidth": 0,
             "ticks": ""
            },
            "colorscale": [
             [
              0,
              "#0d0887"
             ],
             [
              0.1111111111111111,
              "#46039f"
             ],
             [
              0.2222222222222222,
              "#7201a8"
             ],
             [
              0.3333333333333333,
              "#9c179e"
             ],
             [
              0.4444444444444444,
              "#bd3786"
             ],
             [
              0.5555555555555556,
              "#d8576b"
             ],
             [
              0.6666666666666666,
              "#ed7953"
             ],
             [
              0.7777777777777778,
              "#fb9f3a"
             ],
             [
              0.8888888888888888,
              "#fdca26"
             ],
             [
              1,
              "#f0f921"
             ]
            ],
            "type": "histogram2d"
           }
          ],
          "histogram2dcontour": [
           {
            "colorbar": {
             "outlinewidth": 0,
             "ticks": ""
            },
            "colorscale": [
             [
              0,
              "#0d0887"
             ],
             [
              0.1111111111111111,
              "#46039f"
             ],
             [
              0.2222222222222222,
              "#7201a8"
             ],
             [
              0.3333333333333333,
              "#9c179e"
             ],
             [
              0.4444444444444444,
              "#bd3786"
             ],
             [
              0.5555555555555556,
              "#d8576b"
             ],
             [
              0.6666666666666666,
              "#ed7953"
             ],
             [
              0.7777777777777778,
              "#fb9f3a"
             ],
             [
              0.8888888888888888,
              "#fdca26"
             ],
             [
              1,
              "#f0f921"
             ]
            ],
            "type": "histogram2dcontour"
           }
          ],
          "mesh3d": [
           {
            "colorbar": {
             "outlinewidth": 0,
             "ticks": ""
            },
            "type": "mesh3d"
           }
          ],
          "parcoords": [
           {
            "line": {
             "colorbar": {
              "outlinewidth": 0,
              "ticks": ""
             }
            },
            "type": "parcoords"
           }
          ],
          "pie": [
           {
            "automargin": true,
            "type": "pie"
           }
          ],
          "scatter": [
           {
            "fillpattern": {
             "fillmode": "overlay",
             "size": 10,
             "solidity": 0.2
            },
            "type": "scatter"
           }
          ],
          "scatter3d": [
           {
            "line": {
             "colorbar": {
              "outlinewidth": 0,
              "ticks": ""
             }
            },
            "marker": {
             "colorbar": {
              "outlinewidth": 0,
              "ticks": ""
             }
            },
            "type": "scatter3d"
           }
          ],
          "scattercarpet": [
           {
            "marker": {
             "colorbar": {
              "outlinewidth": 0,
              "ticks": ""
             }
            },
            "type": "scattercarpet"
           }
          ],
          "scattergeo": [
           {
            "marker": {
             "colorbar": {
              "outlinewidth": 0,
              "ticks": ""
             }
            },
            "type": "scattergeo"
           }
          ],
          "scattergl": [
           {
            "marker": {
             "colorbar": {
              "outlinewidth": 0,
              "ticks": ""
             }
            },
            "type": "scattergl"
           }
          ],
          "scattermapbox": [
           {
            "marker": {
             "colorbar": {
              "outlinewidth": 0,
              "ticks": ""
             }
            },
            "type": "scattermapbox"
           }
          ],
          "scatterpolar": [
           {
            "marker": {
             "colorbar": {
              "outlinewidth": 0,
              "ticks": ""
             }
            },
            "type": "scatterpolar"
           }
          ],
          "scatterpolargl": [
           {
            "marker": {
             "colorbar": {
              "outlinewidth": 0,
              "ticks": ""
             }
            },
            "type": "scatterpolargl"
           }
          ],
          "scatterternary": [
           {
            "marker": {
             "colorbar": {
              "outlinewidth": 0,
              "ticks": ""
             }
            },
            "type": "scatterternary"
           }
          ],
          "surface": [
           {
            "colorbar": {
             "outlinewidth": 0,
             "ticks": ""
            },
            "colorscale": [
             [
              0,
              "#0d0887"
             ],
             [
              0.1111111111111111,
              "#46039f"
             ],
             [
              0.2222222222222222,
              "#7201a8"
             ],
             [
              0.3333333333333333,
              "#9c179e"
             ],
             [
              0.4444444444444444,
              "#bd3786"
             ],
             [
              0.5555555555555556,
              "#d8576b"
             ],
             [
              0.6666666666666666,
              "#ed7953"
             ],
             [
              0.7777777777777778,
              "#fb9f3a"
             ],
             [
              0.8888888888888888,
              "#fdca26"
             ],
             [
              1,
              "#f0f921"
             ]
            ],
            "type": "surface"
           }
          ],
          "table": [
           {
            "cells": {
             "fill": {
              "color": "#EBF0F8"
             },
             "line": {
              "color": "white"
             }
            },
            "header": {
             "fill": {
              "color": "#C8D4E3"
             },
             "line": {
              "color": "white"
             }
            },
            "type": "table"
           }
          ]
         },
         "layout": {
          "annotationdefaults": {
           "arrowcolor": "#2a3f5f",
           "arrowhead": 0,
           "arrowwidth": 1
          },
          "autotypenumbers": "strict",
          "coloraxis": {
           "colorbar": {
            "outlinewidth": 0,
            "ticks": ""
           }
          },
          "colorscale": {
           "diverging": [
            [
             0,
             "#8e0152"
            ],
            [
             0.1,
             "#c51b7d"
            ],
            [
             0.2,
             "#de77ae"
            ],
            [
             0.3,
             "#f1b6da"
            ],
            [
             0.4,
             "#fde0ef"
            ],
            [
             0.5,
             "#f7f7f7"
            ],
            [
             0.6,
             "#e6f5d0"
            ],
            [
             0.7,
             "#b8e186"
            ],
            [
             0.8,
             "#7fbc41"
            ],
            [
             0.9,
             "#4d9221"
            ],
            [
             1,
             "#276419"
            ]
           ],
           "sequential": [
            [
             0,
             "#0d0887"
            ],
            [
             0.1111111111111111,
             "#46039f"
            ],
            [
             0.2222222222222222,
             "#7201a8"
            ],
            [
             0.3333333333333333,
             "#9c179e"
            ],
            [
             0.4444444444444444,
             "#bd3786"
            ],
            [
             0.5555555555555556,
             "#d8576b"
            ],
            [
             0.6666666666666666,
             "#ed7953"
            ],
            [
             0.7777777777777778,
             "#fb9f3a"
            ],
            [
             0.8888888888888888,
             "#fdca26"
            ],
            [
             1,
             "#f0f921"
            ]
           ],
           "sequentialminus": [
            [
             0,
             "#0d0887"
            ],
            [
             0.1111111111111111,
             "#46039f"
            ],
            [
             0.2222222222222222,
             "#7201a8"
            ],
            [
             0.3333333333333333,
             "#9c179e"
            ],
            [
             0.4444444444444444,
             "#bd3786"
            ],
            [
             0.5555555555555556,
             "#d8576b"
            ],
            [
             0.6666666666666666,
             "#ed7953"
            ],
            [
             0.7777777777777778,
             "#fb9f3a"
            ],
            [
             0.8888888888888888,
             "#fdca26"
            ],
            [
             1,
             "#f0f921"
            ]
           ]
          },
          "colorway": [
           "#636efa",
           "#EF553B",
           "#00cc96",
           "#ab63fa",
           "#FFA15A",
           "#19d3f3",
           "#FF6692",
           "#B6E880",
           "#FF97FF",
           "#FECB52"
          ],
          "font": {
           "color": "#2a3f5f"
          },
          "geo": {
           "bgcolor": "white",
           "lakecolor": "white",
           "landcolor": "#E5ECF6",
           "showlakes": true,
           "showland": true,
           "subunitcolor": "white"
          },
          "hoverlabel": {
           "align": "left"
          },
          "hovermode": "closest",
          "mapbox": {
           "style": "light"
          },
          "paper_bgcolor": "white",
          "plot_bgcolor": "#E5ECF6",
          "polar": {
           "angularaxis": {
            "gridcolor": "white",
            "linecolor": "white",
            "ticks": ""
           },
           "bgcolor": "#E5ECF6",
           "radialaxis": {
            "gridcolor": "white",
            "linecolor": "white",
            "ticks": ""
           }
          },
          "scene": {
           "xaxis": {
            "backgroundcolor": "#E5ECF6",
            "gridcolor": "white",
            "gridwidth": 2,
            "linecolor": "white",
            "showbackground": true,
            "ticks": "",
            "zerolinecolor": "white"
           },
           "yaxis": {
            "backgroundcolor": "#E5ECF6",
            "gridcolor": "white",
            "gridwidth": 2,
            "linecolor": "white",
            "showbackground": true,
            "ticks": "",
            "zerolinecolor": "white"
           },
           "zaxis": {
            "backgroundcolor": "#E5ECF6",
            "gridcolor": "white",
            "gridwidth": 2,
            "linecolor": "white",
            "showbackground": true,
            "ticks": "",
            "zerolinecolor": "white"
           }
          },
          "shapedefaults": {
           "line": {
            "color": "#2a3f5f"
           }
          },
          "ternary": {
           "aaxis": {
            "gridcolor": "white",
            "linecolor": "white",
            "ticks": ""
           },
           "baxis": {
            "gridcolor": "white",
            "linecolor": "white",
            "ticks": ""
           },
           "bgcolor": "#E5ECF6",
           "caxis": {
            "gridcolor": "white",
            "linecolor": "white",
            "ticks": ""
           }
          },
          "title": {
           "x": 0.05
          },
          "xaxis": {
           "automargin": true,
           "gridcolor": "white",
           "linecolor": "white",
           "ticks": "",
           "title": {
            "standoff": 15
           },
           "zerolinecolor": "white",
           "zerolinewidth": 2
          },
          "yaxis": {
           "automargin": true,
           "gridcolor": "white",
           "linecolor": "white",
           "ticks": "",
           "title": {
            "standoff": 15
           },
           "zerolinecolor": "white",
           "zerolinewidth": 2
          }
         }
        }
       }
      },
      "text/html": [
       "<div>                            <div id=\"1e971d19-8856-4e30-925b-258450764040\" class=\"plotly-graph-div\" style=\"height:525px; width:100%;\"></div>            <script type=\"text/javascript\">                require([\"plotly\"], function(Plotly) {                    window.PLOTLYENV=window.PLOTLYENV || {};                                    if (document.getElementById(\"1e971d19-8856-4e30-925b-258450764040\")) {                    Plotly.newPlot(                        \"1e971d19-8856-4e30-925b-258450764040\",                        [{\"hovertemplate\":\"color=ross<br>0=%{x}<br>1=%{y}<br>2=%{z}<extra></extra>\",\"legendgroup\":\"ross\",\"marker\":{\"color\":\"#636efa\",\"symbol\":\"circle\"},\"mode\":\"markers\",\"name\":\"ross\",\"scene\":\"scene\",\"showlegend\":true,\"x\":[-0.04523790255188942],\"y\":[0.024479283019900322],\"z\":[0.3186890482902527],\"type\":\"scatter3d\"},{\"hovertemplate\":\"color=rachel<br>0=%{x}<br>1=%{y}<br>2=%{z}<extra></extra>\",\"legendgroup\":\"rachel\",\"marker\":{\"color\":\"#EF553B\",\"symbol\":\"circle\"},\"mode\":\"markers\",\"name\":\"rachel\",\"scene\":\"scene\",\"showlegend\":true,\"x\":[-0.10995834320783615],\"y\":[0.16884997487068176],\"z\":[0.41443294286727905],\"type\":\"scatter3d\"},{\"hovertemplate\":\"color=joey<br>0=%{x}<br>1=%{y}<br>2=%{z}<extra></extra>\",\"legendgroup\":\"joey\",\"marker\":{\"color\":\"#00cc96\",\"symbol\":\"circle\"},\"mode\":\"markers\",\"name\":\"joey\",\"scene\":\"scene\",\"showlegend\":true,\"x\":[-0.1505436897277832],\"y\":[0.03683345392346382],\"z\":[0.3654191195964813],\"type\":\"scatter3d\"},{\"hovertemplate\":\"color=chandler<br>0=%{x}<br>1=%{y}<br>2=%{z}<extra></extra>\",\"legendgroup\":\"chandler\",\"marker\":{\"color\":\"#ab63fa\",\"symbol\":\"circle\"},\"mode\":\"markers\",\"name\":\"chandler\",\"scene\":\"scene\",\"showlegend\":true,\"x\":[-0.13306963443756104],\"y\":[0.05272139236330986],\"z\":[0.3552665412425995],\"type\":\"scatter3d\"},{\"hovertemplate\":\"color=monica<br>0=%{x}<br>1=%{y}<br>2=%{z}<extra></extra>\",\"legendgroup\":\"monica\",\"marker\":{\"color\":\"#FFA15A\",\"symbol\":\"circle\"},\"mode\":\"markers\",\"name\":\"monica\",\"scene\":\"scene\",\"showlegend\":true,\"x\":[-0.14207333326339722],\"y\":[0.09007459878921509],\"z\":[0.41152387857437134],\"type\":\"scatter3d\"},{\"hovertemplate\":\"color=phoebe<br>0=%{x}<br>1=%{y}<br>2=%{z}<extra></extra>\",\"legendgroup\":\"phoebe\",\"marker\":{\"color\":\"#19d3f3\",\"symbol\":\"circle\"},\"mode\":\"markers\",\"name\":\"phoebe\",\"scene\":\"scene\",\"showlegend\":true,\"x\":[-0.05489913746714592],\"y\":[0.11264718323945999],\"z\":[0.31428515911102295],\"type\":\"scatter3d\"},{\"hovertemplate\":\"color=you<br>0=%{x}<br>1=%{y}<br>2=%{z}<extra></extra>\",\"legendgroup\":\"you\",\"marker\":{\"color\":\"#FF6692\",\"symbol\":\"circle\"},\"mode\":\"markers\",\"name\":\"you\",\"scene\":\"scene\",\"showlegend\":true,\"x\":[0.49449872970581055],\"y\":[-0.30895355343818665],\"z\":[0.428388386964798],\"type\":\"scatter3d\"},{\"hovertemplate\":\"color=oh<br>0=%{x}<br>1=%{y}<br>2=%{z}<extra></extra>\",\"legendgroup\":\"oh\",\"marker\":{\"color\":\"#B6E880\",\"symbol\":\"circle\"},\"mode\":\"markers\",\"name\":\"oh\",\"scene\":\"scene\",\"showlegend\":true,\"x\":[0.2770351767539978],\"y\":[0.2100287824869156],\"z\":[0.3740159869194031],\"type\":\"scatter3d\"},{\"hovertemplate\":\"color=it<br>0=%{x}<br>1=%{y}<br>2=%{z}<extra></extra>\",\"legendgroup\":\"it\",\"marker\":{\"color\":\"#FF97FF\",\"symbol\":\"circle\"},\"mode\":\"markers\",\"name\":\"it\",\"scene\":\"scene\",\"showlegend\":true,\"x\":[0.37303677201271057],\"y\":[-0.37271252274513245],\"z\":[0.234938845038414],\"type\":\"scatter3d\"},{\"hovertemplate\":\"color=know<br>0=%{x}<br>1=%{y}<br>2=%{z}<extra></extra>\",\"legendgroup\":\"know\",\"marker\":{\"color\":\"#FECB52\",\"symbol\":\"circle\"},\"mode\":\"markers\",\"name\":\"know\",\"scene\":\"scene\",\"showlegend\":true,\"x\":[0.6645803451538086],\"y\":[-0.4340324103832245],\"z\":[0.26249417662620544],\"type\":\"scatter3d\"},{\"hovertemplate\":\"color=no<br>0=%{x}<br>1=%{y}<br>2=%{z}<extra></extra>\",\"legendgroup\":\"no\",\"marker\":{\"color\":\"#636efa\",\"symbol\":\"circle\"},\"mode\":\"markers\",\"name\":\"no\",\"scene\":\"scene\",\"showlegend\":true,\"x\":[0.33664101362228394],\"y\":[0.028215186670422554],\"z\":[0.3307065963745117],\"type\":\"scatter3d\"},{\"hovertemplate\":\"color=that<br>0=%{x}<br>1=%{y}<br>2=%{z}<extra></extra>\",\"legendgroup\":\"that\",\"marker\":{\"color\":\"#EF553B\",\"symbol\":\"circle\"},\"mode\":\"markers\",\"name\":\"that\",\"scene\":\"scene\",\"showlegend\":true,\"x\":[0.5976905226707458],\"y\":[-0.15228916704654694],\"z\":[0.14750781655311584],\"type\":\"scatter3d\"},{\"hovertemplate\":\"color=what<br>0=%{x}<br>1=%{y}<br>2=%{z}<extra></extra>\",\"legendgroup\":\"what\",\"marker\":{\"color\":\"#00cc96\",\"symbol\":\"circle\"},\"mode\":\"markers\",\"name\":\"what\",\"scene\":\"scene\",\"showlegend\":true,\"x\":[0.3200577199459076],\"y\":[0.11940068006515503],\"z\":[0.3606642186641693],\"type\":\"scatter3d\"},{\"hovertemplate\":\"color=yeah<br>0=%{x}<br>1=%{y}<br>2=%{z}<extra></extra>\",\"legendgroup\":\"yeah\",\"marker\":{\"color\":\"#ab63fa\",\"symbol\":\"circle\"},\"mode\":\"markers\",\"name\":\"yeah\",\"scene\":\"scene\",\"showlegend\":true,\"x\":[0.5606386661529541],\"y\":[-0.007885877974331379],\"z\":[0.22053134441375732],\"type\":\"scatter3d\"},{\"hovertemplate\":\"color=okay<br>0=%{x}<br>1=%{y}<br>2=%{z}<extra></extra>\",\"legendgroup\":\"okay\",\"marker\":{\"color\":\"#FFA15A\",\"symbol\":\"circle\"},\"mode\":\"markers\",\"name\":\"okay\",\"scene\":\"scene\",\"showlegend\":true,\"x\":[0.4308915138244629],\"y\":[-0.07951738685369492],\"z\":[0.46837127208709717],\"type\":\"scatter3d\"},{\"hovertemplate\":\"color=well<br>0=%{x}<br>1=%{y}<br>2=%{z}<extra></extra>\",\"legendgroup\":\"well\",\"marker\":{\"color\":\"#19d3f3\",\"symbol\":\"circle\"},\"mode\":\"markers\",\"name\":\"well\",\"scene\":\"scene\",\"showlegend\":true,\"x\":[0.6691651344299316],\"y\":[-0.2762100100517273],\"z\":[0.2940910756587982],\"type\":\"scatter3d\"},{\"hovertemplate\":\"color=hey<br>0=%{x}<br>1=%{y}<br>2=%{z}<extra></extra>\",\"legendgroup\":\"hey\",\"marker\":{\"color\":\"#FF6692\",\"symbol\":\"circle\"},\"mode\":\"markers\",\"name\":\"hey\",\"scene\":\"scene\",\"showlegend\":true,\"x\":[0.11955537647008896],\"y\":[0.22944366931915283],\"z\":[0.4722766876220703],\"type\":\"scatter3d\"},{\"hovertemplate\":\"color=re<br>0=%{x}<br>1=%{y}<br>2=%{z}<extra></extra>\",\"legendgroup\":\"re\",\"marker\":{\"color\":\"#B6E880\",\"symbol\":\"circle\"},\"mode\":\"markers\",\"name\":\"re\",\"scene\":\"scene\",\"showlegend\":true,\"x\":[0.3305439352989197],\"y\":[-0.17324486374855042],\"z\":[0.5106222629547119],\"type\":\"scatter3d\"},{\"hovertemplate\":\"color=right<br>0=%{x}<br>1=%{y}<br>2=%{z}<extra></extra>\",\"legendgroup\":\"right\",\"marker\":{\"color\":\"#FF97FF\",\"symbol\":\"circle\"},\"mode\":\"markers\",\"name\":\"right\",\"scene\":\"scene\",\"showlegend\":true,\"x\":[0.28035491704940796],\"y\":[-0.14156566560268402],\"z\":[0.542628824710846],\"type\":\"scatter3d\"},{\"hovertemplate\":\"color=he<br>0=%{x}<br>1=%{y}<br>2=%{z}<extra></extra>\",\"legendgroup\":\"he\",\"marker\":{\"color\":\"#FECB52\",\"symbol\":\"circle\"},\"mode\":\"markers\",\"name\":\"he\",\"scene\":\"scene\",\"showlegend\":true,\"x\":[-0.181073859333992],\"y\":[-0.3885437250137329],\"z\":[0.3255351483821869],\"type\":\"scatter3d\"},{\"hovertemplate\":\"color=like<br>0=%{x}<br>1=%{y}<br>2=%{z}<extra></extra>\",\"legendgroup\":\"like\",\"marker\":{\"color\":\"#636efa\",\"symbol\":\"circle\"},\"mode\":\"markers\",\"name\":\"like\",\"scene\":\"scene\",\"showlegend\":true,\"x\":[0.38532930612564087],\"y\":[-0.48997628688812256],\"z\":[0.18505339324474335],\"type\":\"scatter3d\"},{\"hovertemplate\":\"color=scene<br>0=%{x}<br>1=%{y}<br>2=%{z}<extra></extra>\",\"legendgroup\":\"scene\",\"marker\":{\"color\":\"#EF553B\",\"symbol\":\"circle\"},\"mode\":\"markers\",\"name\":\"scene\",\"scene\":\"scene\",\"showlegend\":true,\"x\":[-0.39101889729499817],\"y\":[0.2677231431007385],\"z\":[0.39495909214019775],\"type\":\"scatter3d\"},{\"hovertemplate\":\"color=get<br>0=%{x}<br>1=%{y}<br>2=%{z}<extra></extra>\",\"legendgroup\":\"get\",\"marker\":{\"color\":\"#00cc96\",\"symbol\":\"circle\"},\"mode\":\"markers\",\"name\":\"get\",\"scene\":\"scene\",\"showlegend\":true,\"x\":[0.2916981279850006],\"y\":[-0.5130254626274109],\"z\":[0.49261265993118286],\"type\":\"scatter3d\"},{\"hovertemplate\":\"color=the<br>0=%{x}<br>1=%{y}<br>2=%{z}<extra></extra>\",\"legendgroup\":\"the\",\"marker\":{\"color\":\"#ab63fa\",\"symbol\":\"circle\"},\"mode\":\"markers\",\"name\":\"the\",\"scene\":\"scene\",\"showlegend\":true,\"x\":[-0.2815034091472626],\"y\":[-0.03898368403315544],\"z\":[0.26283642649650574],\"type\":\"scatter3d\"},{\"hovertemplate\":\"color=we<br>0=%{x}<br>1=%{y}<br>2=%{z}<extra></extra>\",\"legendgroup\":\"we\",\"marker\":{\"color\":\"#FFA15A\",\"symbol\":\"circle\"},\"mode\":\"markers\",\"name\":\"we\",\"scene\":\"scene\",\"showlegend\":true,\"x\":[0.3123950660228729],\"y\":[-0.3355012834072113],\"z\":[0.5240038633346558],\"type\":\"scatter3d\"},{\"hovertemplate\":\"color=and<br>0=%{x}<br>1=%{y}<br>2=%{z}<extra></extra>\",\"legendgroup\":\"and\",\"marker\":{\"color\":\"#19d3f3\",\"symbol\":\"circle\"},\"mode\":\"markers\",\"name\":\"and\",\"scene\":\"scene\",\"showlegend\":true,\"x\":[0.32512617111206055],\"y\":[-0.5484724640846252],\"z\":[0.2596888542175293],\"type\":\"scatter3d\"},{\"hovertemplate\":\"color=gonna<br>0=%{x}<br>1=%{y}<br>2=%{z}<extra></extra>\",\"legendgroup\":\"gonna\",\"marker\":{\"color\":\"#FF6692\",\"symbol\":\"circle\"},\"mode\":\"markers\",\"name\":\"gonna\",\"scene\":\"scene\",\"showlegend\":true,\"x\":[0.4789849817752838],\"y\":[-0.36979278922080994],\"z\":[0.5702700018882751],\"type\":\"scatter3d\"},{\"hovertemplate\":\"color=she<br>0=%{x}<br>1=%{y}<br>2=%{z}<extra></extra>\",\"legendgroup\":\"she\",\"marker\":{\"color\":\"#B6E880\",\"symbol\":\"circle\"},\"mode\":\"markers\",\"name\":\"she\",\"scene\":\"scene\",\"showlegend\":true,\"x\":[-0.23520664870738983],\"y\":[-0.27725881338119507],\"z\":[0.3312208354473114],\"type\":\"scatter3d\"},{\"hovertemplate\":\"color=go<br>0=%{x}<br>1=%{y}<br>2=%{z}<extra></extra>\",\"legendgroup\":\"go\",\"marker\":{\"color\":\"#FF97FF\",\"symbol\":\"circle\"},\"mode\":\"markers\",\"name\":\"go\",\"scene\":\"scene\",\"showlegend\":true,\"x\":[0.22230374813079834],\"y\":[-0.3069475293159485],\"z\":[0.5945373773574829],\"type\":\"scatter3d\"},{\"hovertemplate\":\"color=one<br>0=%{x}<br>1=%{y}<br>2=%{z}<extra></extra>\",\"legendgroup\":\"one\",\"marker\":{\"color\":\"#FECB52\",\"symbol\":\"circle\"},\"mode\":\"markers\",\"name\":\"one\",\"scene\":\"scene\",\"showlegend\":true,\"x\":[0.08350027352571487],\"y\":[-0.5210303068161011],\"z\":[0.1980658620595932],\"type\":\"scatter3d\"},{\"hovertemplate\":\"color=me<br>0=%{x}<br>1=%{y}<br>2=%{z}<extra></extra>\",\"legendgroup\":\"me\",\"marker\":{\"color\":\"#636efa\",\"symbol\":\"circle\"},\"mode\":\"markers\",\"name\":\"me\",\"scene\":\"scene\",\"showlegend\":true,\"x\":[0.5273891687393188],\"y\":[-0.28175613284111023],\"z\":[0.3926312029361725],\"type\":\"scatter3d\"},{\"hovertemplate\":\"color=uh<br>0=%{x}<br>1=%{y}<br>2=%{z}<extra></extra>\",\"legendgroup\":\"uh\",\"marker\":{\"color\":\"#EF553B\",\"symbol\":\"circle\"},\"mode\":\"markers\",\"name\":\"uh\",\"scene\":\"scene\",\"showlegend\":true,\"x\":[0.44884154200553894],\"y\":[-0.10582608729600906],\"z\":[0.3425254821777344],\"type\":\"scatter3d\"},{\"hovertemplate\":\"color=really<br>0=%{x}<br>1=%{y}<br>2=%{z}<extra></extra>\",\"legendgroup\":\"really\",\"marker\":{\"color\":\"#00cc96\",\"symbol\":\"circle\"},\"mode\":\"markers\",\"name\":\"really\",\"scene\":\"scene\",\"showlegend\":true,\"x\":[0.7063322067260742],\"y\":[-0.2698233723640442],\"z\":[0.25107449293136597],\"type\":\"scatter3d\"},{\"hovertemplate\":\"color=so<br>0=%{x}<br>1=%{y}<br>2=%{z}<extra></extra>\",\"legendgroup\":\"so\",\"marker\":{\"color\":\"#ab63fa\",\"symbol\":\"circle\"},\"mode\":\"markers\",\"name\":\"so\",\"scene\":\"scene\",\"showlegend\":true,\"x\":[0.4746384918689728],\"y\":[-0.21546776592731476],\"z\":[0.4085814952850342],\"type\":\"scatter3d\"},{\"hovertemplate\":\"color=don<br>0=%{x}<br>1=%{y}<br>2=%{z}<extra></extra>\",\"legendgroup\":\"don\",\"marker\":{\"color\":\"#FFA15A\",\"symbol\":\"circle\"},\"mode\":\"markers\",\"name\":\"don\",\"scene\":\"scene\",\"showlegend\":true,\"x\":[0.5219315886497498],\"y\":[-0.25511622428894043],\"z\":[0.48068132996559143],\"type\":\"scatter3d\"},{\"hovertemplate\":\"color=look<br>0=%{x}<br>1=%{y}<br>2=%{z}<extra></extra>\",\"legendgroup\":\"look\",\"marker\":{\"color\":\"#19d3f3\",\"symbol\":\"circle\"},\"mode\":\"markers\",\"name\":\"look\",\"scene\":\"scene\",\"showlegend\":true,\"x\":[0.29465019702911377],\"y\":[-0.2085428237915039],\"z\":[0.45221081376075745],\"type\":\"scatter3d\"},{\"hovertemplate\":\"color=think<br>0=%{x}<br>1=%{y}<br>2=%{z}<extra></extra>\",\"legendgroup\":\"think\",\"marker\":{\"color\":\"#FF6692\",\"symbol\":\"circle\"},\"mode\":\"markers\",\"name\":\"think\",\"scene\":\"scene\",\"showlegend\":true,\"x\":[0.6766296625137329],\"y\":[-0.3869110941886902],\"z\":[0.2959841787815094],\"type\":\"scatter3d\"},{\"hovertemplate\":\"color=there<br>0=%{x}<br>1=%{y}<br>2=%{z}<extra></extra>\",\"legendgroup\":\"there\",\"marker\":{\"color\":\"#B6E880\",\"symbol\":\"circle\"},\"mode\":\"markers\",\"name\":\"there\",\"scene\":\"scene\",\"showlegend\":true,\"x\":[0.09087277948856354],\"y\":[-0.16425618529319763],\"z\":[0.33839544653892517],\"type\":\"scatter3d\"},{\"hovertemplate\":\"color=they<br>0=%{x}<br>1=%{y}<br>2=%{z}<extra></extra>\",\"legendgroup\":\"they\",\"marker\":{\"color\":\"#FF97FF\",\"symbol\":\"circle\"},\"mode\":\"markers\",\"name\":\"they\",\"scene\":\"scene\",\"showlegend\":true,\"x\":[-0.0415830984711647],\"y\":[-0.3007901906967163],\"z\":[0.5458219647407532],\"type\":\"scatter3d\"},{\"hovertemplate\":\"color=to<br>0=%{x}<br>1=%{y}<br>2=%{z}<extra></extra>\",\"legendgroup\":\"to\",\"marker\":{\"color\":\"#FECB52\",\"symbol\":\"circle\"},\"mode\":\"markers\",\"name\":\"to\",\"scene\":\"scene\",\"showlegend\":true,\"x\":[0.30435675382614136],\"y\":[0.2776055634021759],\"z\":[0.4241800010204315],\"type\":\"scatter3d\"},{\"hovertemplate\":\"color=this<br>0=%{x}<br>1=%{y}<br>2=%{z}<extra></extra>\",\"legendgroup\":\"this\",\"marker\":{\"color\":\"#636efa\",\"symbol\":\"circle\"},\"mode\":\"markers\",\"name\":\"this\",\"scene\":\"scene\",\"showlegend\":true,\"x\":[0.5103591680526733],\"y\":[-0.24661758542060852],\"z\":[0.1849306970834732],\"type\":\"scatter3d\"},{\"hovertemplate\":\"color=can<br>0=%{x}<br>1=%{y}<br>2=%{z}<extra></extra>\",\"legendgroup\":\"can\",\"marker\":{\"color\":\"#EF553B\",\"symbol\":\"circle\"},\"mode\":\"markers\",\"name\":\"can\",\"scene\":\"scene\",\"showlegend\":true,\"x\":[0.3642280101776123],\"y\":[-0.20403137803077698],\"z\":[0.5074431300163269],\"type\":\"scatter3d\"},{\"hovertemplate\":\"color=see<br>0=%{x}<br>1=%{y}<br>2=%{z}<extra></extra>\",\"legendgroup\":\"see\",\"marker\":{\"color\":\"#00cc96\",\"symbol\":\"circle\"},\"mode\":\"markers\",\"name\":\"see\",\"scene\":\"scene\",\"showlegend\":true,\"x\":[0.32907503843307495],\"y\":[-0.31780701875686646],\"z\":[0.4080195128917694],\"type\":\"scatter3d\"},{\"hovertemplate\":\"color=ll<br>0=%{x}<br>1=%{y}<br>2=%{z}<extra></extra>\",\"legendgroup\":\"ll\",\"marker\":{\"color\":\"#ab63fa\",\"symbol\":\"circle\"},\"mode\":\"markers\",\"name\":\"ll\",\"scene\":\"scene\",\"showlegend\":true,\"x\":[0.3036482036113739],\"y\":[-0.35070520639419556],\"z\":[0.6264512538909912],\"type\":\"scatter3d\"},{\"hovertemplate\":\"color=mean<br>0=%{x}<br>1=%{y}<br>2=%{z}<extra></extra>\",\"legendgroup\":\"mean\",\"marker\":{\"color\":\"#FFA15A\",\"symbol\":\"circle\"},\"mode\":\"markers\",\"name\":\"mean\",\"scene\":\"scene\",\"showlegend\":true,\"x\":[0.6254924535751343],\"y\":[-0.5331061482429504],\"z\":[0.21224889159202576],\"type\":\"scatter3d\"},{\"hovertemplate\":\"color=all<br>0=%{x}<br>1=%{y}<br>2=%{z}<extra></extra>\",\"legendgroup\":\"all\",\"marker\":{\"color\":\"#19d3f3\",\"symbol\":\"circle\"},\"mode\":\"markers\",\"name\":\"all\",\"scene\":\"scene\",\"showlegend\":true,\"x\":[0.20802177488803864],\"y\":[-0.0684180036187172],\"z\":[0.5073838829994202],\"type\":\"scatter3d\"},{\"hovertemplate\":\"color=back<br>0=%{x}<br>1=%{y}<br>2=%{z}<extra></extra>\",\"legendgroup\":\"back\",\"marker\":{\"color\":\"#FF6692\",\"symbol\":\"circle\"},\"mode\":\"markers\",\"name\":\"back\",\"scene\":\"scene\",\"showlegend\":true,\"x\":[-0.25304535031318665],\"y\":[-0.33124038577079773],\"z\":[0.591062068939209],\"type\":\"scatter3d\"},{\"hovertemplate\":\"color=got<br>0=%{x}<br>1=%{y}<br>2=%{z}<extra></extra>\",\"legendgroup\":\"got\",\"marker\":{\"color\":\"#B6E880\",\"symbol\":\"circle\"},\"mode\":\"markers\",\"name\":\"got\",\"scene\":\"scene\",\"showlegend\":true,\"x\":[0.2570781111717224],\"y\":[-0.2613274157047272],\"z\":[0.34506139159202576],\"type\":\"scatter3d\"},{\"hovertemplate\":\"color=here<br>0=%{x}<br>1=%{y}<br>2=%{z}<extra></extra>\",\"legendgroup\":\"here\",\"marker\":{\"color\":\"#FF97FF\",\"symbol\":\"circle\"},\"mode\":\"markers\",\"name\":\"here\",\"scene\":\"scene\",\"showlegend\":true,\"x\":[0.2992402911186218],\"y\":[-0.10994739830493927],\"z\":[0.44413191080093384],\"type\":\"scatter3d\"},{\"hovertemplate\":\"color=good<br>0=%{x}<br>1=%{y}<br>2=%{z}<extra></extra>\",\"legendgroup\":\"good\",\"marker\":{\"color\":\"#FECB52\",\"symbol\":\"circle\"},\"mode\":\"markers\",\"name\":\"good\",\"scene\":\"scene\",\"showlegend\":true,\"x\":[0.44094082713127136],\"y\":[-0.06063833087682724],\"z\":[0.2680840492248535],\"type\":\"scatter3d\"},{\"hovertemplate\":\"color=come<br>0=%{x}<br>1=%{y}<br>2=%{z}<extra></extra>\",\"legendgroup\":\"come\",\"marker\":{\"color\":\"#636efa\",\"symbol\":\"circle\"},\"mode\":\"markers\",\"name\":\"come\",\"scene\":\"scene\",\"showlegend\":true,\"x\":[0.32812410593032837],\"y\":[-0.10909481346607208],\"z\":[0.5634706616401672],\"type\":\"scatter3d\"},{\"hovertemplate\":\"color=want<br>0=%{x}<br>1=%{y}<br>2=%{z}<extra></extra>\",\"legendgroup\":\"want\",\"marker\":{\"color\":\"#EF553B\",\"symbol\":\"circle\"},\"mode\":\"markers\",\"name\":\"want\",\"scene\":\"scene\",\"showlegend\":true,\"x\":[0.5780985355377197],\"y\":[-0.39392322301864624],\"z\":[0.4396514594554901],\"type\":\"scatter3d\"},{\"hovertemplate\":\"color=god<br>0=%{x}<br>1=%{y}<br>2=%{z}<extra></extra>\",\"legendgroup\":\"god\",\"marker\":{\"color\":\"#00cc96\",\"symbol\":\"circle\"},\"mode\":\"markers\",\"name\":\"god\",\"scene\":\"scene\",\"showlegend\":true,\"x\":[0.1508147269487381],\"y\":[0.14441846311092377],\"z\":[0.3441987633705139],\"type\":\"scatter3d\"},{\"hovertemplate\":\"color=would<br>0=%{x}<br>1=%{y}<br>2=%{z}<extra></extra>\",\"legendgroup\":\"would\",\"marker\":{\"color\":\"#ab63fa\",\"symbol\":\"circle\"},\"mode\":\"markers\",\"name\":\"would\",\"scene\":\"scene\",\"showlegend\":true,\"x\":[0.5293055176734924],\"y\":[-0.42452844977378845],\"z\":[0.311749130487442],\"type\":\"scatter3d\"},{\"hovertemplate\":\"color=guys<br>0=%{x}<br>1=%{y}<br>2=%{z}<extra></extra>\",\"legendgroup\":\"guys\",\"marker\":{\"color\":\"#FFA15A\",\"symbol\":\"circle\"},\"mode\":\"markers\",\"name\":\"guys\",\"scene\":\"scene\",\"showlegend\":true,\"x\":[0.3594813942909241],\"y\":[-0.23443244397640228],\"z\":[0.4021246135234833],\"type\":\"scatter3d\"},{\"hovertemplate\":\"color=him<br>0=%{x}<br>1=%{y}<br>2=%{z}<extra></extra>\",\"legendgroup\":\"him\",\"marker\":{\"color\":\"#19d3f3\",\"symbol\":\"circle\"},\"mode\":\"markers\",\"name\":\"him\",\"scene\":\"scene\",\"showlegend\":true,\"x\":[-0.02645396813750267],\"y\":[-0.18630045652389526],\"z\":[0.4861440062522888],\"type\":\"scatter3d\"},{\"hovertemplate\":\"color=going<br>0=%{x}<br>1=%{y}<br>2=%{z}<extra></extra>\",\"legendgroup\":\"going\",\"marker\":{\"color\":\"#FF6692\",\"symbol\":\"circle\"},\"mode\":\"markers\",\"name\":\"going\",\"scene\":\"scene\",\"showlegend\":true,\"x\":[0.41316068172454834],\"y\":[-0.27434539794921875],\"z\":[0.48864641785621643],\"type\":\"scatter3d\"},{\"hovertemplate\":\"color=on<br>0=%{x}<br>1=%{y}<br>2=%{z}<extra></extra>\",\"legendgroup\":\"on\",\"marker\":{\"color\":\"#B6E880\",\"symbol\":\"circle\"},\"mode\":\"markers\",\"name\":\"on\",\"scene\":\"scene\",\"showlegend\":true,\"x\":[0.09624172747135162],\"y\":[0.023435119539499283],\"z\":[0.4890066385269165],\"type\":\"scatter3d\"},{\"hovertemplate\":\"color=ve<br>0=%{x}<br>1=%{y}<br>2=%{z}<extra></extra>\",\"legendgroup\":\"ve\",\"marker\":{\"color\":\"#FF97FF\",\"symbol\":\"circle\"},\"mode\":\"markers\",\"name\":\"ve\",\"scene\":\"scene\",\"showlegend\":true,\"x\":[0.42016807198524475],\"y\":[-0.39350640773773193],\"z\":[0.321181058883667],\"type\":\"scatter3d\"},{\"hovertemplate\":\"color=but<br>0=%{x}<br>1=%{y}<br>2=%{z}<extra></extra>\",\"legendgroup\":\"but\",\"marker\":{\"color\":\"#FECB52\",\"symbol\":\"circle\"},\"mode\":\"markers\",\"name\":\"but\",\"scene\":\"scene\",\"showlegend\":true,\"x\":[0.7034867405891418],\"y\":[-0.4366992712020874],\"z\":[0.271194189786911],\"type\":\"scatter3d\"},{\"hovertemplate\":\"color=sorry<br>0=%{x}<br>1=%{y}<br>2=%{z}<extra></extra>\",\"legendgroup\":\"sorry\",\"marker\":{\"color\":\"#636efa\",\"symbol\":\"circle\"},\"mode\":\"markers\",\"name\":\"sorry\",\"scene\":\"scene\",\"showlegend\":true,\"x\":[0.5450275540351868],\"y\":[0.1306241899728775],\"z\":[0.32184335589408875],\"type\":\"scatter3d\"},{\"hovertemplate\":\"color=her<br>0=%{x}<br>1=%{y}<br>2=%{z}<extra></extra>\",\"legendgroup\":\"her\",\"marker\":{\"color\":\"#EF553B\",\"symbol\":\"circle\"},\"mode\":\"markers\",\"name\":\"her\",\"scene\":\"scene\",\"showlegend\":true,\"x\":[0.04245949909090996],\"y\":[-0.28605571389198303],\"z\":[0.4503221809864044],\"type\":\"scatter3d\"},{\"hovertemplate\":\"color=now<br>0=%{x}<br>1=%{y}<br>2=%{z}<extra></extra>\",\"legendgroup\":\"now\",\"marker\":{\"color\":\"#00cc96\",\"symbol\":\"circle\"},\"mode\":\"markers\",\"name\":\"now\",\"scene\":\"scene\",\"showlegend\":true,\"x\":[0.4123254120349884],\"y\":[-0.40528061985969543],\"z\":[0.46812552213668823],\"type\":\"scatter3d\"},{\"hovertemplate\":\"color=time<br>0=%{x}<br>1=%{y}<br>2=%{z}<extra></extra>\",\"legendgroup\":\"time\",\"marker\":{\"color\":\"#ab63fa\",\"symbol\":\"circle\"},\"mode\":\"markers\",\"name\":\"time\",\"scene\":\"scene\",\"showlegend\":true,\"x\":[0.32367345690727234],\"y\":[-0.5564072728157043],\"z\":[0.3047780990600586],\"type\":\"scatter3d\"},{\"hovertemplate\":\"color=hi<br>0=%{x}<br>1=%{y}<br>2=%{z}<extra></extra>\",\"legendgroup\":\"hi\",\"marker\":{\"color\":\"#FFA15A\",\"symbol\":\"circle\"},\"mode\":\"markers\",\"name\":\"hi\",\"scene\":\"scene\",\"showlegend\":true,\"x\":[-0.07326807826757431],\"y\":[0.6636787056922913],\"z\":[0.4008678197860718],\"type\":\"scatter3d\"},{\"hovertemplate\":\"color=up<br>0=%{x}<br>1=%{y}<br>2=%{z}<extra></extra>\",\"legendgroup\":\"up\",\"marker\":{\"color\":\"#19d3f3\",\"symbol\":\"circle\"},\"mode\":\"markers\",\"name\":\"up\",\"scene\":\"scene\",\"showlegend\":true,\"x\":[-0.10640864819288254],\"y\":[-0.20841017365455627],\"z\":[0.5633434653282166],\"type\":\"scatter3d\"},{\"hovertemplate\":\"color=do<br>0=%{x}<br>1=%{y}<br>2=%{z}<extra></extra>\",\"legendgroup\":\"do\",\"marker\":{\"color\":\"#FF6692\",\"symbol\":\"circle\"},\"mode\":\"markers\",\"name\":\"do\",\"scene\":\"scene\",\"showlegend\":true,\"x\":[0.5743130445480347],\"y\":[-0.2416571080684662],\"z\":[0.3123289942741394],\"type\":\"scatter3d\"},{\"hovertemplate\":\"color=little<br>0=%{x}<br>1=%{y}<br>2=%{z}<extra></extra>\",\"legendgroup\":\"little\",\"marker\":{\"color\":\"#B6E880\",\"symbol\":\"circle\"},\"mode\":\"markers\",\"name\":\"little\",\"scene\":\"scene\",\"showlegend\":true,\"x\":[0.2536638677120209],\"y\":[-0.5331411957740784],\"z\":[0.26615795493125916],\"type\":\"scatter3d\"},{\"hovertemplate\":\"color=ok<br>0=%{x}<br>1=%{y}<br>2=%{z}<extra></extra>\",\"legendgroup\":\"ok\",\"marker\":{\"color\":\"#FF97FF\",\"symbol\":\"circle\"},\"mode\":\"markers\",\"name\":\"ok\",\"scene\":\"scene\",\"showlegend\":true,\"x\":[0.18807388842105865],\"y\":[0.03878603130578995],\"z\":[0.5528424382209778],\"type\":\"scatter3d\"},{\"hovertemplate\":\"color=great<br>0=%{x}<br>1=%{y}<br>2=%{z}<extra></extra>\",\"legendgroup\":\"great\",\"marker\":{\"color\":\"#FECB52\",\"symbol\":\"circle\"},\"mode\":\"markers\",\"name\":\"great\",\"scene\":\"scene\",\"showlegend\":true,\"x\":[0.5510181188583374],\"y\":[0.00548130227252841],\"z\":[0.1565411537885666],\"type\":\"scatter3d\"},{\"hovertemplate\":\"color=guy<br>0=%{x}<br>1=%{y}<br>2=%{z}<extra></extra>\",\"legendgroup\":\"guy\",\"marker\":{\"color\":\"#636efa\",\"symbol\":\"circle\"},\"mode\":\"markers\",\"name\":\"guy\",\"scene\":\"scene\",\"showlegend\":true,\"x\":[0.09820514172315598],\"y\":[-0.44630712270736694],\"z\":[0.1298275589942932],\"type\":\"scatter3d\"},{\"hovertemplate\":\"color=let<br>0=%{x}<br>1=%{y}<br>2=%{z}<extra></extra>\",\"legendgroup\":\"let\",\"marker\":{\"color\":\"#EF553B\",\"symbol\":\"circle\"},\"mode\":\"markers\",\"name\":\"let\",\"scene\":\"scene\",\"showlegend\":true,\"x\":[0.2933852970600128],\"y\":[-0.27162107825279236],\"z\":[0.5872011780738831],\"type\":\"scatter3d\"},{\"hovertemplate\":\"color=say<br>0=%{x}<br>1=%{y}<br>2=%{z}<extra></extra>\",\"legendgroup\":\"say\",\"marker\":{\"color\":\"#00cc96\",\"symbol\":\"circle\"},\"mode\":\"markers\",\"name\":\"say\",\"scene\":\"scene\",\"showlegend\":true,\"x\":[0.5702342987060547],\"y\":[-0.24749836325645447],\"z\":[0.36646589636802673],\"type\":\"scatter3d\"},{\"hovertemplate\":\"color=tell<br>0=%{x}<br>1=%{y}<br>2=%{z}<extra></extra>\",\"legendgroup\":\"tell\",\"marker\":{\"color\":\"#ab63fa\",\"symbol\":\"circle\"},\"mode\":\"markers\",\"name\":\"tell\",\"scene\":\"scene\",\"showlegend\":true,\"x\":[0.6553851962089539],\"y\":[-0.2807632386684418],\"z\":[0.43564578890800476],\"type\":\"scatter3d\"},{\"hovertemplate\":\"color=yes<br>0=%{x}<br>1=%{y}<br>2=%{z}<extra></extra>\",\"legendgroup\":\"yes\",\"marker\":{\"color\":\"#FFA15A\",\"symbol\":\"circle\"},\"mode\":\"markers\",\"name\":\"yes\",\"scene\":\"scene\",\"showlegend\":true,\"x\":[0.3557531237602234],\"y\":[0.3161473572254181],\"z\":[0.22195690870285034],\"type\":\"scatter3d\"},{\"hovertemplate\":\"color=door<br>0=%{x}<br>1=%{y}<br>2=%{z}<extra></extra>\",\"legendgroup\":\"door\",\"marker\":{\"color\":\"#19d3f3\",\"symbol\":\"circle\"},\"mode\":\"markers\",\"name\":\"door\",\"scene\":\"scene\",\"showlegend\":true,\"x\":[-0.4989238679409027],\"y\":[0.1768644154071808],\"z\":[0.5592990517616272],\"type\":\"scatter3d\"},{\"hovertemplate\":\"color=something<br>0=%{x}<br>1=%{y}<br>2=%{z}<extra></extra>\",\"legendgroup\":\"something\",\"marker\":{\"color\":\"#FF6692\",\"symbol\":\"circle\"},\"mode\":\"markers\",\"name\":\"something\",\"scene\":\"scene\",\"showlegend\":true,\"x\":[0.3416025936603546],\"y\":[-0.3900777995586395],\"z\":[0.37175452709198],\"type\":\"scatter3d\"},{\"hovertemplate\":\"color=out<br>0=%{x}<br>1=%{y}<br>2=%{z}<extra></extra>\",\"legendgroup\":\"out\",\"marker\":{\"color\":\"#B6E880\",\"symbol\":\"circle\"},\"mode\":\"markers\",\"name\":\"out\",\"scene\":\"scene\",\"showlegend\":true,\"x\":[-0.021821154281497],\"y\":[-0.4137454330921173],\"z\":[0.4811345040798187],\"type\":\"scatter3d\"},{\"hovertemplate\":\"color=could<br>0=%{x}<br>1=%{y}<br>2=%{z}<extra></extra>\",\"legendgroup\":\"could\",\"marker\":{\"color\":\"#FF97FF\",\"symbol\":\"circle\"},\"mode\":\"markers\",\"name\":\"could\",\"scene\":\"scene\",\"showlegend\":true,\"x\":[0.48129990696907043],\"y\":[-0.5237455368041992],\"z\":[0.40817826986312866],\"type\":\"scatter3d\"},{\"hovertemplate\":\"color=is<br>0=%{x}<br>1=%{y}<br>2=%{z}<extra></extra>\",\"legendgroup\":\"is\",\"marker\":{\"color\":\"#FECB52\",\"symbol\":\"circle\"},\"mode\":\"markers\",\"name\":\"is\",\"scene\":\"scene\",\"showlegend\":true,\"x\":[0.4793204963207245],\"y\":[-0.042021188884973526],\"z\":[0.1335083246231079],\"type\":\"scatter3d\"},{\"hovertemplate\":\"color=room<br>0=%{x}<br>1=%{y}<br>2=%{z}<extra></extra>\",\"legendgroup\":\"room\",\"marker\":{\"color\":\"#636efa\",\"symbol\":\"circle\"},\"mode\":\"markers\",\"name\":\"room\",\"scene\":\"scene\",\"showlegend\":true,\"x\":[-0.4475117027759552],\"y\":[0.062307488173246384],\"z\":[0.5393166542053223],\"type\":\"scatter3d\"},{\"hovertemplate\":\"color=why<br>0=%{x}<br>1=%{y}<br>2=%{z}<extra></extra>\",\"legendgroup\":\"why\",\"marker\":{\"color\":\"#EF553B\",\"symbol\":\"circle\"},\"mode\":\"markers\",\"name\":\"why\",\"scene\":\"scene\",\"showlegend\":true,\"x\":[0.34841135144233704],\"y\":[-0.06774038076400757],\"z\":[0.35939517617225647],\"type\":\"scatter3d\"},{\"hovertemplate\":\"color=in<br>0=%{x}<br>1=%{y}<br>2=%{z}<extra></extra>\",\"legendgroup\":\"in\",\"marker\":{\"color\":\"#00cc96\",\"symbol\":\"circle\"},\"mode\":\"markers\",\"name\":\"in\",\"scene\":\"scene\",\"showlegend\":true,\"x\":[-0.22187571227550507],\"y\":[-0.12380357086658478],\"z\":[0.4324575960636139],\"type\":\"scatter3d\"},{\"hovertemplate\":\"color=how<br>0=%{x}<br>1=%{y}<br>2=%{z}<extra></extra>\",\"legendgroup\":\"how\",\"marker\":{\"color\":\"#ab63fa\",\"symbol\":\"circle\"},\"mode\":\"markers\",\"name\":\"how\",\"scene\":\"scene\",\"showlegend\":true,\"x\":[0.4178800880908966],\"y\":[-0.1045229434967041],\"z\":[0.3860546052455902],\"type\":\"scatter3d\"},{\"hovertemplate\":\"color=wait<br>0=%{x}<br>1=%{y}<br>2=%{z}<extra></extra>\",\"legendgroup\":\"wait\",\"marker\":{\"color\":\"#FFA15A\",\"symbol\":\"circle\"},\"mode\":\"markers\",\"name\":\"wait\",\"scene\":\"scene\",\"showlegend\":true,\"x\":[0.23569519817829132],\"y\":[0.012314170598983765],\"z\":[0.4435502588748932],\"type\":\"scatter3d\"},{\"hovertemplate\":\"color=thing<br>0=%{x}<br>1=%{y}<br>2=%{z}<extra></extra>\",\"legendgroup\":\"thing\",\"marker\":{\"color\":\"#19d3f3\",\"symbol\":\"circle\"},\"mode\":\"markers\",\"name\":\"thing\",\"scene\":\"scene\",\"showlegend\":true,\"x\":[0.49519112706184387],\"y\":[-0.49693870544433594],\"z\":[0.13318336009979248],\"type\":\"scatter3d\"},{\"hovertemplate\":\"color=love<br>0=%{x}<br>1=%{y}<br>2=%{z}<extra></extra>\",\"legendgroup\":\"love\",\"marker\":{\"color\":\"#FF6692\",\"symbol\":\"circle\"},\"mode\":\"markers\",\"name\":\"love\",\"scene\":\"scene\",\"showlegend\":true,\"x\":[0.5371127724647522],\"y\":[-0.2405235320329666],\"z\":[0.22701586782932281],\"type\":\"scatter3d\"},{\"hovertemplate\":\"color=starts<br>0=%{x}<br>1=%{y}<br>2=%{z}<extra></extra>\",\"legendgroup\":\"starts\",\"marker\":{\"color\":\"#B6E880\",\"symbol\":\"circle\"},\"mode\":\"markers\",\"name\":\"starts\",\"scene\":\"scene\",\"showlegend\":true,\"x\":[-0.5232539772987366],\"y\":[-0.06985297054052353],\"z\":[0.37963980436325073],\"type\":\"scatter3d\"},{\"hovertemplate\":\"color=looks<br>0=%{x}<br>1=%{y}<br>2=%{z}<extra></extra>\",\"legendgroup\":\"looks\",\"marker\":{\"color\":\"#FF97FF\",\"symbol\":\"circle\"},\"mode\":\"markers\",\"name\":\"looks\",\"scene\":\"scene\",\"showlegend\":true,\"x\":[-0.17696267366409302],\"y\":[0.10693367570638657],\"z\":[0.30914026498794556],\"type\":\"scatter3d\"},{\"hovertemplate\":\"color=take<br>0=%{x}<br>1=%{y}<br>2=%{z}<extra></extra>\",\"legendgroup\":\"take\",\"marker\":{\"color\":\"#FECB52\",\"symbol\":\"circle\"},\"mode\":\"markers\",\"name\":\"take\",\"scene\":\"scene\",\"showlegend\":true,\"x\":[0.23444713652133942],\"y\":[-0.444859117269516],\"z\":[0.5205791592597961],\"type\":\"scatter3d\"},{\"hovertemplate\":\"color=still<br>0=%{x}<br>1=%{y}<br>2=%{z}<extra></extra>\",\"legendgroup\":\"still\",\"marker\":{\"color\":\"#636efa\",\"symbol\":\"circle\"},\"mode\":\"markers\",\"name\":\"still\",\"scene\":\"scene\",\"showlegend\":true,\"x\":[0.04366476833820343],\"y\":[-0.12393070012331009],\"z\":[0.2972975969314575],\"type\":\"scatter3d\"},{\"hovertemplate\":\"color=apartment<br>0=%{x}<br>1=%{y}<br>2=%{z}<extra></extra>\",\"legendgroup\":\"apartment\",\"marker\":{\"color\":\"#EF553B\",\"symbol\":\"circle\"},\"mode\":\"markers\",\"name\":\"apartment\",\"scene\":\"scene\",\"showlegend\":true,\"x\":[-0.4123825430870056],\"y\":[0.20026925206184387],\"z\":[0.4567205607891083],\"type\":\"scatter3d\"},{\"hovertemplate\":\"color=make<br>0=%{x}<br>1=%{y}<br>2=%{z}<extra></extra>\",\"legendgroup\":\"make\",\"marker\":{\"color\":\"#00cc96\",\"symbol\":\"circle\"},\"mode\":\"markers\",\"name\":\"make\",\"scene\":\"scene\",\"showlegend\":true,\"x\":[0.5316364169120789],\"y\":[-0.5368368029594421],\"z\":[0.3615168035030365],\"type\":\"scatter3d\"},{\"hovertemplate\":\"color=just<br>0=%{x}<br>1=%{y}<br>2=%{z}<extra></extra>\",\"legendgroup\":\"just\",\"marker\":{\"color\":\"#ab63fa\",\"symbol\":\"circle\"},\"mode\":\"markers\",\"name\":\"just\",\"scene\":\"scene\",\"showlegend\":true,\"x\":[0.5220476984977722],\"y\":[-0.4538310170173645],\"z\":[0.36454951763153076],\"type\":\"scatter3d\"},{\"hovertemplate\":\"color=maybe<br>0=%{x}<br>1=%{y}<br>2=%{z}<extra></extra>\",\"legendgroup\":\"maybe\",\"marker\":{\"color\":\"#FFA15A\",\"symbol\":\"circle\"},\"mode\":\"markers\",\"name\":\"maybe\",\"scene\":\"scene\",\"showlegend\":true,\"x\":[0.4763990044593811],\"y\":[-0.507391631603241],\"z\":[0.39178842306137085],\"type\":\"scatter3d\"},{\"hovertemplate\":\"color=way<br>0=%{x}<br>1=%{y}<br>2=%{z}<extra></extra>\",\"legendgroup\":\"way\",\"marker\":{\"color\":\"#19d3f3\",\"symbol\":\"circle\"},\"mode\":\"markers\",\"name\":\"way\",\"scene\":\"scene\",\"showlegend\":true,\"x\":[0.36385563015937805],\"y\":[-0.575181782245636],\"z\":[0.24262405931949615],\"type\":\"scatter3d\"},{\"hovertemplate\":\"color=again<br>0=%{x}<br>1=%{y}<br>2=%{z}<extra></extra>\",\"legendgroup\":\"again\",\"marker\":{\"color\":\"#FF6692\",\"symbol\":\"circle\"},\"mode\":\"markers\",\"name\":\"again\",\"scene\":\"scene\",\"showlegend\":true,\"x\":[-0.028222212567925453],\"y\":[-0.38163867592811584],\"z\":[0.4680401384830475],\"type\":\"scatter3d\"},{\"hovertemplate\":\"color=umm<br>0=%{x}<br>1=%{y}<br>2=%{z}<extra></extra>\",\"legendgroup\":\"umm\",\"marker\":{\"color\":\"#B6E880\",\"symbol\":\"circle\"},\"mode\":\"markers\",\"name\":\"umm\",\"scene\":\"scene\",\"showlegend\":true,\"x\":[0.6055370569229126],\"y\":[-0.23372146487236023],\"z\":[0.2743721604347229],\"type\":\"scatter3d\"},{\"hovertemplate\":\"color=man<br>0=%{x}<br>1=%{y}<br>2=%{z}<extra></extra>\",\"legendgroup\":\"man\",\"marker\":{\"color\":\"#FF97FF\",\"symbol\":\"circle\"},\"mode\":\"markers\",\"name\":\"man\",\"scene\":\"scene\",\"showlegend\":true,\"x\":[0.11579353362321854],\"y\":[-0.12383066862821579],\"z\":[0.06930936872959137],\"type\":\"scatter3d\"},{\"hovertemplate\":\"color=said<br>0=%{x}<br>1=%{y}<br>2=%{z}<extra></extra>\",\"legendgroup\":\"said\",\"marker\":{\"color\":\"#FECB52\",\"symbol\":\"circle\"},\"mode\":\"markers\",\"name\":\"said\",\"scene\":\"scene\",\"showlegend\":true,\"x\":[0.6671257615089417],\"y\":[-0.332308828830719],\"z\":[0.15859340131282806],\"type\":\"scatter3d\"},{\"hovertemplate\":\"color=phone<br>0=%{x}<br>1=%{y}<br>2=%{z}<extra></extra>\",\"legendgroup\":\"phone\",\"marker\":{\"color\":\"#636efa\",\"symbol\":\"circle\"},\"mode\":\"markers\",\"name\":\"phone\",\"scene\":\"scene\",\"showlegend\":true,\"x\":[-0.2296987622976303],\"y\":[0.2719265818595886],\"z\":[0.5700842142105103],\"type\":\"scatter3d\"},{\"hovertemplate\":\"color=two<br>0=%{x}<br>1=%{y}<br>2=%{z}<extra></extra>\",\"legendgroup\":\"two\",\"marker\":{\"color\":\"#EF553B\",\"symbol\":\"circle\"},\"mode\":\"markers\",\"name\":\"two\",\"scene\":\"scene\",\"showlegend\":true,\"x\":[0.11981157958507538],\"y\":[-0.6479673981666565],\"z\":[0.14092715084552765],\"type\":\"scatter3d\"},{\"hovertemplate\":\"color=us<br>0=%{x}<br>1=%{y}<br>2=%{z}<extra></extra>\",\"legendgroup\":\"us\",\"marker\":{\"color\":\"#00cc96\",\"symbol\":\"circle\"},\"mode\":\"markers\",\"name\":\"us\",\"scene\":\"scene\",\"showlegend\":true,\"x\":[0.5402935743331909],\"y\":[-0.5809026956558228],\"z\":[0.33833324909210205],\"type\":\"scatter3d\"},{\"hovertemplate\":\"color=enters<br>0=%{x}<br>1=%{y}<br>2=%{z}<extra></extra>\",\"legendgroup\":\"enters\",\"marker\":{\"color\":\"#ab63fa\",\"symbol\":\"circle\"},\"mode\":\"markers\",\"name\":\"enters\",\"scene\":\"scene\",\"showlegend\":true,\"x\":[-0.49609631299972534],\"y\":[0.47613951563835144],\"z\":[0.4613560736179352],\"type\":\"scatter3d\"},{\"hovertemplate\":\"color=huh<br>0=%{x}<br>1=%{y}<br>2=%{z}<extra></extra>\",\"legendgroup\":\"huh\",\"marker\":{\"color\":\"#FFA15A\",\"symbol\":\"circle\"},\"mode\":\"markers\",\"name\":\"huh\",\"scene\":\"scene\",\"showlegend\":true,\"x\":[0.38014474511146545],\"y\":[0.10350094735622406],\"z\":[0.1773473620414734],\"type\":\"scatter3d\"},{\"hovertemplate\":\"color=not<br>0=%{x}<br>1=%{y}<br>2=%{z}<extra></extra>\",\"legendgroup\":\"not\",\"marker\":{\"color\":\"#19d3f3\",\"symbol\":\"circle\"},\"mode\":\"markers\",\"name\":\"not\",\"scene\":\"scene\",\"showlegend\":true,\"x\":[0.4703058898448944],\"y\":[0.01114723365753889],\"z\":[0.16666795313358307],\"type\":\"scatter3d\"},{\"hovertemplate\":\"color=mr<br>0=%{x}<br>1=%{y}<br>2=%{z}<extra></extra>\",\"legendgroup\":\"mr\",\"marker\":{\"color\":\"#FF6692\",\"symbol\":\"circle\"},\"mode\":\"markers\",\"name\":\"mr\",\"scene\":\"scene\",\"showlegend\":true,\"x\":[-0.026099059730768204],\"y\":[0.17335566878318787],\"z\":[0.36912503838539124],\"type\":\"scatter3d\"},{\"hovertemplate\":\"color=around<br>0=%{x}<br>1=%{y}<br>2=%{z}<extra></extra>\",\"legendgroup\":\"around\",\"marker\":{\"color\":\"#B6E880\",\"symbol\":\"circle\"},\"mode\":\"markers\",\"name\":\"around\",\"scene\":\"scene\",\"showlegend\":true,\"x\":[-0.38575634360313416],\"y\":[-0.3464467525482178],\"z\":[0.33410030603408813],\"type\":\"scatter3d\"},{\"hovertemplate\":\"color=never<br>0=%{x}<br>1=%{y}<br>2=%{z}<extra></extra>\",\"legendgroup\":\"never\",\"marker\":{\"color\":\"#FF97FF\",\"symbol\":\"circle\"},\"mode\":\"markers\",\"name\":\"never\",\"scene\":\"scene\",\"showlegend\":true,\"x\":[0.5999892950057983],\"y\":[-0.5391616225242615],\"z\":[0.29827290773391724],\"type\":\"scatter3d\"},{\"hovertemplate\":\"color=much<br>0=%{x}<br>1=%{y}<br>2=%{z}<extra></extra>\",\"legendgroup\":\"much\",\"marker\":{\"color\":\"#FECB52\",\"symbol\":\"circle\"},\"mode\":\"markers\",\"name\":\"much\",\"scene\":\"scene\",\"showlegend\":true,\"x\":[0.6128332018852234],\"y\":[-0.30354368686676025],\"z\":[0.2735585868358612],\"type\":\"scatter3d\"},{\"hovertemplate\":\"color=are<br>0=%{x}<br>1=%{y}<br>2=%{z}<extra></extra>\",\"legendgroup\":\"are\",\"marker\":{\"color\":\"#636efa\",\"symbol\":\"circle\"},\"mode\":\"markers\",\"name\":\"are\",\"scene\":\"scene\",\"showlegend\":true,\"x\":[0.3984009325504303],\"y\":[0.20781239867210388],\"z\":[0.2862228751182556],\"type\":\"scatter3d\"},{\"hovertemplate\":\"color=entering<br>0=%{x}<br>1=%{y}<br>2=%{z}<extra></extra>\",\"legendgroup\":\"entering\",\"marker\":{\"color\":\"#EF553B\",\"symbol\":\"circle\"},\"mode\":\"markers\",\"name\":\"entering\",\"scene\":\"scene\",\"showlegend\":true,\"x\":[-0.20280228555202484],\"y\":[0.604293704032898],\"z\":[0.4459629952907562],\"type\":\"scatter3d\"},{\"hovertemplate\":\"color=sure<br>0=%{x}<br>1=%{y}<br>2=%{z}<extra></extra>\",\"legendgroup\":\"sure\",\"marker\":{\"color\":\"#00cc96\",\"symbol\":\"circle\"},\"mode\":\"markers\",\"name\":\"sure\",\"scene\":\"scene\",\"showlegend\":true,\"x\":[0.5923807621002197],\"y\":[0.08639892935752869],\"z\":[0.27669259905815125],\"type\":\"scatter3d\"},{\"hovertemplate\":\"color=big<br>0=%{x}<br>1=%{y}<br>2=%{z}<extra></extra>\",\"legendgroup\":\"big\",\"marker\":{\"color\":\"#ab63fa\",\"symbol\":\"circle\"},\"mode\":\"markers\",\"name\":\"big\",\"scene\":\"scene\",\"showlegend\":true,\"x\":[0.2297629714012146],\"y\":[-0.3685343861579895],\"z\":[0.11867141723632812],\"type\":\"scatter3d\"},{\"hovertemplate\":\"color=wanna<br>0=%{x}<br>1=%{y}<br>2=%{z}<extra></extra>\",\"legendgroup\":\"wanna\",\"marker\":{\"color\":\"#FFA15A\",\"symbol\":\"circle\"},\"mode\":\"markers\",\"name\":\"wanna\",\"scene\":\"scene\",\"showlegend\":true,\"x\":[0.46619856357574463],\"y\":[-0.35015061497688293],\"z\":[0.5387499332427979],\"type\":\"scatter3d\"},{\"hovertemplate\":\"color=thank<br>0=%{x}<br>1=%{y}<br>2=%{z}<extra></extra>\",\"legendgroup\":\"thank\",\"marker\":{\"color\":\"#19d3f3\",\"symbol\":\"circle\"},\"mode\":\"markers\",\"name\":\"thank\",\"scene\":\"scene\",\"showlegend\":true,\"x\":[0.301575243473053],\"y\":[0.3312532603740692],\"z\":[0.3748651146888733],\"type\":\"scatter3d\"},{\"hovertemplate\":\"color=goes<br>0=%{x}<br>1=%{y}<br>2=%{z}<extra></extra>\",\"legendgroup\":\"goes\",\"marker\":{\"color\":\"#FF6692\",\"symbol\":\"circle\"},\"mode\":\"markers\",\"name\":\"goes\",\"scene\":\"scene\",\"showlegend\":true,\"x\":[-0.495170921087265],\"y\":[0.003973845858126879],\"z\":[0.4859166443347931],\"type\":\"scatter3d\"},{\"hovertemplate\":\"color=wow<br>0=%{x}<br>1=%{y}<br>2=%{z}<extra></extra>\",\"legendgroup\":\"wow\",\"marker\":{\"color\":\"#B6E880\",\"symbol\":\"circle\"},\"mode\":\"markers\",\"name\":\"wow\",\"scene\":\"scene\",\"showlegend\":true,\"x\":[0.1896205097436905],\"y\":[0.40539970993995667],\"z\":[0.06358494609594345],\"type\":\"scatter3d\"},{\"hovertemplate\":\"color=people<br>0=%{x}<br>1=%{y}<br>2=%{z}<extra></extra>\",\"legendgroup\":\"people\",\"marker\":{\"color\":\"#FF97FF\",\"symbol\":\"circle\"},\"mode\":\"markers\",\"name\":\"people\",\"scene\":\"scene\",\"showlegend\":true,\"x\":[0.344417005777359],\"y\":[-0.6511112451553345],\"z\":[0.18412825465202332],\"type\":\"scatter3d\"},{\"hovertemplate\":\"color=away<br>0=%{x}<br>1=%{y}<br>2=%{z}<extra></extra>\",\"legendgroup\":\"away\",\"marker\":{\"color\":\"#FECB52\",\"symbol\":\"circle\"},\"mode\":\"markers\",\"name\":\"away\",\"scene\":\"scene\",\"showlegend\":true,\"x\":[-0.2667713761329651],\"y\":[-0.28125298023223877],\"z\":[0.47024863958358765],\"type\":\"scatter3d\"},{\"hovertemplate\":\"color=first<br>0=%{x}<br>1=%{y}<br>2=%{z}<extra></extra>\",\"legendgroup\":\"first\",\"marker\":{\"color\":\"#636efa\",\"symbol\":\"circle\"},\"mode\":\"markers\",\"name\":\"first\",\"scene\":\"scene\",\"showlegend\":true,\"x\":[0.36350226402282715],\"y\":[-0.5163803696632385],\"z\":[0.15723983943462372],\"type\":\"scatter3d\"},{\"hovertemplate\":\"color=believe<br>0=%{x}<br>1=%{y}<br>2=%{z}<extra></extra>\",\"legendgroup\":\"believe\",\"marker\":{\"color\":\"#EF553B\",\"symbol\":\"circle\"},\"mode\":\"markers\",\"name\":\"believe\",\"scene\":\"scene\",\"showlegend\":true,\"x\":[0.4233340620994568],\"y\":[-0.09579655528068542],\"z\":[0.3220101296901703],\"type\":\"scatter3d\"},{\"hovertemplate\":\"color=baby<br>0=%{x}<br>1=%{y}<br>2=%{z}<extra></extra>\",\"legendgroup\":\"baby\",\"marker\":{\"color\":\"#00cc96\",\"symbol\":\"circle\"},\"mode\":\"markers\",\"name\":\"baby\",\"scene\":\"scene\",\"showlegend\":true,\"x\":[0.312247097492218],\"y\":[-0.4514128863811493],\"z\":[0.17045804858207703],\"type\":\"scatter3d\"},{\"hovertemplate\":\"color=did<br>0=%{x}<br>1=%{y}<br>2=%{z}<extra></extra>\",\"legendgroup\":\"did\",\"marker\":{\"color\":\"#ab63fa\",\"symbol\":\"circle\"},\"mode\":\"markers\",\"name\":\"did\",\"scene\":\"scene\",\"showlegend\":true,\"x\":[0.41680899262428284],\"y\":[-0.11466372013092041],\"z\":[0.29413363337516785],\"type\":\"scatter3d\"},{\"hovertemplate\":\"color=who<br>0=%{x}<br>1=%{y}<br>2=%{z}<extra></extra>\",\"legendgroup\":\"who\",\"marker\":{\"color\":\"#FFA15A\",\"symbol\":\"circle\"},\"mode\":\"markers\",\"name\":\"who\",\"scene\":\"scene\",\"showlegend\":true,\"x\":[0.06512364745140076],\"y\":[-0.14654110372066498],\"z\":[0.12774619460105896],\"type\":\"scatter3d\"},{\"hovertemplate\":\"color=need<br>0=%{x}<br>1=%{y}<br>2=%{z}<extra></extra>\",\"legendgroup\":\"need\",\"marker\":{\"color\":\"#19d3f3\",\"symbol\":\"circle\"},\"mode\":\"markers\",\"name\":\"need\",\"scene\":\"scene\",\"showlegend\":true,\"x\":[0.5733761787414551],\"y\":[-0.33026808500289917],\"z\":[0.42041411995887756],\"type\":\"scatter3d\"},{\"hovertemplate\":\"color=mike<br>0=%{x}<br>1=%{y}<br>2=%{z}<extra></extra>\",\"legendgroup\":\"mike\",\"marker\":{\"color\":\"#FF6692\",\"symbol\":\"circle\"},\"mode\":\"markers\",\"name\":\"mike\",\"scene\":\"scene\",\"showlegend\":true,\"x\":[0.0008357237093150616],\"y\":[0.04255494475364685],\"z\":[0.2170455902814865],\"type\":\"scatter3d\"},{\"hovertemplate\":\"color=woman<br>0=%{x}<br>1=%{y}<br>2=%{z}<extra></extra>\",\"legendgroup\":\"woman\",\"marker\":{\"color\":\"#B6E880\",\"symbol\":\"circle\"},\"mode\":\"markers\",\"name\":\"woman\",\"scene\":\"scene\",\"showlegend\":true,\"x\":[-0.12365748733282089],\"y\":[-0.2493215650320053],\"z\":[0.040195055305957794],\"type\":\"scatter3d\"},{\"hovertemplate\":\"color=didn<br>0=%{x}<br>1=%{y}<br>2=%{z}<extra></extra>\",\"legendgroup\":\"didn\",\"marker\":{\"color\":\"#FF97FF\",\"symbol\":\"circle\"},\"mode\":\"markers\",\"name\":\"didn\",\"scene\":\"scene\",\"showlegend\":true,\"x\":[0.6489093899726868],\"y\":[-0.3516932725906372],\"z\":[0.30305489897727966],\"type\":\"scatter3d\"},{\"hovertemplate\":\"color=please<br>0=%{x}<br>1=%{y}<br>2=%{z}<extra></extra>\",\"legendgroup\":\"please\",\"marker\":{\"color\":\"#FECB52\",\"symbol\":\"circle\"},\"mode\":\"markers\",\"name\":\"please\",\"scene\":\"scene\",\"showlegend\":true,\"x\":[0.36652830243110657],\"y\":[-0.04473080858588219],\"z\":[0.5324403643608093],\"type\":\"scatter3d\"},{\"hovertemplate\":\"color=looking<br>0=%{x}<br>1=%{y}<br>2=%{z}<extra></extra>\",\"legendgroup\":\"looking\",\"marker\":{\"color\":\"#636efa\",\"symbol\":\"circle\"},\"mode\":\"markers\",\"name\":\"looking\",\"scene\":\"scene\",\"showlegend\":true,\"x\":[-0.30362191796302795],\"y\":[0.08459692448377609],\"z\":[0.20228606462478638],\"type\":\"scatter3d\"},{\"hovertemplate\":\"color=thought<br>0=%{x}<br>1=%{y}<br>2=%{z}<extra></extra>\",\"legendgroup\":\"thought\",\"marker\":{\"color\":\"#EF553B\",\"symbol\":\"circle\"},\"mode\":\"markers\",\"name\":\"thought\",\"scene\":\"scene\",\"showlegend\":true,\"x\":[0.6397038698196411],\"y\":[-0.44504374265670776],\"z\":[0.15856724977493286],\"type\":\"scatter3d\"},{\"hovertemplate\":\"color=too<br>0=%{x}<br>1=%{y}<br>2=%{z}<extra></extra>\",\"legendgroup\":\"too\",\"marker\":{\"color\":\"#00cc96\",\"symbol\":\"circle\"},\"mode\":\"markers\",\"name\":\"too\",\"scene\":\"scene\",\"showlegend\":true,\"x\":[0.6581264734268188],\"y\":[-0.13186855614185333],\"z\":[0.16902141273021698],\"type\":\"scatter3d\"},{\"hovertemplate\":\"color=talk<br>0=%{x}<br>1=%{y}<br>2=%{z}<extra></extra>\",\"legendgroup\":\"talk\",\"marker\":{\"color\":\"#ab63fa\",\"symbol\":\"circle\"},\"mode\":\"markers\",\"name\":\"talk\",\"scene\":\"scene\",\"showlegend\":true,\"x\":[0.48451876640319824],\"y\":[-0.21007199585437775],\"z\":[0.4443293511867523],\"type\":\"scatter3d\"},{\"hovertemplate\":\"color=walks<br>0=%{x}<br>1=%{y}<br>2=%{z}<extra></extra>\",\"legendgroup\":\"walks\",\"marker\":{\"color\":\"#FFA15A\",\"symbol\":\"circle\"},\"mode\":\"markers\",\"name\":\"walks\",\"scene\":\"scene\",\"showlegend\":true,\"x\":[-0.5765488743782043],\"y\":[0.16694003343582153],\"z\":[0.4686833918094635],\"type\":\"scatter3d\"},{\"hovertemplate\":\"color=give<br>0=%{x}<br>1=%{y}<br>2=%{z}<extra></extra>\",\"legendgroup\":\"give\",\"marker\":{\"color\":\"#19d3f3\",\"symbol\":\"circle\"},\"mode\":\"markers\",\"name\":\"give\",\"scene\":\"scene\",\"showlegend\":true,\"x\":[0.3444857597351074],\"y\":[-0.40311312675476074],\"z\":[0.4526773989200592],\"type\":\"scatter3d\"},{\"hovertemplate\":\"color=even<br>0=%{x}<br>1=%{y}<br>2=%{z}<extra></extra>\",\"legendgroup\":\"even\",\"marker\":{\"color\":\"#FF6692\",\"symbol\":\"circle\"},\"mode\":\"markers\",\"name\":\"even\",\"scene\":\"scene\",\"showlegend\":true,\"x\":[0.5740436911582947],\"y\":[-0.5582857131958008],\"z\":[0.186568483710289],\"type\":\"scatter3d\"},{\"hovertemplate\":\"color=ah<br>0=%{x}<br>1=%{y}<br>2=%{z}<extra></extra>\",\"legendgroup\":\"ah\",\"marker\":{\"color\":\"#B6E880\",\"symbol\":\"circle\"},\"mode\":\"markers\",\"name\":\"ah\",\"scene\":\"scene\",\"showlegend\":true,\"x\":[0.48712801933288574],\"y\":[0.006718787364661694],\"z\":[0.20843060314655304],\"type\":\"scatter3d\"},{\"hovertemplate\":\"color=cut<br>0=%{x}<br>1=%{y}<br>2=%{z}<extra></extra>\",\"legendgroup\":\"cut\",\"marker\":{\"color\":\"#FF97FF\",\"symbol\":\"circle\"},\"mode\":\"markers\",\"name\":\"cut\",\"scene\":\"scene\",\"showlegend\":true,\"x\":[-0.4470177888870239],\"y\":[0.2265864908695221],\"z\":[0.5114902853965759],\"type\":\"scatter3d\"},{\"hovertemplate\":\"color=fine<br>0=%{x}<br>1=%{y}<br>2=%{z}<extra></extra>\",\"legendgroup\":\"fine\",\"marker\":{\"color\":\"#FECB52\",\"symbol\":\"circle\"},\"mode\":\"markers\",\"name\":\"fine\",\"scene\":\"scene\",\"showlegend\":true,\"x\":[0.4991650879383087],\"y\":[0.05968273803591728],\"z\":[0.39577516913414],\"type\":\"scatter3d\"},{\"hovertemplate\":\"color=work<br>0=%{x}<br>1=%{y}<br>2=%{z}<extra></extra>\",\"legendgroup\":\"work\",\"marker\":{\"color\":\"#636efa\",\"symbol\":\"circle\"},\"mode\":\"markers\",\"name\":\"work\",\"scene\":\"scene\",\"showlegend\":true,\"x\":[0.5434682965278625],\"y\":[-0.5017426609992981],\"z\":[0.2600794732570648],\"type\":\"scatter3d\"},{\"hovertemplate\":\"color=actually<br>0=%{x}<br>1=%{y}<br>2=%{z}<extra></extra>\",\"legendgroup\":\"actually\",\"marker\":{\"color\":\"#EF553B\",\"symbol\":\"circle\"},\"mode\":\"markers\",\"name\":\"actually\",\"scene\":\"scene\",\"showlegend\":true,\"x\":[0.6618607044219971],\"y\":[-0.3407309949398041],\"z\":[0.07795584201812744],\"type\":\"scatter3d\"},{\"hovertemplate\":\"color=gets<br>0=%{x}<br>1=%{y}<br>2=%{z}<extra></extra>\",\"legendgroup\":\"gets\",\"marker\":{\"color\":\"#00cc96\",\"symbol\":\"circle\"},\"mode\":\"markers\",\"name\":\"gets\",\"scene\":\"scene\",\"showlegend\":true,\"x\":[-0.3871196210384369],\"y\":[-0.08719845861196518],\"z\":[0.3806840181350708],\"type\":\"scatter3d\"},{\"hovertemplate\":\"color=central<br>0=%{x}<br>1=%{y}<br>2=%{z}<extra></extra>\",\"legendgroup\":\"central\",\"marker\":{\"color\":\"#ab63fa\",\"symbol\":\"circle\"},\"mode\":\"markers\",\"name\":\"central\",\"scene\":\"scene\",\"showlegend\":true,\"x\":[-0.3035399317741394],\"y\":[0.3044988214969635],\"z\":[0.3251783549785614],\"type\":\"scatter3d\"},{\"hovertemplate\":\"color=new<br>0=%{x}<br>1=%{y}<br>2=%{z}<extra></extra>\",\"legendgroup\":\"new\",\"marker\":{\"color\":\"#FFA15A\",\"symbol\":\"circle\"},\"mode\":\"markers\",\"name\":\"new\",\"scene\":\"scene\",\"showlegend\":true,\"x\":[-0.047357652336359024],\"y\":[-0.3968867063522339],\"z\":[0.18972541391849518],\"type\":\"scatter3d\"},{\"hovertemplate\":\"color=um<br>0=%{x}<br>1=%{y}<br>2=%{z}<extra></extra>\",\"legendgroup\":\"um\",\"marker\":{\"color\":\"#19d3f3\",\"symbol\":\"circle\"},\"mode\":\"markers\",\"name\":\"um\",\"scene\":\"scene\",\"showlegend\":true,\"x\":[0.5637235045433044],\"y\":[-0.07604946196079254],\"z\":[0.2547524571418762],\"type\":\"scatter3d\"},{\"hovertemplate\":\"color=perk<br>0=%{x}<br>1=%{y}<br>2=%{z}<extra></extra>\",\"legendgroup\":\"perk\",\"marker\":{\"color\":\"#FF6692\",\"symbol\":\"circle\"},\"mode\":\"markers\",\"name\":\"perk\",\"scene\":\"scene\",\"showlegend\":true,\"x\":[-0.2810248136520386],\"y\":[0.3670649230480194],\"z\":[0.30719220638275146],\"type\":\"scatter3d\"},{\"hovertemplate\":\"color=geller<br>0=%{x}<br>1=%{y}<br>2=%{z}<extra></extra>\",\"legendgroup\":\"geller\",\"marker\":{\"color\":\"#B6E880\",\"symbol\":\"circle\"},\"mode\":\"markers\",\"name\":\"geller\",\"scene\":\"scene\",\"showlegend\":true,\"x\":[0.1291293054819107],\"y\":[0.08663583546876907],\"z\":[0.41638273000717163],\"type\":\"scatter3d\"},{\"hovertemplate\":\"color=night<br>0=%{x}<br>1=%{y}<br>2=%{z}<extra></extra>\",\"legendgroup\":\"night\",\"marker\":{\"color\":\"#FF97FF\",\"symbol\":\"circle\"},\"mode\":\"markers\",\"name\":\"night\",\"scene\":\"scene\",\"showlegend\":true,\"x\":[0.4068525433540344],\"y\":[-0.3848814070224762],\"z\":[0.1912071257829666],\"type\":\"scatter3d\"},{\"hovertemplate\":\"color=talking<br>0=%{x}<br>1=%{y}<br>2=%{z}<extra></extra>\",\"legendgroup\":\"talking\",\"marker\":{\"color\":\"#FECB52\",\"symbol\":\"circle\"},\"mode\":\"markers\",\"name\":\"talking\",\"scene\":\"scene\",\"showlegend\":true,\"x\":[0.24212417006492615],\"y\":[0.1566781997680664],\"z\":[0.22251665592193604],\"type\":\"scatter3d\"},{\"hovertemplate\":\"color=my<br>0=%{x}<br>1=%{y}<br>2=%{z}<extra></extra>\",\"legendgroup\":\"my\",\"marker\":{\"color\":\"#636efa\",\"symbol\":\"circle\"},\"mode\":\"markers\",\"name\":\"my\",\"scene\":\"scene\",\"showlegend\":true,\"x\":[0.15494601428508759],\"y\":[-0.06015606224536896],\"z\":[0.0803762674331665],\"type\":\"scatter3d\"},{\"hovertemplate\":\"color=getting<br>0=%{x}<br>1=%{y}<br>2=%{z}<extra></extra>\",\"legendgroup\":\"getting\",\"marker\":{\"color\":\"#EF553B\",\"symbol\":\"circle\"},\"mode\":\"markers\",\"name\":\"getting\",\"scene\":\"scene\",\"showlegend\":true,\"x\":[0.2553768754005432],\"y\":[-0.2361096292734146],\"z\":[0.365257203578949],\"type\":\"scatter3d\"},{\"hovertemplate\":\"color=head<br>0=%{x}<br>1=%{y}<br>2=%{z}<extra></extra>\",\"legendgroup\":\"head\",\"marker\":{\"color\":\"#00cc96\",\"symbol\":\"circle\"},\"mode\":\"markers\",\"name\":\"head\",\"scene\":\"scene\",\"showlegend\":true,\"x\":[-0.5028669834136963],\"y\":[-0.16617900133132935],\"z\":[0.2767828702926636],\"type\":\"scatter3d\"},{\"hovertemplate\":\"color=listen<br>0=%{x}<br>1=%{y}<br>2=%{z}<extra></extra>\",\"legendgroup\":\"listen\",\"marker\":{\"color\":\"#ab63fa\",\"symbol\":\"circle\"},\"mode\":\"markers\",\"name\":\"listen\",\"scene\":\"scene\",\"showlegend\":true,\"x\":[0.636523425579071],\"y\":[-0.005672551225870848],\"z\":[0.4468819499015808],\"type\":\"scatter3d\"},{\"hovertemplate\":\"color=anything<br>0=%{x}<br>1=%{y}<br>2=%{z}<extra></extra>\",\"legendgroup\":\"anything\",\"marker\":{\"color\":\"#FFA15A\",\"symbol\":\"circle\"},\"mode\":\"markers\",\"name\":\"anything\",\"scene\":\"scene\",\"showlegend\":true,\"x\":[0.663827121257782],\"y\":[-0.31897926330566406],\"z\":[0.30229926109313965],\"type\":\"scatter3d\"},{\"hovertemplate\":\"color=call<br>0=%{x}<br>1=%{y}<br>2=%{z}<extra></extra>\",\"legendgroup\":\"call\",\"marker\":{\"color\":\"#19d3f3\",\"symbol\":\"circle\"},\"mode\":\"markers\",\"name\":\"call\",\"scene\":\"scene\",\"showlegend\":true,\"x\":[0.40123793482780457],\"y\":[-0.24444454908370972],\"z\":[0.4745321571826935],\"type\":\"scatter3d\"},{\"hovertemplate\":\"color=nice<br>0=%{x}<br>1=%{y}<br>2=%{z}<extra></extra>\",\"legendgroup\":\"nice\",\"marker\":{\"color\":\"#FF6692\",\"symbol\":\"circle\"},\"mode\":\"markers\",\"name\":\"nice\",\"scene\":\"scene\",\"showlegend\":true,\"x\":[0.4958033859729767],\"y\":[-0.08130586892366409],\"z\":[0.1815010905265808],\"type\":\"scatter3d\"},{\"hovertemplate\":\"color=hands<br>0=%{x}<br>1=%{y}<br>2=%{z}<extra></extra>\",\"legendgroup\":\"hands\",\"marker\":{\"color\":\"#B6E880\",\"symbol\":\"circle\"},\"mode\":\"markers\",\"name\":\"hands\",\"scene\":\"scene\",\"showlegend\":true,\"x\":[-0.5537360310554504],\"y\":[-0.14213019609451294],\"z\":[0.2852287292480469],\"type\":\"scatter3d\"},{\"hovertemplate\":\"color=stuff<br>0=%{x}<br>1=%{y}<br>2=%{z}<extra></extra>\",\"legendgroup\":\"stuff\",\"marker\":{\"color\":\"#FF97FF\",\"symbol\":\"circle\"},\"mode\":\"markers\",\"name\":\"stuff\",\"scene\":\"scene\",\"showlegend\":true,\"x\":[0.5187085866928101],\"y\":[-0.5567203164100647],\"z\":[0.1845405250787735],\"type\":\"scatter3d\"},{\"hovertemplate\":\"color=rach<br>0=%{x}<br>1=%{y}<br>2=%{z}<extra></extra>\",\"legendgroup\":\"rach\",\"marker\":{\"color\":\"#FECB52\",\"symbol\":\"circle\"},\"mode\":\"markers\",\"name\":\"rach\",\"scene\":\"scene\",\"showlegend\":true,\"x\":[0.4082505702972412],\"y\":[0.22280244529247284],\"z\":[0.3593567907810211],\"type\":\"scatter3d\"},{\"hovertemplate\":\"color=pause<br>0=%{x}<br>1=%{y}<br>2=%{z}<extra></extra>\",\"legendgroup\":\"pause\",\"marker\":{\"color\":\"#636efa\",\"symbol\":\"circle\"},\"mode\":\"markers\",\"name\":\"pause\",\"scene\":\"scene\",\"showlegend\":true,\"x\":[0.5687936544418335],\"y\":[-0.1678515374660492],\"z\":[0.15771949291229248],\"type\":\"scatter3d\"},{\"hovertemplate\":\"color=last<br>0=%{x}<br>1=%{y}<br>2=%{z}<extra></extra>\",\"legendgroup\":\"last\",\"marker\":{\"color\":\"#EF553B\",\"symbol\":\"circle\"},\"mode\":\"markers\",\"name\":\"last\",\"scene\":\"scene\",\"showlegend\":true,\"x\":[0.29019665718078613],\"y\":[-0.4127834737300873],\"z\":[0.14788521826267242],\"type\":\"scatter3d\"},{\"hovertemplate\":\"color=thanks<br>0=%{x}<br>1=%{y}<br>2=%{z}<extra></extra>\",\"legendgroup\":\"thanks\",\"marker\":{\"color\":\"#00cc96\",\"symbol\":\"circle\"},\"mode\":\"markers\",\"name\":\"thanks\",\"scene\":\"scene\",\"showlegend\":true,\"x\":[0.2958950400352478],\"y\":[0.5476730465888977],\"z\":[0.18099503219127655],\"type\":\"scatter3d\"},{\"hovertemplate\":\"color=table<br>0=%{x}<br>1=%{y}<br>2=%{z}<extra></extra>\",\"legendgroup\":\"table\",\"marker\":{\"color\":\"#ab63fa\",\"symbol\":\"circle\"},\"mode\":\"markers\",\"name\":\"table\",\"scene\":\"scene\",\"showlegend\":true,\"x\":[-0.6679357886314392],\"y\":[-0.03788023814558983],\"z\":[0.3481881022453308],\"type\":\"scatter3d\"},{\"hovertemplate\":\"color=ya<br>0=%{x}<br>1=%{y}<br>2=%{z}<extra></extra>\",\"legendgroup\":\"ya\",\"marker\":{\"color\":\"#FFA15A\",\"symbol\":\"circle\"},\"mode\":\"markers\",\"name\":\"ya\",\"scene\":\"scene\",\"showlegend\":true,\"x\":[0.5290188193321228],\"y\":[-0.36718884110450745],\"z\":[0.3184973895549774],\"type\":\"scatter3d\"},{\"hovertemplate\":\"color=turns<br>0=%{x}<br>1=%{y}<br>2=%{z}<extra></extra>\",\"legendgroup\":\"turns\",\"marker\":{\"color\":\"#19d3f3\",\"symbol\":\"circle\"},\"mode\":\"markers\",\"name\":\"turns\",\"scene\":\"scene\",\"showlegend\":true,\"x\":[-0.42986488342285156],\"y\":[-0.029317576438188553],\"z\":[0.3864966928958893],\"type\":\"scatter3d\"},{\"hovertemplate\":\"color=feel<br>0=%{x}<br>1=%{y}<br>2=%{z}<extra></extra>\",\"legendgroup\":\"feel\",\"marker\":{\"color\":\"#FF6692\",\"symbol\":\"circle\"},\"mode\":\"markers\",\"name\":\"feel\",\"scene\":\"scene\",\"showlegend\":true,\"x\":[0.7018176317214966],\"y\":[-0.3479938805103302],\"z\":[0.1998303234577179],\"type\":\"scatter3d\"},{\"hovertemplate\":\"color=hand<br>0=%{x}<br>1=%{y}<br>2=%{z}<extra></extra>\",\"legendgroup\":\"hand\",\"marker\":{\"color\":\"#B6E880\",\"symbol\":\"circle\"},\"mode\":\"markers\",\"name\":\"hand\",\"scene\":\"scene\",\"showlegend\":true,\"x\":[-0.43021896481513977],\"y\":[-0.3435628414154053],\"z\":[0.2522585391998291],\"type\":\"scatter3d\"},{\"hovertemplate\":\"color=stop<br>0=%{x}<br>1=%{y}<br>2=%{z}<extra></extra>\",\"legendgroup\":\"stop\",\"marker\":{\"color\":\"#FF97FF\",\"symbol\":\"circle\"},\"mode\":\"markers\",\"name\":\"stop\",\"scene\":\"scene\",\"showlegend\":true,\"x\":[0.13719011843204498],\"y\":[-0.13457077741622925],\"z\":[0.4338283836841583],\"type\":\"scatter3d\"},{\"hovertemplate\":\"color=with<br>0=%{x}<br>1=%{y}<br>2=%{z}<extra></extra>\",\"legendgroup\":\"with\",\"marker\":{\"color\":\"#FECB52\",\"symbol\":\"circle\"},\"mode\":\"markers\",\"name\":\"with\",\"scene\":\"scene\",\"showlegend\":true,\"x\":[-0.13752178847789764],\"y\":[-0.1789061576128006],\"z\":[0.09343398362398148],\"type\":\"scatter3d\"},{\"hovertemplate\":\"color=day<br>0=%{x}<br>1=%{y}<br>2=%{z}<extra></extra>\",\"legendgroup\":\"day\",\"marker\":{\"color\":\"#636efa\",\"symbol\":\"circle\"},\"mode\":\"markers\",\"name\":\"day\",\"scene\":\"scene\",\"showlegend\":true,\"x\":[0.37086543440818787],\"y\":[-0.5440374612808228],\"z\":[0.09953656047582626],\"type\":\"scatter3d\"},{\"hovertemplate\":\"color=put<br>0=%{x}<br>1=%{y}<br>2=%{z}<extra></extra>\",\"legendgroup\":\"put\",\"marker\":{\"color\":\"#EF553B\",\"symbol\":\"circle\"},\"mode\":\"markers\",\"name\":\"put\",\"scene\":\"scene\",\"showlegend\":true,\"x\":[0.0313839353621006],\"y\":[-0.5331812500953674],\"z\":[0.4338700473308563],\"type\":\"scatter3d\"},{\"hovertemplate\":\"color=then<br>0=%{x}<br>1=%{y}<br>2=%{z}<extra></extra>\",\"legendgroup\":\"then\",\"marker\":{\"color\":\"#00cc96\",\"symbol\":\"circle\"},\"mode\":\"markers\",\"name\":\"then\",\"scene\":\"scene\",\"showlegend\":true,\"x\":[0.23262454569339752],\"y\":[-0.3940559923648834],\"z\":[0.2932826280593872],\"type\":\"scatter3d\"},{\"hovertemplate\":\"color=if<br>0=%{x}<br>1=%{y}<br>2=%{z}<extra></extra>\",\"legendgroup\":\"if\",\"marker\":{\"color\":\"#ab63fa\",\"symbol\":\"circle\"},\"mode\":\"markers\",\"name\":\"if\",\"scene\":\"scene\",\"showlegend\":true,\"x\":[0.505038857460022],\"y\":[-0.6034000515937805],\"z\":[0.387250691652298],\"type\":\"scatter3d\"},{\"hovertemplate\":\"color=mrs<br>0=%{x}<br>1=%{y}<br>2=%{z}<extra></extra>\",\"legendgroup\":\"mrs\",\"marker\":{\"color\":\"#FFA15A\",\"symbol\":\"circle\"},\"mode\":\"markers\",\"name\":\"mrs\",\"scene\":\"scene\",\"showlegend\":true,\"x\":[0.022954486310482025],\"y\":[0.2884671092033386],\"z\":[0.3145533502101898],\"type\":\"scatter3d\"},{\"hovertemplate\":\"color=ever<br>0=%{x}<br>1=%{y}<br>2=%{z}<extra></extra>\",\"legendgroup\":\"ever\",\"marker\":{\"color\":\"#19d3f3\",\"symbol\":\"circle\"},\"mode\":\"markers\",\"name\":\"ever\",\"scene\":\"scene\",\"showlegend\":true,\"x\":[0.5554818511009216],\"y\":[-0.5374308228492737],\"z\":[0.14448466897010803],\"type\":\"scatter3d\"},{\"hovertemplate\":\"color=them<br>0=%{x}<br>1=%{y}<br>2=%{z}<extra></extra>\",\"legendgroup\":\"them\",\"marker\":{\"color\":\"#FF6692\",\"symbol\":\"circle\"},\"mode\":\"markers\",\"name\":\"them\",\"scene\":\"scene\",\"showlegend\":true,\"x\":[0.07582727074623108],\"y\":[-0.38934534788131714],\"z\":[0.29461073875427246],\"type\":\"scatter3d\"},{\"hovertemplate\":\"color=dr<br>0=%{x}<br>1=%{y}<br>2=%{z}<extra></extra>\",\"legendgroup\":\"dr\",\"marker\":{\"color\":\"#B6E880\",\"symbol\":\"circle\"},\"mode\":\"markers\",\"name\":\"dr\",\"scene\":\"scene\",\"showlegend\":true,\"x\":[-0.16075800359249115],\"y\":[0.24689212441444397],\"z\":[0.20298661291599274],\"type\":\"scatter3d\"},{\"hovertemplate\":\"color=down<br>0=%{x}<br>1=%{y}<br>2=%{z}<extra></extra>\",\"legendgroup\":\"down\",\"marker\":{\"color\":\"#FF97FF\",\"symbol\":\"circle\"},\"mode\":\"markers\",\"name\":\"down\",\"scene\":\"scene\",\"showlegend\":true,\"x\":[-0.3402746021747589],\"y\":[-0.11828015744686127],\"z\":[0.5254344344139099],\"type\":\"scatter3d\"},{\"hovertemplate\":\"color=next<br>0=%{x}<br>1=%{y}<br>2=%{z}<extra></extra>\",\"legendgroup\":\"next\",\"marker\":{\"color\":\"#FECB52\",\"symbol\":\"circle\"},\"mode\":\"markers\",\"name\":\"next\",\"scene\":\"scene\",\"showlegend\":true,\"x\":[-0.34868329763412476],\"y\":[-0.2543449401855469],\"z\":[0.27970775961875916],\"type\":\"scatter3d\"},{\"hovertemplate\":\"color=leave<br>0=%{x}<br>1=%{y}<br>2=%{z}<extra></extra>\",\"legendgroup\":\"leave\",\"marker\":{\"color\":\"#636efa\",\"symbol\":\"circle\"},\"mode\":\"markers\",\"name\":\"leave\",\"scene\":\"scene\",\"showlegend\":true,\"x\":[0.016166701912879944],\"y\":[-0.049287110567092896],\"z\":[0.5400776863098145],\"type\":\"scatter3d\"},{\"hovertemplate\":\"color=gotta<br>0=%{x}<br>1=%{y}<br>2=%{z}<extra></extra>\",\"legendgroup\":\"gotta\",\"marker\":{\"color\":\"#EF553B\",\"symbol\":\"circle\"},\"mode\":\"markers\",\"name\":\"gotta\",\"scene\":\"scene\",\"showlegend\":true,\"x\":[0.48287951946258545],\"y\":[-0.18023493885993958],\"z\":[0.5091625452041626],\"type\":\"scatter3d\"},{\"hovertemplate\":\"color=everyone<br>0=%{x}<br>1=%{y}<br>2=%{z}<extra></extra>\",\"legendgroup\":\"everyone\",\"marker\":{\"color\":\"#00cc96\",\"symbol\":\"circle\"},\"mode\":\"markers\",\"name\":\"everyone\",\"scene\":\"scene\",\"showlegend\":true,\"x\":[-0.3319283425807953],\"y\":[0.052608609199523926],\"z\":[0.23082232475280762],\"type\":\"scatter3d\"},{\"hovertemplate\":\"color=ooh<br>0=%{x}<br>1=%{y}<br>2=%{z}<extra></extra>\",\"legendgroup\":\"ooh\",\"marker\":{\"color\":\"#ab63fa\",\"symbol\":\"circle\"},\"mode\":\"markers\",\"name\":\"ooh\",\"scene\":\"scene\",\"showlegend\":true,\"x\":[0.15107519924640656],\"y\":[0.2627359926700592],\"z\":[0.1402910351753235],\"type\":\"scatter3d\"},{\"hovertemplate\":\"color=alright<br>0=%{x}<br>1=%{y}<br>2=%{z}<extra></extra>\",\"legendgroup\":\"alright\",\"marker\":{\"color\":\"#FFA15A\",\"symbol\":\"circle\"},\"mode\":\"markers\",\"name\":\"alright\",\"scene\":\"scene\",\"showlegend\":true,\"x\":[0.2789365351200104],\"y\":[-0.013119694776833057],\"z\":[0.46358516812324524],\"type\":\"scatter3d\"},{\"hovertemplate\":\"color=start<br>0=%{x}<br>1=%{y}<br>2=%{z}<extra></extra>\",\"legendgroup\":\"start\",\"marker\":{\"color\":\"#19d3f3\",\"symbol\":\"circle\"},\"mode\":\"markers\",\"name\":\"start\",\"scene\":\"scene\",\"showlegend\":true,\"x\":[-0.12074846029281616],\"y\":[-0.4000486433506012],\"z\":[0.41797152161598206],\"type\":\"scatter3d\"},{\"hovertemplate\":\"color=together<br>0=%{x}<br>1=%{y}<br>2=%{z}<extra></extra>\",\"legendgroup\":\"together\",\"marker\":{\"color\":\"#FF6692\",\"symbol\":\"circle\"},\"mode\":\"markers\",\"name\":\"together\",\"scene\":\"scene\",\"showlegend\":true,\"x\":[0.4439350664615631],\"y\":[-0.6234869956970215],\"z\":[0.32589784264564514],\"type\":\"scatter3d\"},{\"hovertemplate\":\"color=girl<br>0=%{x}<br>1=%{y}<br>2=%{z}<extra></extra>\",\"legendgroup\":\"girl\",\"marker\":{\"color\":\"#B6E880\",\"symbol\":\"circle\"},\"mode\":\"markers\",\"name\":\"girl\",\"scene\":\"scene\",\"showlegend\":true,\"x\":[0.26642537117004395],\"y\":[-0.4202846586704254],\"z\":[-0.024133384227752686],\"type\":\"scatter3d\"},{\"hovertemplate\":\"color=another<br>0=%{x}<br>1=%{y}<br>2=%{z}<extra></extra>\",\"legendgroup\":\"another\",\"marker\":{\"color\":\"#FF97FF\",\"symbol\":\"circle\"},\"mode\":\"markers\",\"name\":\"another\",\"scene\":\"scene\",\"showlegend\":true,\"x\":[-0.20629461109638214],\"y\":[-0.5029902458190918],\"z\":[0.15840646624565125],\"type\":\"scatter3d\"},{\"hovertemplate\":\"color=nothing<br>0=%{x}<br>1=%{y}<br>2=%{z}<extra></extra>\",\"legendgroup\":\"nothing\",\"marker\":{\"color\":\"#FECB52\",\"symbol\":\"circle\"},\"mode\":\"markers\",\"name\":\"nothing\",\"scene\":\"scene\",\"showlegend\":true,\"x\":[0.5800939798355103],\"y\":[-0.11933015286922455],\"z\":[0.1494724005460739],\"type\":\"scatter3d\"},{\"hovertemplate\":\"color=someone<br>0=%{x}<br>1=%{y}<br>2=%{z}<extra></extra>\",\"legendgroup\":\"someone\",\"marker\":{\"color\":\"#636efa\",\"symbol\":\"circle\"},\"mode\":\"markers\",\"name\":\"someone\",\"scene\":\"scene\",\"showlegend\":true,\"x\":[0.272977739572525],\"y\":[-0.6180026531219482],\"z\":[0.21923765540122986],\"type\":\"scatter3d\"},{\"hovertemplate\":\"color=place<br>0=%{x}<br>1=%{y}<br>2=%{z}<extra></extra>\",\"legendgroup\":\"place\",\"marker\":{\"color\":\"#EF553B\",\"symbol\":\"circle\"},\"mode\":\"markers\",\"name\":\"place\",\"scene\":\"scene\",\"showlegend\":true,\"x\":[0.16370657086372375],\"y\":[-0.4869019687175751],\"z\":[0.15188539028167725],\"type\":\"scatter3d\"},{\"hovertemplate\":\"color=richard<br>0=%{x}<br>1=%{y}<br>2=%{z}<extra></extra>\",\"legendgroup\":\"richard\",\"marker\":{\"color\":\"#00cc96\",\"symbol\":\"circle\"},\"mode\":\"markers\",\"name\":\"richard\",\"scene\":\"scene\",\"showlegend\":true,\"x\":[0.12799502909183502],\"y\":[0.17435555160045624],\"z\":[0.1202174723148346],\"type\":\"scatter3d\"},{\"hovertemplate\":\"color=cause<br>0=%{x}<br>1=%{y}<br>2=%{z}<extra></extra>\",\"legendgroup\":\"cause\",\"marker\":{\"color\":\"#ab63fa\",\"symbol\":\"circle\"},\"mode\":\"markers\",\"name\":\"cause\",\"scene\":\"scene\",\"showlegend\":true,\"x\":[0.6517457962036133],\"y\":[-0.5349514484405518],\"z\":[0.19805364310741425],\"type\":\"scatter3d\"},{\"hovertemplate\":\"color=guess<br>0=%{x}<br>1=%{y}<br>2=%{z}<extra></extra>\",\"legendgroup\":\"guess\",\"marker\":{\"color\":\"#FFA15A\",\"symbol\":\"circle\"},\"mode\":\"markers\",\"name\":\"guess\",\"scene\":\"scene\",\"showlegend\":true,\"x\":[0.5488339066505432],\"y\":[-0.1791580617427826],\"z\":[0.2604815363883972],\"type\":\"scatter3d\"},{\"hovertemplate\":\"color=sitting<br>0=%{x}<br>1=%{y}<br>2=%{z}<extra></extra>\",\"legendgroup\":\"sitting\",\"marker\":{\"color\":\"#19d3f3\",\"symbol\":\"circle\"},\"mode\":\"markers\",\"name\":\"sitting\",\"scene\":\"scene\",\"showlegend\":true,\"x\":[-0.5285031199455261],\"y\":[0.21014295518398285],\"z\":[0.4121616780757904],\"type\":\"scatter3d\"},{\"hovertemplate\":\"color=break<br>0=%{x}<br>1=%{y}<br>2=%{z}<extra></extra>\",\"legendgroup\":\"break\",\"marker\":{\"color\":\"#FF6692\",\"symbol\":\"circle\"},\"mode\":\"markers\",\"name\":\"break\",\"scene\":\"scene\",\"showlegend\":true,\"x\":[-0.22682327032089233],\"y\":[0.13628420233726501],\"z\":[0.3967212736606598],\"type\":\"scatter3d\"},{\"hovertemplate\":\"color=trying<br>0=%{x}<br>1=%{y}<br>2=%{z}<extra></extra>\",\"legendgroup\":\"trying\",\"marker\":{\"color\":\"#B6E880\",\"symbol\":\"circle\"},\"mode\":\"markers\",\"name\":\"trying\",\"scene\":\"scene\",\"showlegend\":true,\"x\":[-0.07823589444160461],\"y\":[-0.3017726540565491],\"z\":[0.4329090416431427],\"type\":\"scatter3d\"},{\"hovertemplate\":\"color=bye<br>0=%{x}<br>1=%{y}<br>2=%{z}<extra></extra>\",\"legendgroup\":\"bye\",\"marker\":{\"color\":\"#FF97FF\",\"symbol\":\"circle\"},\"mode\":\"markers\",\"name\":\"bye\",\"scene\":\"scene\",\"showlegend\":true,\"x\":[0.023595482110977173],\"y\":[0.49836495518684387],\"z\":[0.37042978405952454],\"type\":\"scatter3d\"},{\"hovertemplate\":\"color=told<br>0=%{x}<br>1=%{y}<br>2=%{z}<extra></extra>\",\"legendgroup\":\"told\",\"marker\":{\"color\":\"#FECB52\",\"symbol\":\"circle\"},\"mode\":\"markers\",\"name\":\"told\",\"scene\":\"scene\",\"showlegend\":true,\"x\":[0.6992022395133972],\"y\":[-0.2820354998111725],\"z\":[0.14018051326274872],\"type\":\"scatter3d\"}],                        {\"template\":{\"data\":{\"histogram2dcontour\":[{\"type\":\"histogram2dcontour\",\"colorbar\":{\"outlinewidth\":0,\"ticks\":\"\"},\"colorscale\":[[0.0,\"#0d0887\"],[0.1111111111111111,\"#46039f\"],[0.2222222222222222,\"#7201a8\"],[0.3333333333333333,\"#9c179e\"],[0.4444444444444444,\"#bd3786\"],[0.5555555555555556,\"#d8576b\"],[0.6666666666666666,\"#ed7953\"],[0.7777777777777778,\"#fb9f3a\"],[0.8888888888888888,\"#fdca26\"],[1.0,\"#f0f921\"]]}],\"choropleth\":[{\"type\":\"choropleth\",\"colorbar\":{\"outlinewidth\":0,\"ticks\":\"\"}}],\"histogram2d\":[{\"type\":\"histogram2d\",\"colorbar\":{\"outlinewidth\":0,\"ticks\":\"\"},\"colorscale\":[[0.0,\"#0d0887\"],[0.1111111111111111,\"#46039f\"],[0.2222222222222222,\"#7201a8\"],[0.3333333333333333,\"#9c179e\"],[0.4444444444444444,\"#bd3786\"],[0.5555555555555556,\"#d8576b\"],[0.6666666666666666,\"#ed7953\"],[0.7777777777777778,\"#fb9f3a\"],[0.8888888888888888,\"#fdca26\"],[1.0,\"#f0f921\"]]}],\"heatmap\":[{\"type\":\"heatmap\",\"colorbar\":{\"outlinewidth\":0,\"ticks\":\"\"},\"colorscale\":[[0.0,\"#0d0887\"],[0.1111111111111111,\"#46039f\"],[0.2222222222222222,\"#7201a8\"],[0.3333333333333333,\"#9c179e\"],[0.4444444444444444,\"#bd3786\"],[0.5555555555555556,\"#d8576b\"],[0.6666666666666666,\"#ed7953\"],[0.7777777777777778,\"#fb9f3a\"],[0.8888888888888888,\"#fdca26\"],[1.0,\"#f0f921\"]]}],\"heatmapgl\":[{\"type\":\"heatmapgl\",\"colorbar\":{\"outlinewidth\":0,\"ticks\":\"\"},\"colorscale\":[[0.0,\"#0d0887\"],[0.1111111111111111,\"#46039f\"],[0.2222222222222222,\"#7201a8\"],[0.3333333333333333,\"#9c179e\"],[0.4444444444444444,\"#bd3786\"],[0.5555555555555556,\"#d8576b\"],[0.6666666666666666,\"#ed7953\"],[0.7777777777777778,\"#fb9f3a\"],[0.8888888888888888,\"#fdca26\"],[1.0,\"#f0f921\"]]}],\"contourcarpet\":[{\"type\":\"contourcarpet\",\"colorbar\":{\"outlinewidth\":0,\"ticks\":\"\"}}],\"contour\":[{\"type\":\"contour\",\"colorbar\":{\"outlinewidth\":0,\"ticks\":\"\"},\"colorscale\":[[0.0,\"#0d0887\"],[0.1111111111111111,\"#46039f\"],[0.2222222222222222,\"#7201a8\"],[0.3333333333333333,\"#9c179e\"],[0.4444444444444444,\"#bd3786\"],[0.5555555555555556,\"#d8576b\"],[0.6666666666666666,\"#ed7953\"],[0.7777777777777778,\"#fb9f3a\"],[0.8888888888888888,\"#fdca26\"],[1.0,\"#f0f921\"]]}],\"surface\":[{\"type\":\"surface\",\"colorbar\":{\"outlinewidth\":0,\"ticks\":\"\"},\"colorscale\":[[0.0,\"#0d0887\"],[0.1111111111111111,\"#46039f\"],[0.2222222222222222,\"#7201a8\"],[0.3333333333333333,\"#9c179e\"],[0.4444444444444444,\"#bd3786\"],[0.5555555555555556,\"#d8576b\"],[0.6666666666666666,\"#ed7953\"],[0.7777777777777778,\"#fb9f3a\"],[0.8888888888888888,\"#fdca26\"],[1.0,\"#f0f921\"]]}],\"mesh3d\":[{\"type\":\"mesh3d\",\"colorbar\":{\"outlinewidth\":0,\"ticks\":\"\"}}],\"scatter\":[{\"fillpattern\":{\"fillmode\":\"overlay\",\"size\":10,\"solidity\":0.2},\"type\":\"scatter\"}],\"parcoords\":[{\"type\":\"parcoords\",\"line\":{\"colorbar\":{\"outlinewidth\":0,\"ticks\":\"\"}}}],\"scatterpolargl\":[{\"type\":\"scatterpolargl\",\"marker\":{\"colorbar\":{\"outlinewidth\":0,\"ticks\":\"\"}}}],\"bar\":[{\"error_x\":{\"color\":\"#2a3f5f\"},\"error_y\":{\"color\":\"#2a3f5f\"},\"marker\":{\"line\":{\"color\":\"#E5ECF6\",\"width\":0.5},\"pattern\":{\"fillmode\":\"overlay\",\"size\":10,\"solidity\":0.2}},\"type\":\"bar\"}],\"scattergeo\":[{\"type\":\"scattergeo\",\"marker\":{\"colorbar\":{\"outlinewidth\":0,\"ticks\":\"\"}}}],\"scatterpolar\":[{\"type\":\"scatterpolar\",\"marker\":{\"colorbar\":{\"outlinewidth\":0,\"ticks\":\"\"}}}],\"histogram\":[{\"marker\":{\"pattern\":{\"fillmode\":\"overlay\",\"size\":10,\"solidity\":0.2}},\"type\":\"histogram\"}],\"scattergl\":[{\"type\":\"scattergl\",\"marker\":{\"colorbar\":{\"outlinewidth\":0,\"ticks\":\"\"}}}],\"scatter3d\":[{\"type\":\"scatter3d\",\"line\":{\"colorbar\":{\"outlinewidth\":0,\"ticks\":\"\"}},\"marker\":{\"colorbar\":{\"outlinewidth\":0,\"ticks\":\"\"}}}],\"scattermapbox\":[{\"type\":\"scattermapbox\",\"marker\":{\"colorbar\":{\"outlinewidth\":0,\"ticks\":\"\"}}}],\"scatterternary\":[{\"type\":\"scatterternary\",\"marker\":{\"colorbar\":{\"outlinewidth\":0,\"ticks\":\"\"}}}],\"scattercarpet\":[{\"type\":\"scattercarpet\",\"marker\":{\"colorbar\":{\"outlinewidth\":0,\"ticks\":\"\"}}}],\"carpet\":[{\"aaxis\":{\"endlinecolor\":\"#2a3f5f\",\"gridcolor\":\"white\",\"linecolor\":\"white\",\"minorgridcolor\":\"white\",\"startlinecolor\":\"#2a3f5f\"},\"baxis\":{\"endlinecolor\":\"#2a3f5f\",\"gridcolor\":\"white\",\"linecolor\":\"white\",\"minorgridcolor\":\"white\",\"startlinecolor\":\"#2a3f5f\"},\"type\":\"carpet\"}],\"table\":[{\"cells\":{\"fill\":{\"color\":\"#EBF0F8\"},\"line\":{\"color\":\"white\"}},\"header\":{\"fill\":{\"color\":\"#C8D4E3\"},\"line\":{\"color\":\"white\"}},\"type\":\"table\"}],\"barpolar\":[{\"marker\":{\"line\":{\"color\":\"#E5ECF6\",\"width\":0.5},\"pattern\":{\"fillmode\":\"overlay\",\"size\":10,\"solidity\":0.2}},\"type\":\"barpolar\"}],\"pie\":[{\"automargin\":true,\"type\":\"pie\"}]},\"layout\":{\"autotypenumbers\":\"strict\",\"colorway\":[\"#636efa\",\"#EF553B\",\"#00cc96\",\"#ab63fa\",\"#FFA15A\",\"#19d3f3\",\"#FF6692\",\"#B6E880\",\"#FF97FF\",\"#FECB52\"],\"font\":{\"color\":\"#2a3f5f\"},\"hovermode\":\"closest\",\"hoverlabel\":{\"align\":\"left\"},\"paper_bgcolor\":\"white\",\"plot_bgcolor\":\"#E5ECF6\",\"polar\":{\"bgcolor\":\"#E5ECF6\",\"angularaxis\":{\"gridcolor\":\"white\",\"linecolor\":\"white\",\"ticks\":\"\"},\"radialaxis\":{\"gridcolor\":\"white\",\"linecolor\":\"white\",\"ticks\":\"\"}},\"ternary\":{\"bgcolor\":\"#E5ECF6\",\"aaxis\":{\"gridcolor\":\"white\",\"linecolor\":\"white\",\"ticks\":\"\"},\"baxis\":{\"gridcolor\":\"white\",\"linecolor\":\"white\",\"ticks\":\"\"},\"caxis\":{\"gridcolor\":\"white\",\"linecolor\":\"white\",\"ticks\":\"\"}},\"coloraxis\":{\"colorbar\":{\"outlinewidth\":0,\"ticks\":\"\"}},\"colorscale\":{\"sequential\":[[0.0,\"#0d0887\"],[0.1111111111111111,\"#46039f\"],[0.2222222222222222,\"#7201a8\"],[0.3333333333333333,\"#9c179e\"],[0.4444444444444444,\"#bd3786\"],[0.5555555555555556,\"#d8576b\"],[0.6666666666666666,\"#ed7953\"],[0.7777777777777778,\"#fb9f3a\"],[0.8888888888888888,\"#fdca26\"],[1.0,\"#f0f921\"]],\"sequentialminus\":[[0.0,\"#0d0887\"],[0.1111111111111111,\"#46039f\"],[0.2222222222222222,\"#7201a8\"],[0.3333333333333333,\"#9c179e\"],[0.4444444444444444,\"#bd3786\"],[0.5555555555555556,\"#d8576b\"],[0.6666666666666666,\"#ed7953\"],[0.7777777777777778,\"#fb9f3a\"],[0.8888888888888888,\"#fdca26\"],[1.0,\"#f0f921\"]],\"diverging\":[[0,\"#8e0152\"],[0.1,\"#c51b7d\"],[0.2,\"#de77ae\"],[0.3,\"#f1b6da\"],[0.4,\"#fde0ef\"],[0.5,\"#f7f7f7\"],[0.6,\"#e6f5d0\"],[0.7,\"#b8e186\"],[0.8,\"#7fbc41\"],[0.9,\"#4d9221\"],[1,\"#276419\"]]},\"xaxis\":{\"gridcolor\":\"white\",\"linecolor\":\"white\",\"ticks\":\"\",\"title\":{\"standoff\":15},\"zerolinecolor\":\"white\",\"automargin\":true,\"zerolinewidth\":2},\"yaxis\":{\"gridcolor\":\"white\",\"linecolor\":\"white\",\"ticks\":\"\",\"title\":{\"standoff\":15},\"zerolinecolor\":\"white\",\"automargin\":true,\"zerolinewidth\":2},\"scene\":{\"xaxis\":{\"backgroundcolor\":\"#E5ECF6\",\"gridcolor\":\"white\",\"linecolor\":\"white\",\"showbackground\":true,\"ticks\":\"\",\"zerolinecolor\":\"white\",\"gridwidth\":2},\"yaxis\":{\"backgroundcolor\":\"#E5ECF6\",\"gridcolor\":\"white\",\"linecolor\":\"white\",\"showbackground\":true,\"ticks\":\"\",\"zerolinecolor\":\"white\",\"gridwidth\":2},\"zaxis\":{\"backgroundcolor\":\"#E5ECF6\",\"gridcolor\":\"white\",\"linecolor\":\"white\",\"showbackground\":true,\"ticks\":\"\",\"zerolinecolor\":\"white\",\"gridwidth\":2}},\"shapedefaults\":{\"line\":{\"color\":\"#2a3f5f\"}},\"annotationdefaults\":{\"arrowcolor\":\"#2a3f5f\",\"arrowhead\":0,\"arrowwidth\":1},\"geo\":{\"bgcolor\":\"white\",\"landcolor\":\"#E5ECF6\",\"subunitcolor\":\"white\",\"showland\":true,\"showlakes\":true,\"lakecolor\":\"white\"},\"title\":{\"x\":0.05},\"mapbox\":{\"style\":\"light\"}}},\"scene\":{\"domain\":{\"x\":[0.0,1.0],\"y\":[0.0,1.0]},\"xaxis\":{\"title\":{\"text\":\"0\"}},\"yaxis\":{\"title\":{\"text\":\"1\"}},\"zaxis\":{\"title\":{\"text\":\"2\"}}},\"legend\":{\"title\":{\"text\":\"color\"},\"tracegroupgap\":0},\"margin\":{\"t\":60}},                        {\"responsive\": true}                    ).then(function(){\n",
       "                            \n",
       "var gd = document.getElementById('1e971d19-8856-4e30-925b-258450764040');\n",
       "var x = new MutationObserver(function (mutations, observer) {{\n",
       "        var display = window.getComputedStyle(gd).display;\n",
       "        if (!display || display === 'none') {{\n",
       "            console.log([gd, 'removed!']);\n",
       "            Plotly.purge(gd);\n",
       "            observer.disconnect();\n",
       "        }}\n",
       "}});\n",
       "\n",
       "// Listen for the removal of the full notebook cells\n",
       "var notebookContainer = gd.closest('#notebook-container');\n",
       "if (notebookContainer) {{\n",
       "    x.observe(notebookContainer, {childList: true});\n",
       "}}\n",
       "\n",
       "// Listen for the clearing of the current output cell\n",
       "var outputEl = gd.closest('.output');\n",
       "if (outputEl) {{\n",
       "    x.observe(outputEl, {childList: true});\n",
       "}}\n",
       "\n",
       "                        })                };                });            </script>        </div>"
      ]
     },
     "metadata": {},
     "output_type": "display_data"
    }
   ],
   "source": [
    "import plotly.express as px\n",
    "fig = px.scatter_3d(X[:200],x=0,y=1,z=2, color=y[:200])\n",
    "fig.show()"
   ]
  },
  {
   "cell_type": "code",
   "execution_count": null,
   "id": "aa6c2b41",
   "metadata": {},
   "outputs": [],
   "source": []
  }
 ],
 "metadata": {
  "kernelspec": {
   "display_name": "Python 3 (ipykernel)",
   "language": "python",
   "name": "python3"
  },
  "language_info": {
   "codemirror_mode": {
    "name": "ipython",
    "version": 3
   },
   "file_extension": ".py",
   "mimetype": "text/x-python",
   "name": "python",
   "nbconvert_exporter": "python",
   "pygments_lexer": "ipython3",
   "version": "3.9.16"
  }
 },
 "nbformat": 4,
 "nbformat_minor": 5
}
